{
 "cells": [
  {
   "cell_type": "code",
   "execution_count": 1,
   "metadata": {
    "ExecuteTime": {
     "end_time": "2019-01-17T09:36:20.998860Z",
     "start_time": "2019-01-17T09:36:18.109875Z"
    }
   },
   "outputs": [],
   "source": [
    "from pyspark import SparkContext\n",
    "sc = SparkContext.getOrCreate()"
   ]
  },
  {
   "cell_type": "code",
   "execution_count": 2,
   "metadata": {
    "ExecuteTime": {
     "end_time": "2019-01-17T09:36:21.078386Z",
     "start_time": "2019-01-17T09:36:21.002107Z"
    }
   },
   "outputs": [],
   "source": [
    "from pyspark.sql import SparkSession\n",
    "ss = SparkSession.builder.getOrCreate()"
   ]
  },
  {
   "cell_type": "code",
   "execution_count": 3,
   "metadata": {
    "ExecuteTime": {
     "end_time": "2019-01-17T09:36:21.784171Z",
     "start_time": "2019-01-17T09:36:21.080730Z"
    }
   },
   "outputs": [],
   "source": [
    "sfpd_filename = \"data/sfpd.csv\"\n",
    "sfpd_rdd = sc.textFile(sfpd_filename)"
   ]
  },
  {
   "cell_type": "code",
   "execution_count": 4,
   "metadata": {
    "ExecuteTime": {
     "end_time": "2019-01-17T09:36:22.497417Z",
     "start_time": "2019-01-17T09:36:21.786643Z"
    }
   },
   "outputs": [
    {
     "data": {
      "text/plain": [
       "['unique_key',\n",
       " 'category',\n",
       " 'descript',\n",
       " 'dayofweek',\n",
       " 'pddistrict',\n",
       " 'resolution',\n",
       " 'address',\n",
       " 'longitude',\n",
       " 'latitude',\n",
       " 'location',\n",
       " 'pdid',\n",
       " 'timestamp']"
      ]
     },
     "execution_count": 4,
     "metadata": {},
     "output_type": "execute_result"
    }
   ],
   "source": [
    "# Get column list\n",
    "columns = sfpd_rdd.take(1)\n",
    "column_names_list = columns[0].split(\",\")\n",
    "column_names_list"
   ]
  },
  {
   "cell_type": "code",
   "execution_count": 5,
   "metadata": {
    "ExecuteTime": {
     "end_time": "2019-01-17T09:36:22.549058Z",
     "start_time": "2019-01-17T09:36:22.500119Z"
    }
   },
   "outputs": [
    {
     "data": {
      "text/plain": [
       "['166018573,LARCENY/THEFT,GRAND THEFT FROM LOCKED AUTO,Sunday,,NONE,100 Block of VELASCO AV,-122.4133519852842,37.70820245849022,\"(37.70820245849022, -122.4133519852842)\",16601857306244,2016-01-17 23:54:00+00:00',\n",
       " '160874408,DRIVING UNDER THE INFLUENCE,DRIVING WHILE UNDER THE INFLUENCE OF DRUGS,Thursday,PARK,NONE,DUBOCE AV / NOE ST,-122.43357509728241,37.769176747627725,\"(37.769176747627725, -122.43357509728241)\",16087440865060,2016-10-27 04:15:00+00:00',\n",
       " '120574836,ROBBERY,ATTEMPTED ROBBERY ON THE STREET WITH A KNIFE,Saturday,PARK,NONE,HAIGHT ST / DIVISADERO ST,-122.437048523435,37.7712678186367,\"(37.7712678186367, -122.437048523435)\",12057483603412,2012-07-21 05:55:00+00:00',\n",
       " '160573898,SECONDARY CODES,JUVENILE INVOLVED,Saturday,PARK,NONE,1200 Block of PAGE ST,-122.44139370111428,37.77172731417711,\"(37.77172731417711, -122.44139370111428)\",16057389815500,2016-07-16 11:15:00+00:00',\n",
       " '40502947,DRUG/NARCOTIC,POSSESSION OF COCAINE,Sunday,PARK,\"ARREST, BOOKED\",1300 Block of FULTON ST,-122.439037573428,37.7768021540039,\"(37.7768021540039, -122.439037573428)\",4050294716620,2004-05-02 11:59:00+00:00',\n",
       " '71089100,BURGLARY,\"BURGLARY OF RESIDENCE, UNLAWFUL ENTRY\",Tuesday,PARK,NONE,300 Block of PARNASSUS AV,-122.454996890694,37.7641615127899,\"(37.7641615127899, -122.454996890694)\",7108910005043,2007-10-23 07:50:00+00:00',\n",
       " '90467880,OTHER OFFENSES,POSSESSION OF BURGLARY TOOLS,Tuesday,PARK,\"ARREST, BOOKED\",OAK ST / BAKER ST,-122.440737118652,37.7727124660172,\"(37.7727124660172, -122.440737118652)\",9046788027130,2009-05-05 10:28:00+00:00',\n",
       " '120837076,VANDALISM,\"MALICIOUS MISCHIEF, GRAFFITI\",Tuesday,PARK,NONE,1800 Block of WALLER ST,-122.454330105396,37.7681530111159,\"(37.7681530111159, -122.454330105396)\",12083707628165,2012-01-17 15:00:00+00:00',\n",
       " '50198310,BURGLARY,\"BURGLARY OF STORE, FORCIBLE ENTRY\",Sunday,PARK,NONE,1200 Block of FELL ST,-122.438448613716,37.773898109311,\"(37.773898109311, -122.438448613716)\",5019831005051,2005-02-20 05:35:00+00:00',\n",
       " '140391870,DRUG/NARCOTIC,POSSESSION OF METH-AMPHETAMINE,Saturday,PARK,\"ARREST, BOOKED\",15TH ST / NOE ST,-122.433256948064,37.7658609302161,\"(37.7658609302161, -122.433256948064)\",14039187016650,2014-05-10 05:43:00+00:00']"
      ]
     },
     "execution_count": 5,
     "metadata": {},
     "output_type": "execute_result"
    }
   ],
   "source": [
    "# Load the data\n",
    "sfpd_data_rdd = sfpd_rdd.filter(lambda x: x.split(',')[0] != 'unique_key')\n",
    "sfpd_data_rdd.take(10)"
   ]
  },
  {
   "cell_type": "code",
   "execution_count": 6,
   "metadata": {
    "ExecuteTime": {
     "end_time": "2019-01-17T09:36:24.459546Z",
     "start_time": "2019-01-17T09:36:22.550764Z"
    }
   },
   "outputs": [
    {
     "data": {
      "text/plain": [
       "2170785"
      ]
     },
     "execution_count": 6,
     "metadata": {},
     "output_type": "execute_result"
    }
   ],
   "source": [
    "# total count\n",
    "sfpd_data_rdd.count()"
   ]
  },
  {
   "cell_type": "markdown",
   "metadata": {},
   "source": [
    "## Data Cleaning"
   ]
  },
  {
   "cell_type": "code",
   "execution_count": 7,
   "metadata": {
    "ExecuteTime": {
     "end_time": "2019-01-17T09:36:24.464316Z",
     "start_time": "2019-01-17T09:36:24.461584Z"
    }
   },
   "outputs": [],
   "source": [
    "# Clean the data\n",
    "sfpd_data_rdd = sfpd_data_rdd.map(lambda x: x.split(\",\", 2))"
   ]
  },
  {
   "cell_type": "code",
   "execution_count": 8,
   "metadata": {
    "ExecuteTime": {
     "end_time": "2019-01-17T09:36:34.616629Z",
     "start_time": "2019-01-17T09:36:24.466582Z"
    }
   },
   "outputs": [
    {
     "name": "stdout",
     "output_type": "stream",
     "text": [
      "166018573\n",
      "2170785\n",
      "1713368\n"
     ]
    }
   ],
   "source": [
    "print([int(x) for x in sfpd_data_rdd.map(lambda x: x[0]).collect()][0]) # test for unique_key\n",
    "print(sfpd_data_rdd.count())\n",
    "print(sfpd_data_rdd.map(lambda x: x[0]).distinct().count()) # The # of distinct key != # of rows"
   ]
  },
  {
   "cell_type": "code",
   "execution_count": 9,
   "metadata": {
    "ExecuteTime": {
     "end_time": "2019-01-17T09:36:37.353871Z",
     "start_time": "2019-01-17T09:36:34.619705Z"
    }
   },
   "outputs": [
    {
     "data": {
      "text/plain": [
       "['OTHER OFFENSES',\n",
       " 'DISORDERLY CONDUCT',\n",
       " 'PROSTITUTION',\n",
       " 'DRUG/NARCOTIC',\n",
       " 'VANDALISM',\n",
       " 'FRAUD',\n",
       " 'LIQUOR LAWS',\n",
       " 'GAMBLING',\n",
       " 'TREA',\n",
       " 'SECONDARY CODES',\n",
       " 'NON-CRIMINAL',\n",
       " 'KIDNAPPING',\n",
       " 'PORNOGRAPHY/OBSCENE MAT',\n",
       " 'STOLEN PROPERTY',\n",
       " 'DRUNKENNESS',\n",
       " 'BRIBERY',\n",
       " 'EMBEZZLEMENT',\n",
       " 'ARSON',\n",
       " 'TRESPASS',\n",
       " 'FORGERY/COUNTERFEITING',\n",
       " '\"SEX OFFENSES',\n",
       " 'LARCENY/THEFT',\n",
       " 'DRIVING UNDER THE INFLUENCE',\n",
       " 'FAMILY OFFENSES',\n",
       " 'LOITERING',\n",
       " 'BURGLARY',\n",
       " 'EXTORTION',\n",
       " 'MISSING PERSON',\n",
       " 'RUNAWAY',\n",
       " 'SUSPICIOUS OCC',\n",
       " 'WEAPON LAWS',\n",
       " 'BAD CHECKS',\n",
       " 'VEHICLE THEFT',\n",
       " 'SUICIDE',\n",
       " 'ROBBERY',\n",
       " 'RECOVERED VEHICLE',\n",
       " 'WARRANTS',\n",
       " 'ASSAULT']"
      ]
     },
     "execution_count": 9,
     "metadata": {},
     "output_type": "execute_result"
    }
   ],
   "source": [
    "sfpd_data_rdd.map(lambda x: x[1]).distinct().collect() # test for category"
   ]
  },
  {
   "cell_type": "code",
   "execution_count": 11,
   "metadata": {
    "ExecuteTime": {
     "end_time": "2019-01-17T09:36:41.180728Z",
     "start_time": "2019-01-17T09:36:41.174304Z"
    }
   },
   "outputs": [
    {
     "data": {
      "text/plain": [
       "['POSSESSION OF METH-AMPHETAMINE',\n",
       " 'Saturday',\n",
       " 'PARK,\"ARREST, BOOKED\",15TH ST / NOE ST,-122.433256948064,37.7658609302161,\"(37.7658609302161, -122.433256948064)\",14039187016650,2014-05-10 05:43:00+00:00']"
      ]
     },
     "execution_count": 11,
     "metadata": {},
     "output_type": "execute_result"
    }
   ],
   "source": [
    "weekdays = ['Monday', 'Tuesday', 'Wednesday', 'Thursday', 'Friday', 'Saturday', 'Sunday']\n",
    "\n",
    "def weekdaySplit(string):\n",
    "    for day in weekdays:\n",
    "        if day in string:\n",
    "            return([string[:string.find(day)-1], day, string[string.find(day)+len(day)+1:]])\n",
    "\n",
    "# Test\n",
    "testString = 'POSSESSION OF METH-AMPHETAMINE,Saturday,PARK,\"ARREST, BOOKED\",15TH ST / NOE ST,-122.433256948064,37.7658609302161,\"(37.7658609302161, -122.433256948064)\",14039187016650,2014-05-10 05:43:00+00:00'\n",
    "weekdaySplit(testString)           "
   ]
  },
  {
   "cell_type": "code",
   "execution_count": 12,
   "metadata": {
    "ExecuteTime": {
     "end_time": "2019-01-17T09:36:43.378219Z",
     "start_time": "2019-01-17T09:36:43.346982Z"
    }
   },
   "outputs": [
    {
     "data": {
      "text/plain": [
       "[['166018573',\n",
       "  'LARCENY/THEFT',\n",
       "  'GRAND THEFT FROM LOCKED AUTO',\n",
       "  'Sunday',\n",
       "  ',NONE,100 Block of VELASCO AV,-122.4133519852842,37.70820245849022,\"(37.70820245849022, -122.4133519852842)\",16601857306244,2016-01-17 23:54:00+00:00']]"
      ]
     },
     "execution_count": 12,
     "metadata": {},
     "output_type": "execute_result"
    }
   ],
   "source": [
    "# Clean to unique_id, category, descript, weekofday, others\n",
    "sfpd_data_rdd = sfpd_data_rdd.map(lambda x: [x[0], x[1], weekdaySplit(x[2])])\\\n",
    "                             .map(lambda x: [x[0], x[1], x[2][0], x[2][1], x[2][2]])\n",
    "sfpd_data_rdd.take(1)"
   ]
  },
  {
   "cell_type": "code",
   "execution_count": 13,
   "metadata": {
    "ExecuteTime": {
     "end_time": "2019-01-17T09:36:49.608893Z",
     "start_time": "2019-01-17T09:36:45.961741Z"
    }
   },
   "outputs": [
    {
     "data": {
      "text/plain": [
       "['Wednesday', 'Friday', 'Sunday', 'Saturday', 'Monday', 'Thursday', 'Tuesday']"
      ]
     },
     "execution_count": 13,
     "metadata": {},
     "output_type": "execute_result"
    }
   ],
   "source": [
    "sfpd_data_rdd.map(lambda x: x[3]).distinct().collect() # test for weekday"
   ]
  },
  {
   "cell_type": "code",
   "execution_count": 14,
   "metadata": {
    "ExecuteTime": {
     "end_time": "2019-01-17T09:36:53.366176Z",
     "start_time": "2019-01-17T09:36:49.611693Z"
    }
   },
   "outputs": [
    {
     "data": {
      "text/plain": [
       "[8, 9]"
      ]
     },
     "execution_count": 14,
     "metadata": {},
     "output_type": "execute_result"
    }
   ],
   "source": [
    "sfpd_data_rdd.map(lambda x: x[4].count(',')).distinct().collect() \n",
    "# [8, 9] indicate further cleaning"
   ]
  },
  {
   "cell_type": "code",
   "execution_count": 15,
   "metadata": {
    "ExecuteTime": {
     "end_time": "2019-01-17T09:36:55.999292Z",
     "start_time": "2019-01-17T09:36:55.994521Z"
    }
   },
   "outputs": [
    {
     "data": {
      "text/plain": [
       "['',\n",
       " 'BAYVIEW',\n",
       " 'CENTRAL',\n",
       " 'INGLESIDE',\n",
       " 'MISSION',\n",
       " 'NORTHERN',\n",
       " 'PARK',\n",
       " 'RICHMOND',\n",
       " 'SOUTHERN',\n",
       " 'TARAVAL',\n",
       " 'TENDERLOIN']"
      ]
     },
     "execution_count": 15,
     "metadata": {},
     "output_type": "execute_result"
    }
   ],
   "source": [
    "# Actual SF Police Department District\n",
    "sf_pd_district_list = ['', 'Central', 'Southern', 'Bayview', 'Mission', 'Northern',\n",
    "                       'Park', 'Richmond', 'Ingleside', 'Taraval', 'Tenderloin']\n",
    "sf_pd_district_list = sorted([pd.upper() for pd in sf_pd_district_list])\n",
    "sf_pd_district_list"
   ]
  },
  {
   "cell_type": "code",
   "execution_count": 16,
   "metadata": {
    "ExecuteTime": {
     "end_time": "2019-01-17T09:37:03.897516Z",
     "start_time": "2019-01-17T09:36:59.961170Z"
    }
   },
   "outputs": [
    {
     "data": {
      "text/plain": [
       "['',\n",
       " 'BAYVIEW',\n",
       " 'CENTRAL',\n",
       " 'INGLESIDE',\n",
       " 'MISSION',\n",
       " 'NORTHERN',\n",
       " 'PARK',\n",
       " 'RICHMOND',\n",
       " 'SOUTHERN',\n",
       " 'TARAVAL',\n",
       " 'TENDERLOIN']"
      ]
     },
     "execution_count": 16,
     "metadata": {},
     "output_type": "execute_result"
    }
   ],
   "source": [
    "sorted(sfpd_data_rdd.map(lambda x: x[4].split(',')[0]).distinct().collect()) # Test if pd is correct"
   ]
  },
  {
   "cell_type": "code",
   "execution_count": 17,
   "metadata": {
    "ExecuteTime": {
     "end_time": "2019-01-17T09:37:05.228467Z",
     "start_time": "2019-01-17T09:37:05.198840Z"
    }
   },
   "outputs": [
    {
     "data": {
      "text/plain": [
       "[['166018573',\n",
       "  'LARCENY/THEFT',\n",
       "  'GRAND THEFT FROM LOCKED AUTO',\n",
       "  'Sunday',\n",
       "  '',\n",
       "  'NONE,100 Block of VELASCO AV,-122.4133519852842,37.70820245849022,\"(37.70820245849022, -122.4133519852842)\",16601857306244,2016-01-17 23:54:00+00:00']]"
      ]
     },
     "execution_count": 17,
     "metadata": {},
     "output_type": "execute_result"
    }
   ],
   "source": [
    "# Clean to unique_id, category, descript, weekofday, pddistrict, others\n",
    "sfpd_data_rdd = sfpd_data_rdd.map(lambda x: [x[0], x[1], x[2], x[3],\n",
    "                                             x[4].split(',', 1)])\\\n",
    "                             .map(lambda x: [x[0], x[1], x[2], x[3],\n",
    "                                             x[4][0], x[4][1]])\n",
    "sfpd_data_rdd.take(1)"
   ]
  },
  {
   "cell_type": "code",
   "execution_count": 18,
   "metadata": {
    "ExecuteTime": {
     "end_time": "2019-01-17T09:37:14.244845Z",
     "start_time": "2019-01-17T09:37:09.804451Z"
    }
   },
   "outputs": [
    {
     "data": {
      "text/plain": [
       "[7, 8]"
      ]
     },
     "execution_count": 18,
     "metadata": {},
     "output_type": "execute_result"
    }
   ],
   "source": [
    "sfpd_data_rdd.map(lambda x: x[5].count(',')).distinct().collect() \n",
    "# [7, 8] indicate further cleaning"
   ]
  },
  {
   "cell_type": "code",
   "execution_count": 19,
   "metadata": {
    "ExecuteTime": {
     "end_time": "2019-01-17T09:37:17.641866Z",
     "start_time": "2019-01-17T09:37:17.609354Z"
    }
   },
   "outputs": [
    {
     "data": {
      "text/plain": [
       "[['166018573',\n",
       "  'LARCENY/THEFT',\n",
       "  'GRAND THEFT FROM LOCKED AUTO',\n",
       "  'Sunday',\n",
       "  '',\n",
       "  '37.70820245849022',\n",
       "  '-122.4133519852842',\n",
       "  '2016-01-17 23:54:00+00:00',\n",
       "  '100 Block of VELASCO AV',\n",
       "  ['NONE']],\n",
       " ['160874408',\n",
       "  'DRIVING UNDER THE INFLUENCE',\n",
       "  'DRIVING WHILE UNDER THE INFLUENCE OF DRUGS',\n",
       "  'Thursday',\n",
       "  'PARK',\n",
       "  '37.769176747627725',\n",
       "  '-122.43357509728241',\n",
       "  '2016-10-27 04:15:00+00:00',\n",
       "  'DUBOCE AV / NOE ST',\n",
       "  ['NONE']],\n",
       " ['120574836',\n",
       "  'ROBBERY',\n",
       "  'ATTEMPTED ROBBERY ON THE STREET WITH A KNIFE',\n",
       "  'Saturday',\n",
       "  'PARK',\n",
       "  '37.7712678186367',\n",
       "  '-122.437048523435',\n",
       "  '2012-07-21 05:55:00+00:00',\n",
       "  'HAIGHT ST / DIVISADERO ST',\n",
       "  ['NONE']],\n",
       " ['160573898',\n",
       "  'SECONDARY CODES',\n",
       "  'JUVENILE INVOLVED',\n",
       "  'Saturday',\n",
       "  'PARK',\n",
       "  '37.77172731417711',\n",
       "  '-122.44139370111428',\n",
       "  '2016-07-16 11:15:00+00:00',\n",
       "  '1200 Block of PAGE ST',\n",
       "  ['NONE']],\n",
       " ['40502947',\n",
       "  'DRUG/NARCOTIC',\n",
       "  'POSSESSION OF COCAINE',\n",
       "  'Sunday',\n",
       "  'PARK',\n",
       "  '37.7768021540039',\n",
       "  '-122.439037573428',\n",
       "  '2004-05-02 11:59:00+00:00',\n",
       "  '1300 Block of FULTON ST',\n",
       "  ['\"ARREST', ' BOOKED\"']],\n",
       " ['71089100',\n",
       "  'BURGLARY',\n",
       "  '\"BURGLARY OF RESIDENCE, UNLAWFUL ENTRY\"',\n",
       "  'Tuesday',\n",
       "  'PARK',\n",
       "  '37.7641615127899',\n",
       "  '-122.454996890694',\n",
       "  '2007-10-23 07:50:00+00:00',\n",
       "  '300 Block of PARNASSUS AV',\n",
       "  ['NONE']],\n",
       " ['90467880',\n",
       "  'OTHER OFFENSES',\n",
       "  'POSSESSION OF BURGLARY TOOLS',\n",
       "  'Tuesday',\n",
       "  'PARK',\n",
       "  '37.7727124660172',\n",
       "  '-122.440737118652',\n",
       "  '2009-05-05 10:28:00+00:00',\n",
       "  'OAK ST / BAKER ST',\n",
       "  ['\"ARREST', ' BOOKED\"']],\n",
       " ['120837076',\n",
       "  'VANDALISM',\n",
       "  '\"MALICIOUS MISCHIEF, GRAFFITI\"',\n",
       "  'Tuesday',\n",
       "  'PARK',\n",
       "  '37.7681530111159',\n",
       "  '-122.454330105396',\n",
       "  '2012-01-17 15:00:00+00:00',\n",
       "  '1800 Block of WALLER ST',\n",
       "  ['NONE']],\n",
       " ['50198310',\n",
       "  'BURGLARY',\n",
       "  '\"BURGLARY OF STORE, FORCIBLE ENTRY\"',\n",
       "  'Sunday',\n",
       "  'PARK',\n",
       "  '37.773898109311',\n",
       "  '-122.438448613716',\n",
       "  '2005-02-20 05:35:00+00:00',\n",
       "  '1200 Block of FELL ST',\n",
       "  ['NONE']],\n",
       " ['140391870',\n",
       "  'DRUG/NARCOTIC',\n",
       "  'POSSESSION OF METH-AMPHETAMINE',\n",
       "  'Saturday',\n",
       "  'PARK',\n",
       "  '37.7658609302161',\n",
       "  '-122.433256948064',\n",
       "  '2014-05-10 05:43:00+00:00',\n",
       "  '15TH ST / NOE ST',\n",
       "  ['\"ARREST', ' BOOKED\"']]]"
      ]
     },
     "execution_count": 19,
     "metadata": {},
     "output_type": "execute_result"
    }
   ],
   "source": [
    "# Clean to unique_id, category, descript, weekofday, pddistrict,\n",
    "# latitude, longitude, timestamp, address and resolution\n",
    "sfpd_data_rdd = sfpd_data_rdd.map(lambda x: [x[0], x[1], x[2], x[3], x[4],\n",
    "                                             x[5].split(\",\")])\\\n",
    "                             .map(lambda x: [x[0], x[1], x[2], x[3], x[4], \n",
    "                                             list(reversed(x[5]))])\\\n",
    "                             .map(lambda x: [x[0], x[1], x[2], x[3], x[4], \n",
    "                                             x[5][4], x[5][5], x[5][0], x[5][6], list(reversed(x[5][7:]))])\n",
    "sfpd_data_rdd.take(10)"
   ]
  },
  {
   "cell_type": "code",
   "execution_count": 20,
   "metadata": {
    "ExecuteTime": {
     "end_time": "2019-01-17T09:37:30.334093Z",
     "start_time": "2019-01-17T09:37:30.328753Z"
    }
   },
   "outputs": [
    {
     "name": "stdout",
     "output_type": "stream",
     "text": [
      "None\n",
      "<class 'str'>\n",
      "\"ARREST, BOOKED\"\n",
      "<class 'str'>\n"
     ]
    }
   ],
   "source": [
    "def resolutionTransform(alist):\n",
    "    if len(alist) == 2:\n",
    "        return \",\".join(alist)\n",
    "    else:\n",
    "        return alist[0]\n",
    "\n",
    "# test\n",
    "print(resolutionTransform(['None']))\n",
    "print(type(resolutionTransform(['None'])))\n",
    "print(resolutionTransform(['\"ARREST', ' BOOKED\"']))\n",
    "print(type(resolutionTransform(['\"ARREST', ' BOOKED\"'])))"
   ]
  },
  {
   "cell_type": "code",
   "execution_count": 21,
   "metadata": {
    "ExecuteTime": {
     "end_time": "2019-01-17T09:37:33.777258Z",
     "start_time": "2019-01-17T09:37:33.770785Z"
    }
   },
   "outputs": [
    {
     "name": "stdout",
     "output_type": "stream",
     "text": [
      "2016-01-17 23:54:00\n"
     ]
    }
   ],
   "source": [
    "def toFloatSafe(inval):\n",
    "  try:\n",
    "    return float(inval)\n",
    "  except ValueError:\n",
    "    return None\n",
    "\n",
    "from datetime import datetime\n",
    "def toTimeSafe(inval):\n",
    "  inval = inval.strip(\"\\\"\") # Timestamp starting and ending with a double quotation mark.\n",
    "  try:\n",
    "    return datetime.strptime(inval, \"%Y-%m-%d %H:%M:%S\")\n",
    "  except ValueError:\n",
    "    return None\n",
    "print(toTimeSafe('2016-01-17 23:54:00+00:00'[:-6]))"
   ]
  },
  {
   "cell_type": "code",
   "execution_count": 34,
   "metadata": {
    "ExecuteTime": {
     "end_time": "2019-01-17T09:43:48.370597Z",
     "start_time": "2019-01-17T09:43:48.321082Z"
    }
   },
   "outputs": [
    {
     "data": {
      "text/plain": [
       "[['166018573',\n",
       "  'LARCENY/THEFT',\n",
       "  'GRAND THEFT FROM LOCKED AUTO',\n",
       "  'Sunday',\n",
       "  '',\n",
       "  37.70820245849022,\n",
       "  -122.4133519852842,\n",
       "  datetime.datetime(2016, 1, 17, 23, 54),\n",
       "  '100 Block of VELASCO AV',\n",
       "  'NONE']]"
      ]
     },
     "execution_count": 34,
     "metadata": {},
     "output_type": "execute_result"
    }
   ],
   "source": [
    "# Finally, clean to unique_id, category, descript, weekofday, pddistrict,\n",
    "# latitude, longitude, timestamp, address and resolution\n",
    "sfpd_data_rdd = sfpd_data_rdd.map(lambda x: [x[0], x[1], x[2], x[3], x[4],\n",
    "                                             float(x[5]), float(x[6]), \n",
    "                                             toTimeSafe(x[7][:-6]), x[8], resolutionTransform(x[9])])\n",
    "sfpd_data_rdd.take(1)"
   ]
  },
  {
   "cell_type": "markdown",
   "metadata": {
    "ExecuteTime": {
     "end_time": "2019-01-17T09:43:39.797978Z",
     "start_time": "2019-01-17T09:43:39.756882Z"
    }
   },
   "source": [
    "# Create DataFrame"
   ]
  },
  {
   "cell_type": "code",
   "execution_count": 35,
   "metadata": {
    "ExecuteTime": {
     "end_time": "2019-01-17T09:48:08.604638Z",
     "start_time": "2019-01-17T09:48:08.599493Z"
    }
   },
   "outputs": [],
   "source": [
    "from pyspark.sql.types import *\n",
    "schema = StructType([ StructField(\"unique_key\", StringType(), False),\n",
    "                      StructField(\"category\", StringType(), True),\n",
    "                      StructField(\"descript\", StringType(), True),\n",
    "                      StructField(\"dayofweek\", StringType(), True),\n",
    "                      StructField(\"pddistrict\", StringType(), True),\n",
    "                      StructField(\"latitude\", FloatType(), True),\n",
    "                      StructField(\"longitude\", FloatType(), True),\n",
    "                      StructField(\"timestamp\", TimestampType(), True),\n",
    "                      StructField(\"address\", StringType(), True),\n",
    "                      StructField(\"resolution\", StringType(), True)\n",
    "                    ])"
   ]
  },
  {
   "cell_type": "code",
   "execution_count": 45,
   "metadata": {
    "ExecuteTime": {
     "end_time": "2019-01-17T09:52:33.865942Z",
     "start_time": "2019-01-17T09:52:33.624862Z"
    }
   },
   "outputs": [
    {
     "name": "stdout",
     "output_type": "stream",
     "text": [
      "+----------+--------------------+--------------------+---------+----------+---------+----------+-------------------+--------------------+----------------+\n",
      "|unique_key|            category|            descript|dayofweek|pddistrict| latitude| longitude|          timestamp|             address|      resolution|\n",
      "+----------+--------------------+--------------------+---------+----------+---------+----------+-------------------+--------------------+----------------+\n",
      "| 166018573|       LARCENY/THEFT|GRAND THEFT FROM ...|   Sunday|          |37.708202|-122.41335|2016-01-17 23:54:00|100 Block of VELA...|            NONE|\n",
      "| 160874408|DRIVING UNDER THE...|DRIVING WHILE UND...| Thursday|      PARK|37.769176|-122.43358|2016-10-27 04:15:00|  DUBOCE AV / NOE ST|            NONE|\n",
      "| 120574836|             ROBBERY|ATTEMPTED ROBBERY...| Saturday|      PARK|37.771267|-122.43705|2012-07-21 05:55:00|HAIGHT ST / DIVIS...|            NONE|\n",
      "| 160573898|     SECONDARY CODES|   JUVENILE INVOLVED| Saturday|      PARK| 37.77173|-122.44139|2016-07-16 11:15:00|1200 Block of PAG...|            NONE|\n",
      "|  40502947|       DRUG/NARCOTIC|POSSESSION OF COC...|   Sunday|      PARK|37.776802|-122.43904|2004-05-02 11:59:00|1300 Block of FUL...|\"ARREST, BOOKED\"|\n",
      "+----------+--------------------+--------------------+---------+----------+---------+----------+-------------------+--------------------+----------------+\n",
      "only showing top 5 rows\n",
      "\n"
     ]
    }
   ],
   "source": [
    "ss.createDataFrame(sfpd_data_rdd, schema).show(5)"
   ]
  },
  {
   "cell_type": "code",
   "execution_count": null,
   "metadata": {},
   "outputs": [],
   "source": []
  }
 ],
 "metadata": {
  "kernelspec": {
   "display_name": "Python 3",
   "language": "python",
   "name": "python3"
  },
  "language_info": {
   "codemirror_mode": {
    "name": "ipython",
    "version": 3
   },
   "file_extension": ".py",
   "mimetype": "text/x-python",
   "name": "python",
   "nbconvert_exporter": "python",
   "pygments_lexer": "ipython3",
   "version": "3.6.6"
  }
 },
 "nbformat": 4,
 "nbformat_minor": 2
}
