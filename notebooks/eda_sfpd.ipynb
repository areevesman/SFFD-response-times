{
 "cells": [
  {
   "cell_type": "code",
   "execution_count": 299,
   "metadata": {},
   "outputs": [],
   "source": [
    "import pyspark\n",
    "from pyspark.sql.types import *\n",
    "import os\n",
    "import boto3\n",
    "import numpy as np\n",
    "from pyspark.sql.functions import *"
   ]
  },
  {
   "cell_type": "code",
   "execution_count": 2,
   "metadata": {},
   "outputs": [],
   "source": [
    "sc = pyspark.SparkContext.getOrCreate()\n",
    "ss = pyspark.sql.SparkSession.builder.getOrCreate()"
   ]
  },
  {
   "cell_type": "code",
   "execution_count": 3,
   "metadata": {},
   "outputs": [],
   "source": [
    "bucket_name = 'msds697jonross.and.friends' # Add your bucket name\n",
    "file_name = 'sfpd.csv' # select file\n",
    "s3 = boto3.resource('s3')\n",
    "bucket = s3.Bucket(bucket_name) \n",
    "obj = bucket.Object(key=file_name) # S3 uses key-value structure where key is your file name\n",
    "file_content = obj.get()[\"Body\"].read().decode(\"utf-8\") # Read the Body which is the contents of the file."
   ]
  },
  {
   "cell_type": "code",
   "execution_count": 4,
   "metadata": {},
   "outputs": [
    {
     "data": {
      "text/plain": [
       "2170785"
      ]
     },
     "execution_count": 4,
     "metadata": {},
     "output_type": "execute_result"
    }
   ],
   "source": [
    "# number of rows (subract header and empty line at end)\n",
    "rows = file_content.split('\\n')\n",
    "len(rows)-2"
   ]
  },
  {
   "cell_type": "code",
   "execution_count": 63,
   "metadata": {},
   "outputs": [
    {
     "data": {
      "text/plain": [
       "['unique_key,category,descript,dayofweek,pddistrict,resolution,address,longitude,latitude,location,pdid,timestamp',\n",
       " '166018573,LARCENY/THEFT,GRAND THEFT FROM LOCKED AUTO,Sunday,,NONE,100 Block of VELASCO AV,-122.4133519852842,37.70820245849022,\"(37.70820245849022, -122.4133519852842)\",16601857306244,2016-01-17 23:54:00+00:00',\n",
       " '160874408,DRIVING UNDER THE INFLUENCE,DRIVING WHILE UNDER THE INFLUENCE OF DRUGS,Thursday,PARK,NONE,DUBOCE AV / NOE ST,-122.43357509728241,37.769176747627725,\"(37.769176747627725, -122.43357509728241)\",16087440865060,2016-10-27 04:15:00+00:00',\n",
       " '120574836,ROBBERY,ATTEMPTED ROBBERY ON THE STREET WITH A KNIFE,Saturday,PARK,NONE,HAIGHT ST / DIVISADERO ST,-122.437048523435,37.7712678186367,\"(37.7712678186367, -122.437048523435)\",12057483603412,2012-07-21 05:55:00+00:00',\n",
       " '160573898,SECONDARY CODES,JUVENILE INVOLVED,Saturday,PARK,NONE,1200 Block of PAGE ST,-122.44139370111428,37.77172731417711,\"(37.77172731417711, -122.44139370111428)\",16057389815500,2016-07-16 11:15:00+00:00',\n",
       " '40502947,DRUG/NARCOTIC,POSSESSION OF COCAINE,Sunday,PARK,\"ARREST, BOOKED\",1300 Block of FULTON ST,-122.439037573428,37.7768021540039,\"(37.7768021540039, -122.439037573428)\",4050294716620,2004-05-02 11:59:00+00:00',\n",
       " '71089100,BURGLARY,\"BURGLARY OF RESIDENCE, UNLAWFUL ENTRY\",Tuesday,PARK,NONE,300 Block of PARNASSUS AV,-122.454996890694,37.7641615127899,\"(37.7641615127899, -122.454996890694)\",7108910005043,2007-10-23 07:50:00+00:00',\n",
       " '90467880,OTHER OFFENSES,POSSESSION OF BURGLARY TOOLS,Tuesday,PARK,\"ARREST, BOOKED\",OAK ST / BAKER ST,-122.440737118652,37.7727124660172,\"(37.7727124660172, -122.440737118652)\",9046788027130,2009-05-05 10:28:00+00:00',\n",
       " '120837076,VANDALISM,\"MALICIOUS MISCHIEF, GRAFFITI\",Tuesday,PARK,NONE,1800 Block of WALLER ST,-122.454330105396,37.7681530111159,\"(37.7681530111159, -122.454330105396)\",12083707628165,2012-01-17 15:00:00+00:00',\n",
       " '50198310,BURGLARY,\"BURGLARY OF STORE, FORCIBLE ENTRY\",Sunday,PARK,NONE,1200 Block of FELL ST,-122.438448613716,37.773898109311,\"(37.773898109311, -122.438448613716)\",5019831005051,2005-02-20 05:35:00+00:00']"
      ]
     },
     "execution_count": 63,
     "metadata": {},
     "output_type": "execute_result"
    }
   ],
   "source": [
    "rows[:10]"
   ]
  },
  {
   "cell_type": "code",
   "execution_count": 47,
   "metadata": {},
   "outputs": [
    {
     "data": {
      "text/plain": [
       "12"
      ]
     },
     "execution_count": 47,
     "metadata": {},
     "output_type": "execute_result"
    }
   ],
   "source": [
    "# number of  columns\n",
    "column_names = rows[0]\n",
    "len(column_names.split(','))"
   ]
  },
  {
   "cell_type": "code",
   "execution_count": 48,
   "metadata": {},
   "outputs": [
    {
     "name": "stdout",
     "output_type": "stream",
     "text": [
      "unique_key   category   descript   dayofweek   pddistrict   resolution   address   longitude   latitude   location   pdid   timestamp\n"
     ]
    }
   ],
   "source": [
    "print('   '.join(x for x in column_names.split(',')))"
   ]
  },
  {
   "cell_type": "code",
   "execution_count": 49,
   "metadata": {},
   "outputs": [
    {
     "data": {
      "text/plain": [
       "array(['61110088,LARCENY/THEFT,GRAND THEFT FROM LOCKED AUTO,Tuesday,CENTRAL,NONE,STOCKTON ST / SACRAMENTO ST,-122.407729769991,37.7931773025837,\"(37.7931773025837, -122.407729769991)\",6111008806244,2006-10-17 17:20:00+00:00',\n",
       "       '30891346,OTHER OFFENSES,\"DRIVERS LICENSE, SUSPENDED OR REVOKED\",Monday,MISSION,\"ARREST, CITED\",16TH ST / VALENCIA ST,-122.421886357989,37.7649178909469,\"(37.7649178909469, -122.421886357989)\",3089134665016,2003-07-28 02:33:00+00:00'],\n",
       "      dtype='<U286')"
      ]
     },
     "execution_count": 49,
     "metadata": {},
     "output_type": "execute_result"
    }
   ],
   "source": [
    "# randomly sample rows\n",
    "sz=10000\n",
    "samples = np.random.choice(rows[1:], size=sz, replace=False)\n",
    "samples[:2]"
   ]
  },
  {
   "cell_type": "code",
   "execution_count": 250,
   "metadata": {},
   "outputs": [],
   "source": [
    "def map_police(x):\n",
    "    my_str = ''\n",
    "    stg1 = x.split(',\"')\n",
    "    part_1 = stg1[0]\n",
    "    my_str = my_str + part_1\n",
    "    stg2 = [x.split('\",') for x in stg1[1:]]\n",
    "    for i in range(len(stg2)):\n",
    "        new = stg2[i][0].replace(',',';')\n",
    "        my_str = my_str + ',' + new\n",
    "        for j in range(len(stg2[i])-1):\n",
    "            new = new = stg2[i][j+1]\n",
    "            my_str = my_str + ',' + new\n",
    "    return my_str.split(',')\n",
    "\n",
    "\n",
    "def float_safe_police(row):\n",
    "    try:\n",
    "        row[7] = float(row[7])\n",
    "    except ValueError:\n",
    "        row[7] =  None\n",
    "    try:\n",
    "        row[8] = float(row[8])\n",
    "    except ValueError:\n",
    "        row[8] =  None\n",
    "    return row"
   ]
  },
  {
   "cell_type": "code",
   "execution_count": 251,
   "metadata": {},
   "outputs": [
    {
     "data": {
      "text/plain": [
       "[['61110088',\n",
       "  'LARCENY/THEFT',\n",
       "  'GRAND THEFT FROM LOCKED AUTO',\n",
       "  'Tuesday',\n",
       "  'CENTRAL',\n",
       "  'NONE',\n",
       "  'STOCKTON ST / SACRAMENTO ST',\n",
       "  -122.407729769991,\n",
       "  37.7931773025837,\n",
       "  '(37.7931773025837; -122.407729769991)',\n",
       "  '6111008806244',\n",
       "  '2006-10-17 17:20:00+00:00'],\n",
       " ['30891346',\n",
       "  'OTHER OFFENSES',\n",
       "  'DRIVERS LICENSE; SUSPENDED OR REVOKED',\n",
       "  'Monday',\n",
       "  'MISSION',\n",
       "  'ARREST; CITED',\n",
       "  '16TH ST / VALENCIA ST',\n",
       "  -122.421886357989,\n",
       "  37.7649178909469,\n",
       "  '(37.7649178909469; -122.421886357989)',\n",
       "  '3089134665016',\n",
       "  '2003-07-28 02:33:00+00:00'],\n",
       " ['101145539',\n",
       "  'FRAUD',\n",
       "  'FALSE PRETENSES; PETTY THEFT',\n",
       "  'Friday',\n",
       "  'TARAVAL',\n",
       "  'NONE',\n",
       "  '100 Block of FONT BL',\n",
       "  -122.473644075533,\n",
       "  37.7155536666978,\n",
       "  '(37.7155536666978; -122.473644075533)',\n",
       "  '10114553910120',\n",
       "  '2010-12-10 12:00:00+00:00'],\n",
       " ['110712024',\n",
       "  'OTHER OFFENSES',\n",
       "  'CONSPIRACY',\n",
       "  'Monday',\n",
       "  'NORTHERN',\n",
       "  'ARREST; BOOKED',\n",
       "  'SACRAMENTO ST / POLK ST',\n",
       "  -122.420874632415,\n",
       "  37.7914943051906,\n",
       "  '(37.7914943051906; -122.420874632415)',\n",
       "  '11071202426080',\n",
       "  '2011-09-05 01:16:00+00:00'],\n",
       " ['130167556',\n",
       "  'PROSTITUTION',\n",
       "  'SOLICITS FOR ACT OF PROSTITUTION',\n",
       "  'Tuesday',\n",
       "  'MISSION',\n",
       "  'ARREST; CITED',\n",
       "  '19TH ST / SHOTWELL ST',\n",
       "  -122.415929849548,\n",
       "  37.7604330003754,\n",
       "  '(37.7604330003754; -122.415929849548)',\n",
       "  '13016755613060',\n",
       "  '2013-02-26 19:00:00+00:00'],\n",
       " ['70151144',\n",
       "  'ASSAULT',\n",
       "  'BATTERY',\n",
       "  'Sunday',\n",
       "  'BAYVIEW',\n",
       "  'NONE',\n",
       "  '700 Block of KIRKWOOD AV',\n",
       "  -122.374100613159,\n",
       "  37.7291144726553,\n",
       "  '(37.7291144726553; -122.374100613159)',\n",
       "  '7015114404134',\n",
       "  '2007-02-11 07:45:00+00:00'],\n",
       " ['160524330',\n",
       "  'WARRANTS',\n",
       "  'ENROUTE TO OUTSIDE JURISDICTION',\n",
       "  'Tuesday',\n",
       "  'BAYVIEW',\n",
       "  'ARREST; BOOKED',\n",
       "  'FAIRFAX AV / KEITH ST',\n",
       "  -122.3815607592337,\n",
       "  37.73812418390277,\n",
       "  '(37.73812418390277; -122.3815607592337)',\n",
       "  '16052433062050',\n",
       "  '2016-06-28 14:10:00+00:00'],\n",
       " ['90829810',\n",
       "  'BURGLARY',\n",
       "  'BURGLARY OF APARTMENT HOUSE; UNLAWFUL ENTRY',\n",
       "  'Saturday',\n",
       "  'BAYVIEW',\n",
       "  'NONE',\n",
       "  '700 Block of KIRKWOOD AV',\n",
       "  -122.374019331833,\n",
       "  37.729203356539,\n",
       "  '(37.729203356539; -122.374019331833)',\n",
       "  '9082981005013',\n",
       "  '2009-08-08 10:30:00+00:00'],\n",
       " ['111041187',\n",
       "  'ASSAULT',\n",
       "  'THREATS AGAINST LIFE',\n",
       "  'Thursday',\n",
       "  'SOUTHERN',\n",
       "  'EXCEPTIONAL CLEARANCE',\n",
       "  '0 Block of 6TH ST',\n",
       "  -122.40942036456,\n",
       "  37.7816150265786,\n",
       "  '(37.7816150265786; -122.40942036456)',\n",
       "  '11104118719057',\n",
       "  '2011-12-29 13:00:00+00:00'],\n",
       " ['110472535',\n",
       "  'LARCENY/THEFT',\n",
       "  'GRAND THEFT FROM PERSON',\n",
       "  'Sunday',\n",
       "  'INGLESIDE',\n",
       "  'NONE',\n",
       "  '200 Block of PRECITA AV',\n",
       "  -122.414185831945,\n",
       "  37.7472071828762,\n",
       "  '(37.7472071828762; -122.414185831945)',\n",
       "  '11047253506153',\n",
       "  '2011-06-12 00:50:00+00:00']]"
      ]
     },
     "execution_count": 251,
     "metadata": {},
     "output_type": "execute_result"
    }
   ],
   "source": [
    "sc.parallelize(list(samples))\\\n",
    "    .map(map_police)\\\n",
    "    .map(float_safe_police).take(10)"
   ]
  },
  {
   "cell_type": "code",
   "execution_count": 252,
   "metadata": {},
   "outputs": [],
   "source": [
    "rdd = sc.parallelize(list(samples))\\\n",
    "    .map(map_police)\\\n",
    "    .map(float_safe_police)\\\n",
    "    .filter(lambda x: len(x)==len(column_names.split(',')))"
   ]
  },
  {
   "cell_type": "code",
   "execution_count": 254,
   "metadata": {},
   "outputs": [
    {
     "data": {
      "text/plain": [
       "[['101145539',\n",
       "  'FRAUD',\n",
       "  'FALSE PRETENSES; PETTY THEFT',\n",
       "  'Friday',\n",
       "  'TARAVAL',\n",
       "  'NONE',\n",
       "  '100 Block of FONT BL',\n",
       "  -122.473644075533,\n",
       "  37.7155536666978,\n",
       "  '(37.7155536666978; -122.473644075533)',\n",
       "  '10114553910120',\n",
       "  '2010-12-10 12:00:00+00:00']]"
      ]
     },
     "execution_count": 254,
     "metadata": {},
     "output_type": "execute_result"
    }
   ],
   "source": [
    "sc.parallelize(list(samples))\\\n",
    "    .filter(lambda x: x.split(',')[0]=='101145539')\\\n",
    "    .map(map_police)\\\n",
    "    .map(float_safe_police)\\\n",
    "    .collect()"
   ]
  },
  {
   "cell_type": "code",
   "execution_count": null,
   "metadata": {},
   "outputs": [],
   "source": []
  },
  {
   "cell_type": "code",
   "execution_count": 255,
   "metadata": {},
   "outputs": [
    {
     "data": {
      "text/plain": [
       "0"
      ]
     },
     "execution_count": 255,
     "metadata": {},
     "output_type": "execute_result"
    }
   ],
   "source": [
    "# number of rows removed\n",
    "sz - rdd.count()"
   ]
  },
  {
   "cell_type": "code",
   "execution_count": 256,
   "metadata": {},
   "outputs": [],
   "source": [
    "'unique_key,category,descript,dayofweek,pddistrict,resolution,address,longitude,latitude,location,pdid,timestamp'\n",
    "schema = StructType([StructField(\"unique_key\", StringType(), False),\n",
    "                    StructField(\"category\", StringType(), False),\n",
    "                    StructField(\"descript\", StringType(), False),\n",
    "                    StructField(\"dayofweek\", StringType(), False),\n",
    "                    StructField(\"pddistrict\", StringType(), False),\n",
    "                    StructField(\"resolution\", StringType(), False),\n",
    "                    StructField(\"address\", StringType(), False),\n",
    "                    StructField(\"longitude\", FloatType(), False),\n",
    "                    StructField(\"latitude\", FloatType(), False),\n",
    "                    StructField(\"location\", StringType(), False),\n",
    "                    StructField(\"pdid\", StringType(), False),\n",
    "                    StructField(\"timestamp\", StringType(), False)\n",
    "                    ])"
   ]
  },
  {
   "cell_type": "code",
   "execution_count": 329,
   "metadata": {},
   "outputs": [],
   "source": [
    "df = ss.createDataFrame(rdd, schema)\n",
    "df = df.withColumn('date', to_timestamp(df.timestamp, 'yyyy-MM-dd HH:mm:00+00:00'))\\\n",
    "    .drop(\"timestamp\")\\\n",
    "    .withColumnRenamed('date', 'timestamp')"
   ]
  },
  {
   "cell_type": "code",
   "execution_count": null,
   "metadata": {},
   "outputs": [],
   "source": []
  },
  {
   "cell_type": "code",
   "execution_count": 330,
   "metadata": {},
   "outputs": [
    {
     "name": "stdout",
     "output_type": "stream",
     "text": [
      "root\n",
      " |-- unique_key: string (nullable = false)\n",
      " |-- category: string (nullable = false)\n",
      " |-- descript: string (nullable = false)\n",
      " |-- dayofweek: string (nullable = false)\n",
      " |-- pddistrict: string (nullable = false)\n",
      " |-- resolution: string (nullable = false)\n",
      " |-- address: string (nullable = false)\n",
      " |-- longitude: float (nullable = false)\n",
      " |-- latitude: float (nullable = false)\n",
      " |-- location: string (nullable = false)\n",
      " |-- pdid: string (nullable = false)\n",
      " |-- timestamp: timestamp (nullable = true)\n",
      "\n"
     ]
    }
   ],
   "source": [
    "# print('\\n----------------------\\n'.join(x for x in column_names.split(',')))\n",
    "df.printSchema()"
   ]
  },
  {
   "cell_type": "code",
   "execution_count": 331,
   "metadata": {},
   "outputs": [
    {
     "name": "stdout",
     "output_type": "stream",
     "text": [
      "+---------+-----+\n",
      "|dayofweek|count|\n",
      "+---------+-----+\n",
      "|   Friday| 1529|\n",
      "| Thursday| 1513|\n",
      "| Saturday| 1456|\n",
      "|  Tuesday| 1450|\n",
      "|Wednesday| 1416|\n",
      "|   Monday| 1407|\n",
      "|   Sunday| 1229|\n",
      "+---------+-----+\n",
      "\n"
     ]
    }
   ],
   "source": [
    "df.groupBy(\"dayofweek\")\\\n",
    "    .count()\\\n",
    "    .orderBy(\"count\", ascending=[0])\\\n",
    "    .show()"
   ]
  },
  {
   "cell_type": "code",
   "execution_count": 334,
   "metadata": {},
   "outputs": [
    {
     "name": "stdout",
     "output_type": "stream",
     "text": [
      "+----------+-----+\n",
      "|pddistrict|count|\n",
      "+----------+-----+\n",
      "|  SOUTHERN| 1808|\n",
      "|   MISSION| 1352|\n",
      "|  NORTHERN| 1210|\n",
      "|   BAYVIEW| 1015|\n",
      "|   CENTRAL| 1015|\n",
      "| INGLESIDE|  888|\n",
      "|TENDERLOIN|  854|\n",
      "|   TARAVAL|  751|\n",
      "|      PARK|  572|\n",
      "|  RICHMOND|  535|\n",
      "+----------+-----+\n",
      "\n"
     ]
    }
   ],
   "source": [
    "df.groupBy(\"pddistrict\")\\\n",
    "    .count()\\\n",
    "    .orderBy(\"count\", ascending=[0])\\\n",
    "    .show()"
   ]
  },
  {
   "cell_type": "code",
   "execution_count": 335,
   "metadata": {},
   "outputs": [
    {
     "name": "stdout",
     "output_type": "stream",
     "text": [
      "+--------------------+-----+\n",
      "|            category|count|\n",
      "+--------------------+-----+\n",
      "|       LARCENY/THEFT| 2217|\n",
      "|      OTHER OFFENSES| 1377|\n",
      "|        NON-CRIMINAL| 1080|\n",
      "|             ASSAULT|  864|\n",
      "|       VEHICLE THEFT|  565|\n",
      "|       DRUG/NARCOTIC|  537|\n",
      "|            WARRANTS|  488|\n",
      "|           VANDALISM|  485|\n",
      "|            BURGLARY|  417|\n",
      "|      SUSPICIOUS OCC|  367|\n",
      "|      MISSING PERSON|  280|\n",
      "|             ROBBERY|  256|\n",
      "|               FRAUD|  184|\n",
      "|FORGERY/COUNTERFE...|  136|\n",
      "|     SECONDARY CODES|  116|\n",
      "|         WEAPON LAWS|   88|\n",
      "|        PROSTITUTION|   85|\n",
      "|            TRESPASS|   84|\n",
      "|         DRUNKENNESS|   45|\n",
      "|     STOLEN PROPERTY|   42|\n",
      "+--------------------+-----+\n",
      "only showing top 20 rows\n",
      "\n"
     ]
    }
   ],
   "source": [
    "df.groupBy(\"category\")\\\n",
    "    .count()\\\n",
    "    .orderBy(\"count\", ascending=[0])\\\n",
    "    .show()"
   ]
  },
  {
   "cell_type": "code",
   "execution_count": 336,
   "metadata": {},
   "outputs": [
    {
     "name": "stdout",
     "output_type": "stream",
     "text": [
      "+--------------------+-----+\n",
      "|          resolution|count|\n",
      "+--------------------+-----+\n",
      "|                NONE| 6208|\n",
      "|      ARREST; BOOKED| 2408|\n",
      "|       ARREST; CITED|  690|\n",
      "|             LOCATED|  144|\n",
      "|   PSYCHOPATHIC CASE|  127|\n",
      "|           UNFOUNDED|  111|\n",
      "|     JUVENILE BOOKED|   71|\n",
      "|COMPLAINANT REFUS...|   50|\n",
      "|      NOT PROSECUTED|   48|\n",
      "|DISTRICT ATTORNEY...|   40|\n",
      "|      JUVENILE CITED|   29|\n",
      "|EXCEPTIONAL CLEAR...|   25|\n",
      "|PROSECUTED BY OUT...|   23|\n",
      "| JUVENILE ADMONISHED|   16|\n",
      "|   JUVENILE DIVERTED|    6|\n",
      "|CLEARED-CONTACT J...|    3|\n",
      "|PROSECUTED FOR LE...|    1|\n",
      "+--------------------+-----+\n",
      "\n"
     ]
    }
   ],
   "source": [
    "df.groupBy(\"resolution\")\\\n",
    "    .count()\\\n",
    "    .orderBy(\"count\", ascending=[0])\\\n",
    "    .show()"
   ]
  },
  {
   "cell_type": "code",
   "execution_count": 337,
   "metadata": {},
   "outputs": [
    {
     "name": "stdout",
     "output_type": "stream",
     "text": [
      "+-------------------+\n",
      "|timestamp          |\n",
      "+-------------------+\n",
      "|2006-10-17 17:20:00|\n",
      "+-------------------+\n",
      "only showing top 1 row\n",
      "\n"
     ]
    }
   ],
   "source": [
    "df.select(\"timestamp\").show(1, False)"
   ]
  },
  {
   "cell_type": "code",
   "execution_count": 359,
   "metadata": {},
   "outputs": [],
   "source": [
    "def t_series(interval='day'):\n",
    "    df.select(date_trunc(interval, 'timestamp'))\\\n",
    "        .withColumnRenamed(f'date_trunc({interval}, timestamp)', interval)\\\n",
    "        .groupBy(interval)\\\n",
    "        .count()\\\n",
    "        .orderBy(interval, ascending=False).show()"
   ]
  },
  {
   "cell_type": "code",
   "execution_count": 361,
   "metadata": {},
   "outputs": [
    {
     "name": "stdout",
     "output_type": "stream",
     "text": [
      "+-------------------+-----+\n",
      "|               year|count|\n",
      "+-------------------+-----+\n",
      "|2018-01-01 00:00:00|   20|\n",
      "|2017-01-01 00:00:00|  730|\n",
      "|2016-01-01 00:00:00|  684|\n",
      "|2015-01-01 00:00:00|  676|\n",
      "|2014-01-01 00:00:00|  684|\n",
      "|2013-01-01 00:00:00|  706|\n",
      "|2012-01-01 00:00:00|  627|\n",
      "|2011-01-01 00:00:00|  606|\n",
      "|2010-01-01 00:00:00|  614|\n",
      "|2009-01-01 00:00:00|  638|\n",
      "|2008-01-01 00:00:00|  651|\n",
      "|2007-01-01 00:00:00|  651|\n",
      "|2006-01-01 00:00:00|  645|\n",
      "|2005-01-01 00:00:00|  673|\n",
      "|2004-01-01 00:00:00|  693|\n",
      "|2003-01-01 00:00:00|  702|\n",
      "+-------------------+-----+\n",
      "\n"
     ]
    }
   ],
   "source": [
    "t_series('year')"
   ]
  },
  {
   "cell_type": "code",
   "execution_count": null,
   "metadata": {},
   "outputs": [],
   "source": []
  }
 ],
 "metadata": {
  "anaconda-cloud": {},
  "kernelspec": {
   "display_name": "Python 3",
   "language": "python",
   "name": "python3"
  },
  "language_info": {
   "codemirror_mode": {
    "name": "ipython",
    "version": 3
   },
   "file_extension": ".py",
   "mimetype": "text/x-python",
   "name": "python",
   "nbconvert_exporter": "python",
   "pygments_lexer": "ipython3",
   "version": "3.6.6"
  },
  "varInspector": {
   "cols": {
    "lenName": 16,
    "lenType": 16,
    "lenVar": 40
   },
   "kernels_config": {
    "python": {
     "delete_cmd_postfix": "",
     "delete_cmd_prefix": "del ",
     "library": "var_list.py",
     "varRefreshCmd": "print(var_dic_list())"
    },
    "r": {
     "delete_cmd_postfix": ") ",
     "delete_cmd_prefix": "rm(",
     "library": "var_list.r",
     "varRefreshCmd": "cat(var_dic_list()) "
    }
   },
   "types_to_exclude": [
    "module",
    "function",
    "builtin_function_or_method",
    "instance",
    "_Feature"
   ],
   "window_display": false
  }
 },
 "nbformat": 4,
 "nbformat_minor": 1
}
