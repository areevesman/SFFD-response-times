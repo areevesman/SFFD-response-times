{
 "cells": [
  {
   "cell_type": "code",
   "execution_count": 364,
   "metadata": {},
   "outputs": [],
   "source": [
    "import pyspark\n",
    "from pyspark.sql.types import *\n",
    "import os\n",
    "import json\n",
    "import requests\n",
    "import boto3\n",
    "import numpy as np\n",
    "from pyspark.sql.functions import *"
   ]
  },
  {
   "cell_type": "code",
   "execution_count": 7,
   "metadata": {},
   "outputs": [],
   "source": [
    "sc = pyspark.SparkContext.getOrCreate()\n",
    "ss = pyspark.sql.SparkSession.builder.getOrCreate()"
   ]
  },
  {
   "cell_type": "code",
   "execution_count": 8,
   "metadata": {},
   "outputs": [],
   "source": [
    "bucket_name = 'msds697jonross.and.friends' # Add your bucket name\n",
    "file_name = 'sffd.csv' # select file\n",
    "s3 = boto3.resource('s3')\n",
    "bucket = s3.Bucket(bucket_name) \n",
    "obj = bucket.Object(key=file_name) # S3 uses key-value structure where key is your file name\n",
    "file_content = obj.get()[\"Body\"].read().decode(\"utf-8\") # Read the Body which is the contents of the file."
   ]
  },
  {
   "cell_type": "code",
   "execution_count": 9,
   "metadata": {},
   "outputs": [
    {
     "data": {
      "text/plain": [
       "4557045"
      ]
     },
     "execution_count": 9,
     "metadata": {},
     "output_type": "execute_result"
    }
   ],
   "source": [
    "# number of rows (subract header and empty line at end)\n",
    "rows = file_content.split('\\n')\n",
    "len(rows)-2"
   ]
  },
  {
   "cell_type": "code",
   "execution_count": 387,
   "metadata": {},
   "outputs": [
    {
     "data": {
      "text/plain": [
       "['call_type,received_timestamp,entry_timestamp,dispatch_timestamp,response_timestamp,on_scene_timestamp,transport_timestamp,hospital_timestamp,call_final_disposition,available_timestamp,address,zipcode_of_incident,battalion,station_area',\n",
       " 'Explosion,2017-02-07 20:00:53+00:00,2017-02-07 20:00:53+00:00,2017-02-07 20:03:38+00:00,2017-02-07 20:05:16+00:00,2017-02-07 20:08:11+00:00,,,Fire,2017-02-07 20:13:41+00:00,0 Block of FRANCIS ST,94112,B09,',\n",
       " 'Elevator / Escalator Rescue,2000-06-03 15:32:02+00:00,2000-06-03 15:32:17+00:00,2000-06-03 15:32:33+00:00,,,,,Other,2000-06-03 15:39:18+00:00,2700 Block of VAN NESS AVE,94123,B04,04']"
      ]
     },
     "execution_count": 387,
     "metadata": {},
     "output_type": "execute_result"
    }
   ],
   "source": [
    "rows[:3]"
   ]
  },
  {
   "cell_type": "code",
   "execution_count": 63,
   "metadata": {},
   "outputs": [
    {
     "data": {
      "text/plain": [
       "14"
      ]
     },
     "execution_count": 63,
     "metadata": {},
     "output_type": "execute_result"
    }
   ],
   "source": [
    "# number of  columns\n",
    "column_names = rows[0].split(',')\n",
    "n_cols = sc.broadcast(len(column_names))\n",
    "n_cols.value"
   ]
  },
  {
   "cell_type": "code",
   "execution_count": 64,
   "metadata": {},
   "outputs": [
    {
     "name": "stdout",
     "output_type": "stream",
     "text": [
      "call_type   received_timestamp   entry_timestamp   dispatch_timestamp   response_timestamp   on_scene_timestamp   transport_timestamp   hospital_timestamp   call_final_disposition   available_timestamp   address   zipcode_of_incident   battalion   station_area\n"
     ]
    }
   ],
   "source": [
    "print('   '.join(x for x in column_names))"
   ]
  },
  {
   "cell_type": "code",
   "execution_count": 65,
   "metadata": {},
   "outputs": [
    {
     "data": {
      "text/plain": [
       "array(['Medical Incident,2009-12-21 14:38:56+00:00,2009-12-21 14:39:41+00:00,2009-12-21 14:41:41+00:00,2009-12-21 14:41:59+00:00,2009-12-21 14:51:09+00:00,2009-12-21 15:07:26+00:00,2009-12-21 15:21:41+00:00,Code 2 Transport,2009-12-21 15:47:56+00:00,200 Block of 6TH ST,94103,B03,01',\n",
       "       'Medical Incident,2007-10-06 22:07:39+00:00,2007-10-06 22:09:05+00:00,2007-10-06 22:09:46+00:00,2007-10-06 22:10:43+00:00,2007-10-06 22:13:46+00:00,2007-10-06 22:27:28+00:00,2007-10-06 22:35:57+00:00,Code 2 Transport,2007-10-06 23:01:56+00:00,FRANKLIN ST/GROVE ST,94102,B02,36'],\n",
       "      dtype='<U315')"
      ]
     },
     "execution_count": 65,
     "metadata": {},
     "output_type": "execute_result"
    }
   ],
   "source": [
    "# randomly sample rows\n",
    "sz=10000\n",
    "samples = np.random.choice(rows[1:], size=sz, replace=False)\n",
    "samples[:2]"
   ]
  },
  {
   "cell_type": "code",
   "execution_count": 68,
   "metadata": {},
   "outputs": [],
   "source": [
    "def filter_fire(x):\n",
    "    return len(x.split(',')) == n_cols.value\n",
    "\n",
    "rdd = sc.parallelize(list(samples))\\\n",
    "    .filter(filter_fire)\\\n",
    "    .map(lambda x: x.split(','))"
   ]
  },
  {
   "cell_type": "code",
   "execution_count": 71,
   "metadata": {},
   "outputs": [
    {
     "data": {
      "text/plain": [
       "14"
      ]
     },
     "execution_count": 71,
     "metadata": {},
     "output_type": "execute_result"
    }
   ],
   "source": [
    "# number of rows removed\n",
    "sz - rdd.count()"
   ]
  },
  {
   "cell_type": "code",
   "execution_count": 97,
   "metadata": {},
   "outputs": [],
   "source": [
    "schema = StructType([StructField(\"call_type\", StringType(), False),\n",
    "                    StructField(\"received_timestamp\", StringType(), False),\n",
    "                    StructField(\"entry_timestamp\", StringType(), False),\n",
    "                    StructField(\"dispatch_timestamp\", StringType(), False),\n",
    "                    StructField(\"response_timestamp\", StringType(), False),\n",
    "                    StructField(\"on_scene_timestamp\", StringType(), False),\n",
    "                    StructField(\"transport_timestamp\", StringType(), False),\n",
    "                    StructField(\"hospital_timestamp\", StringType(), False),\n",
    "                    StructField(\"call_final_disposition\", StringType(), False),\n",
    "                    StructField(\"available_timestamp\", StringType(), False),\n",
    "                    StructField(\"address\", StringType(), False),\n",
    "                    StructField(\"zipcode_of_incident\", StringType(), False),\n",
    "                    StructField(\"battalion\", StringType(), False),\n",
    "                    StructField(\"station_area\", StringType(), False)\n",
    "                    ])"
   ]
  },
  {
   "cell_type": "code",
   "execution_count": 98,
   "metadata": {},
   "outputs": [],
   "source": [
    "df = ss.createDataFrame(rdd, schema)\n",
    "# df = df.withColumn('date', to_timestamp(df.timestamp, 'yyyy-MM-dd HH:mm:00+00:00'))\\\n",
    "#     .drop(\"timestamp\")\\\n",
    "#     .withColumnRenamed('date', 'timestamp')"
   ]
  },
  {
   "cell_type": "code",
   "execution_count": 99,
   "metadata": {},
   "outputs": [
    {
     "name": "stdout",
     "output_type": "stream",
     "text": [
      "root\n",
      " |-- call_type: string (nullable = false)\n",
      " |-- received_timestamp: string (nullable = false)\n",
      " |-- entry_timestamp: string (nullable = false)\n",
      " |-- dispatch_timestamp: string (nullable = false)\n",
      " |-- response_timestamp: string (nullable = false)\n",
      " |-- on_scene_timestamp: string (nullable = false)\n",
      " |-- transport_timestamp: string (nullable = false)\n",
      " |-- hospital_timestamp: string (nullable = false)\n",
      " |-- call_final_disposition: string (nullable = false)\n",
      " |-- available_timestamp: string (nullable = false)\n",
      " |-- address: string (nullable = false)\n",
      " |-- zipcode_of_incident: string (nullable = false)\n",
      " |-- battalion: string (nullable = false)\n",
      " |-- station_area: string (nullable = false)\n",
      "\n"
     ]
    }
   ],
   "source": [
    "# print('\\n----------------------\\n'.join(x for x in column_names))\n",
    "df.printSchema()"
   ]
  },
  {
   "cell_type": "code",
   "execution_count": 100,
   "metadata": {},
   "outputs": [
    {
     "data": {
      "text/plain": [
       "['call_type',\n",
       " 'received_timestamp',\n",
       " 'entry_timestamp',\n",
       " 'dispatch_timestamp',\n",
       " 'response_timestamp',\n",
       " 'on_scene_timestamp',\n",
       " 'transport_timestamp',\n",
       " 'hospital_timestamp',\n",
       " 'call_final_disposition',\n",
       " 'available_timestamp',\n",
       " 'address',\n",
       " 'zipcode_of_incident',\n",
       " 'battalion',\n",
       " 'station_area']"
      ]
     },
     "execution_count": 100,
     "metadata": {},
     "output_type": "execute_result"
    }
   ],
   "source": [
    "df.columns"
   ]
  },
  {
   "cell_type": "code",
   "execution_count": 101,
   "metadata": {},
   "outputs": [
    {
     "name": "stdout",
     "output_type": "stream",
     "text": [
      "+-------------------------+\n",
      "|received_timestamp       |\n",
      "+-------------------------+\n",
      "|2009-12-21 14:38:56+00:00|\n",
      "|2007-10-06 22:07:39+00:00|\n",
      "|2009-03-26 23:01:24+00:00|\n",
      "|2002-11-22 08:01:25+00:00|\n",
      "|2017-01-19 11:03:38+00:00|\n",
      "|2017-08-01 08:37:32+00:00|\n",
      "|2015-11-13 03:00:54+00:00|\n",
      "|2001-12-19 19:24:08+00:00|\n",
      "|2001-02-11 11:07:36+00:00|\n",
      "|2000-08-30 13:30:11+00:00|\n",
      "|2002-05-11 14:02:42+00:00|\n",
      "|2013-06-02 20:20:53+00:00|\n",
      "|2012-02-29 00:10:29+00:00|\n",
      "|2013-04-15 13:17:29+00:00|\n",
      "|2013-01-21 14:19:19+00:00|\n",
      "|2016-06-13 02:29:07+00:00|\n",
      "|2009-10-08 03:11:14+00:00|\n",
      "|2005-03-24 17:23:10+00:00|\n",
      "|2010-10-11 17:27:39+00:00|\n",
      "|2002-11-03 00:58:21+00:00|\n",
      "+-------------------------+\n",
      "only showing top 20 rows\n",
      "\n"
     ]
    }
   ],
   "source": [
    "df.select('received_timestamp').show(20, False)"
   ]
  },
  {
   "cell_type": "code",
   "execution_count": 116,
   "metadata": {},
   "outputs": [],
   "source": [
    "my_rows = ['received_timestamp',\n",
    "          'entry_timestamp',\n",
    "          'dispatch_timestamp',\n",
    "          'response_timestamp',\n",
    "          'on_scene_timestamp',\n",
    "          'transport_timestamp',\n",
    "          'hospital_timestamp',\n",
    "          'available_timestamp']\n",
    "\n",
    "df_w_time = df\n",
    "for row in my_rows:\n",
    "    df_w_time = df_w_time.withColumn(row, to_timestamp(df[row], format = 'yyyy-MM-dd HH:mm:ss+00:00'))"
   ]
  },
  {
   "cell_type": "code",
   "execution_count": 117,
   "metadata": {
    "scrolled": true
   },
   "outputs": [
    {
     "name": "stdout",
     "output_type": "stream",
     "text": [
      "+----------------+-------------------+-------------------+-------------------+-------------------+-------------------+-------------------+-------------------+----------------------+-------------------+--------------------+-------------------+---------+------------+\n",
      "|       call_type| received_timestamp|    entry_timestamp| dispatch_timestamp| response_timestamp| on_scene_timestamp|transport_timestamp| hospital_timestamp|call_final_disposition|available_timestamp|             address|zipcode_of_incident|battalion|station_area|\n",
      "+----------------+-------------------+-------------------+-------------------+-------------------+-------------------+-------------------+-------------------+----------------------+-------------------+--------------------+-------------------+---------+------------+\n",
      "|Medical Incident|2009-12-21 14:38:56|2009-12-21 14:39:41|2009-12-21 14:41:41|2009-12-21 14:41:59|2009-12-21 14:51:09|2009-12-21 15:07:26|2009-12-21 15:21:41|      Code 2 Transport|2009-12-21 15:47:56| 200 Block of 6TH ST|              94103|      B03|          01|\n",
      "|Medical Incident|2007-10-06 22:07:39|2007-10-06 22:09:05|2007-10-06 22:09:46|2007-10-06 22:10:43|2007-10-06 22:13:46|2007-10-06 22:27:28|2007-10-06 22:35:57|      Code 2 Transport|2007-10-06 23:01:56|FRANKLIN ST/GROVE ST|              94102|      B02|          36|\n",
      "+----------------+-------------------+-------------------+-------------------+-------------------+-------------------+-------------------+-------------------+----------------------+-------------------+--------------------+-------------------+---------+------------+\n",
      "only showing top 2 rows\n",
      "\n"
     ]
    }
   ],
   "source": [
    "df_w_time.show(2)"
   ]
  },
  {
   "cell_type": "code",
   "execution_count": 137,
   "metadata": {
    "scrolled": false
   },
   "outputs": [],
   "source": [
    "small_df = df_w_time.select('call_type',\n",
    "                 'received_timestamp',\n",
    "                 'on_scene_timestamp',\n",
    "                 'address',\n",
    "                 'zipcode_of_incident',\n",
    "                 'battalion',\n",
    "                 'station_area')\\\n",
    "    .withColumn(\"response_time\", \n",
    "                (unix_timestamp('on_scene_timestamp') - unix_timestamp('received_timestamp')) / 60)\\\n",
    "    .orderBy('received_timestamp', ascending=[0])"
   ]
  },
  {
   "cell_type": "code",
   "execution_count": 149,
   "metadata": {},
   "outputs": [
    {
     "name": "stdout",
     "output_type": "stream",
     "text": [
      "+-----------------------------------+-----+\n",
      "|call_type                          |count|\n",
      "+-----------------------------------+-----+\n",
      "|Medical Incident                   |6453 |\n",
      "|Structure Fire                     |1319 |\n",
      "|Alarms                             |1086 |\n",
      "|Traffic Collision                  |460  |\n",
      "|Other                              |162  |\n",
      "|Citizen Assist / Service Call      |143  |\n",
      "|Outside Fire                       |106  |\n",
      "|Water Rescue                       |40   |\n",
      "|Vehicle Fire                       |37   |\n",
      "|Gas Leak (Natural and LP Gases)    |35   |\n",
      "|Electrical Hazard                  |32   |\n",
      "|Odor (Strange / Unknown)           |23   |\n",
      "|Elevator / Escalator Rescue        |22   |\n",
      "|Smoke Investigation (Outside)      |14   |\n",
      "|HazMat                             |13   |\n",
      "|Aircraft Emergency                 |8    |\n",
      "|Fuel Spill                         |6    |\n",
      "|Explosion                          |6    |\n",
      "|Industrial Accidents               |5    |\n",
      "|Assist Police                      |4    |\n",
      "|High Angle Rescue                  |4    |\n",
      "|Confined Space / Structure Collapse|3    |\n",
      "|Watercraft in Distress             |2    |\n",
      "|Administrative                     |1    |\n",
      "|Suspicious Package                 |1    |\n",
      "|Mutual Aid / Assist Outside Agency |1    |\n",
      "+-----------------------------------+-----+\n",
      "\n"
     ]
    }
   ],
   "source": [
    "small_df.select('call_type').groupBy('call_type').count().orderBy('count', ascending=[0]).show(30,False)"
   ]
  },
  {
   "cell_type": "code",
   "execution_count": 209,
   "metadata": {
    "scrolled": true
   },
   "outputs": [
    {
     "name": "stdout",
     "output_type": "stream",
     "text": [
      "+------------------+\n",
      "|response_time     |\n",
      "+------------------+\n",
      "|6.65              |\n",
      "|4.85              |\n",
      "|21.733333333333334|\n",
      "|7.466666666666667 |\n",
      "|3.1166666666666667|\n",
      "+------------------+\n",
      "only showing top 5 rows\n",
      "\n"
     ]
    }
   ],
   "source": [
    "small_df.select('response_time').show(5, False)"
   ]
  },
  {
   "cell_type": "code",
   "execution_count": 232,
   "metadata": {
    "scrolled": false
   },
   "outputs": [
    {
     "data": {
      "text/plain": [
       "['battalion',\n",
       " 'station_area',\n",
       " 'avg',\n",
       " 'var_samp',\n",
       " 'count',\n",
       " 'kurtosis',\n",
       " 'skewness']"
      ]
     },
     "execution_count": 232,
     "metadata": {},
     "output_type": "execute_result"
    }
   ],
   "source": [
    "# might need to be careful about what we are grouping by\n",
    "station_area_aggregates = small_df.select('station_area','battalion','response_time')\\\n",
    "    .filter('response_time is not null')\\\n",
    "    .groupBy('battalion', 'station_area')\\\n",
    "    .agg(mean('response_time'),\n",
    "         variance('response_time'), \n",
    "         count('response_time'),\n",
    "         kurtosis('response_time'),\n",
    "         skewness('response_time'))\\\n",
    "    .orderBy('battalion')\n",
    "\n",
    "col_names = station_area_aggregates.columns\n",
    "for i in range(len(col_names[2:])):\n",
    "    station_area_aggregates = station_area_aggregates\\\n",
    "        .withColumnRenamed(col_names[i+2], col_names[2+i].split('(')[0])\n",
    "station_area_aggregates.columns"
   ]
  },
  {
   "cell_type": "code",
   "execution_count": 233,
   "metadata": {},
   "outputs": [
    {
     "name": "stdout",
     "output_type": "stream",
     "text": [
      "114\n",
      "+---------+------------+------------------+-------------------+-----+--------------------+------------------+\n",
      "|battalion|station_area|               avg|           var_samp|count|            kurtosis|          skewness|\n",
      "+---------+------------+------------------+-------------------+-----+--------------------+------------------+\n",
      "|      B01|          A1| 6.878571428571429|  7.353769841269842|    7|-0.23939421900317814|1.0206350661830932|\n",
      "|      B01|          13| 7.716446402349489| 52.668870403579675|  227|   51.43983045642755| 5.985938690039854|\n",
      "|      B01|          03| 8.799285714285714| 41.722732976765585|   70|  2.7434081814501114|1.8328941831480656|\n",
      "|      B01|          16| 6.811904761904763|  4.844788359788359|    7|  0.6304996578427877|0.7919111812697118|\n",
      "|      B01|          41|6.8463696369636935|  20.90235891089108|  101|  15.791962004879405| 3.376354744483347|\n",
      "|      B01|          28| 9.063314711359407| 36.504327028365374|  179|   5.675194401469296| 2.202920064094221|\n",
      "|      B01|          02| 7.792605633802818| 23.333288119180004|  142|  2.8910582778197433|1.6994797454176283|\n",
      "|      B01|          01| 8.557253086419754|  54.58518314199452|  108|  30.998168297539706| 4.701060160615891|\n",
      "|      B02|          36|7.9097729115977256| 29.402052631231907|  411|   12.06385326383318| 2.842665628658824|\n",
      "|      B02|          A3| 5.866666666666667|0.31999999999999984|    2| -1.9999999999999998|               0.0|\n",
      "+---------+------------+------------------+-------------------+-----+--------------------+------------------+\n",
      "only showing top 10 rows\n",
      "\n"
     ]
    }
   ],
   "source": [
    "print(station_area_aggregates.count())\n",
    "station_area_aggregates.show(10)"
   ]
  },
  {
   "cell_type": "code",
   "execution_count": 337,
   "metadata": {},
   "outputs": [
    {
     "name": "stdout",
     "output_type": "stream",
     "text": [
      "+-------------------+\n",
      "|timestamp          |\n",
      "+-------------------+\n",
      "|2006-10-17 17:20:00|\n",
      "+-------------------+\n",
      "only showing top 1 row\n",
      "\n"
     ]
    }
   ],
   "source": [
    "df.select(\"timestamp\").show(1, False)"
   ]
  },
  {
   "cell_type": "code",
   "execution_count": 359,
   "metadata": {},
   "outputs": [],
   "source": [
    "def t_series(interval='day'):\n",
    "    df.select(date_trunc(interval, 'timestamp'))\\\n",
    "        .withColumnRenamed(f'date_trunc({interval}, timestamp)', interval)\\\n",
    "        .groupBy(interval)\\\n",
    "        .count()\\\n",
    "        .orderBy(interval, ascending=False).show()"
   ]
  },
  {
   "cell_type": "code",
   "execution_count": 361,
   "metadata": {},
   "outputs": [
    {
     "name": "stdout",
     "output_type": "stream",
     "text": [
      "+-------------------+-----+\n",
      "|               year|count|\n",
      "+-------------------+-----+\n",
      "|2018-01-01 00:00:00|   20|\n",
      "|2017-01-01 00:00:00|  730|\n",
      "|2016-01-01 00:00:00|  684|\n",
      "|2015-01-01 00:00:00|  676|\n",
      "|2014-01-01 00:00:00|  684|\n",
      "|2013-01-01 00:00:00|  706|\n",
      "|2012-01-01 00:00:00|  627|\n",
      "|2011-01-01 00:00:00|  606|\n",
      "|2010-01-01 00:00:00|  614|\n",
      "|2009-01-01 00:00:00|  638|\n",
      "|2008-01-01 00:00:00|  651|\n",
      "|2007-01-01 00:00:00|  651|\n",
      "|2006-01-01 00:00:00|  645|\n",
      "|2005-01-01 00:00:00|  673|\n",
      "|2004-01-01 00:00:00|  693|\n",
      "|2003-01-01 00:00:00|  702|\n",
      "+-------------------+-----+\n",
      "\n"
     ]
    }
   ],
   "source": [
    "t_series('year')"
   ]
  }
 ],
 "metadata": {
  "anaconda-cloud": {},
  "kernelspec": {
   "display_name": "Python 3",
   "language": "python",
   "name": "python3"
  },
  "language_info": {
   "codemirror_mode": {
    "name": "ipython",
    "version": 3
   },
   "file_extension": ".py",
   "mimetype": "text/x-python",
   "name": "python",
   "nbconvert_exporter": "python",
   "pygments_lexer": "ipython3",
   "version": "3.6.6"
  },
  "varInspector": {
   "cols": {
    "lenName": 16,
    "lenType": 16,
    "lenVar": 40
   },
   "kernels_config": {
    "python": {
     "delete_cmd_postfix": "",
     "delete_cmd_prefix": "del ",
     "library": "var_list.py",
     "varRefreshCmd": "print(var_dic_list())"
    },
    "r": {
     "delete_cmd_postfix": ") ",
     "delete_cmd_prefix": "rm(",
     "library": "var_list.r",
     "varRefreshCmd": "cat(var_dic_list()) "
    }
   },
   "types_to_exclude": [
    "module",
    "function",
    "builtin_function_or_method",
    "instance",
    "_Feature"
   ],
   "window_display": false
  }
 },
 "nbformat": 4,
 "nbformat_minor": 1
}
