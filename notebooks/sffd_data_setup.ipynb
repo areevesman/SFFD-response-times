{
 "cells": [
  {
   "cell_type": "code",
   "execution_count": 1,
   "metadata": {},
   "outputs": [],
   "source": [
    "import os\n",
    "from pyspark.sql import SparkSession\n",
    "from pyspark import SparkContext\n",
    "from pyspark.sql.types import *"
   ]
  },
  {
   "cell_type": "code",
   "execution_count": 5,
   "metadata": {},
   "outputs": [],
   "source": [
    "sc = SparkContext.getOrCreate()"
   ]
  },
  {
   "cell_type": "code",
   "execution_count": 6,
   "metadata": {},
   "outputs": [],
   "source": [
    "pyspark_submit_args = '--packages org.mongodo.spark:mongo-spark-connector_2.11:2.4.0 pyspark-shell'\n",
    "os.environ['PYSPARK_SUBMIT_ARGS'] = pyspark_submit_args"
   ]
  },
  {
   "cell_type": "code",
   "execution_count": 7,
   "metadata": {},
   "outputs": [],
   "source": [
    "ss = SparkSession.builder\\\n",
    "                 .appName('jonrossandfriends')\\\n",
    "                 .config('spark.mongodb.input.uri', 'mongodb://34.214.80.18/msds697.sffd')\\\n",
    "                 .getOrCreate()"
   ]
  },
  {
   "cell_type": "code",
   "execution_count": 8,
   "metadata": {},
   "outputs": [],
   "source": [
    "# Read the data\n",
    "sffd_df = ss.read.format('com.mongodb.spark.sql.DefaultSource').load()"
   ]
  },
  {
   "cell_type": "code",
   "execution_count": 9,
   "metadata": {},
   "outputs": [
    {
     "name": "stdout",
     "output_type": "stream",
     "text": [
      "root\n",
      " |-- _id: struct (nullable = true)\n",
      " |    |-- oid: string (nullable = true)\n",
      " |-- address: string (nullable = true)\n",
      " |-- available_timestamp: string (nullable = true)\n",
      " |-- battalion: string (nullable = true)\n",
      " |-- call_final_disposition: string (nullable = true)\n",
      " |-- call_type: string (nullable = true)\n",
      " |-- dispatch_timestamp: string (nullable = true)\n",
      " |-- entry_timestamp: string (nullable = true)\n",
      " |-- hospital_timestamp: string (nullable = true)\n",
      " |-- on_scene_timestamp: string (nullable = true)\n",
      " |-- received_timestamp: string (nullable = true)\n",
      " |-- response_timestamp: string (nullable = true)\n",
      " |-- station_area: string (nullable = true)\n",
      " |-- transport_timestamp: string (nullable = true)\n",
      " |-- zipcode_of_incident: string (nullable = true)\n",
      "\n"
     ]
    }
   ],
   "source": [
    "# Print the schema and see how elegant it looks\n",
    "sffd_df.printSchema()"
   ]
  },
  {
   "cell_type": "code",
   "execution_count": 13,
   "metadata": {},
   "outputs": [
    {
     "name": "stdout",
     "output_type": "stream",
     "text": [
      "+--------------------+--------------------+--------------------+---------+----------------------+----------------+--------------------+--------------------+------------------+--------------------+--------------------+--------------------+------------+-------------------+-------------------+\n",
      "|                 _id|             address| available_timestamp|battalion|call_final_disposition|       call_type|  dispatch_timestamp|     entry_timestamp|hospital_timestamp|  on_scene_timestamp|  received_timestamp|  response_timestamp|station_area|transport_timestamp|zipcode_of_incident|\n",
      "+--------------------+--------------------+--------------------+---------+----------------------+----------------+--------------------+--------------------+------------------+--------------------+--------------------+--------------------+------------+-------------------+-------------------+\n",
      "|[5c413fb4b760937d...|200 Block of WILL...|2004-09-13 22:45:...|      B10|                 Other|Medical Incident|2004-09-13 22:38:...|2004-09-13 22:38:...|                  |2004-09-13 22:42:...|2004-09-13 22:37:...|2004-09-13 22:40:...|          A3|                   |              94124|\n",
      "|[5c413fb4b760937d...|0 Block of MISSIO...|2016-07-29 22:53:...|      B03|             Cancelled|Medical Incident|2016-07-29 22:51:...|2016-07-29 22:50:...|                  |                    |2016-07-29 22:50:...|2016-07-29 22:51:...|           4|                   |              94158|\n",
      "+--------------------+--------------------+--------------------+---------+----------------------+----------------+--------------------+--------------------+------------------+--------------------+--------------------+--------------------+------------+-------------------+-------------------+\n",
      "only showing top 2 rows\n",
      "\n"
     ]
    }
   ],
   "source": [
    "# Print 2 and see how it looks\n",
    "sffd_df.show(2)"
   ]
  },
  {
   "cell_type": "code",
   "execution_count": 15,
   "metadata": {},
   "outputs": [
    {
     "data": {
      "text/plain": [
       "[Row(zipcode_of_incident=u'94102', count=570087),\n",
       " Row(zipcode_of_incident=u'94107', count=180127),\n",
       " Row(zipcode_of_incident=u'94104', count=34641),\n",
       " Row(zipcode_of_incident=u'94131', count=83845),\n",
       " Row(zipcode_of_incident=u'94112', count=215612),\n",
       " Row(zipcode_of_incident=u'94103', count=543100),\n",
       " Row(zipcode_of_incident=u'94130', count=29617),\n",
       " Row(zipcode_of_incident=u'94118', count=136152),\n",
       " Row(zipcode_of_incident=u'94117', count=154335),\n",
       " Row(zipcode_of_incident=u'94129', count=13879),\n",
       " Row(zipcode_of_incident=u'94109', count=378663),\n",
       " Row(zipcode_of_incident=u'94132', count=109934),\n",
       " Row(zipcode_of_incident=u'94123', count=94463),\n",
       " Row(zipcode_of_incident=u'94158', count=20320),\n",
       " Row(zipcode_of_incident=u'94105', count=108715),\n",
       " Row(zipcode_of_incident=u'94111', count=76258),\n",
       " Row(zipcode_of_incident=u'94134', count=126582),\n",
       " Row(zipcode_of_incident=u'94116', count=98739),\n",
       " Row(zipcode_of_incident=u'94127', count=47437),\n",
       " Row(zipcode_of_incident=u'94122', count=163262),\n",
       " Row(zipcode_of_incident=u'94124', count=237304),\n",
       " Row(zipcode_of_incident=u'94114', count=134788),\n",
       " Row(zipcode_of_incident=u'94133', count=162752),\n",
       " Row(zipcode_of_incident=u'94115', count=204275),\n",
       " Row(zipcode_of_incident=u'94121', count=122126),\n",
       " Row(zipcode_of_incident=u'94108', count=106397),\n",
       " Row(zipcode_of_incident=u'', count=13829),\n",
       " Row(zipcode_of_incident=u'94110', count=389806)]"
      ]
     },
     "execution_count": 15,
     "metadata": {},
     "output_type": "execute_result"
    }
   ],
   "source": [
    "# Check if the data is dirty\n",
    "sffd_df.groupBy(\"zipcode_of_incident\").count().rdd.collect()"
   ]
  },
  {
   "cell_type": "code",
   "execution_count": 24,
   "metadata": {},
   "outputs": [
    {
     "data": {
      "text/plain": [
       "'received_timestamp_adj'"
      ]
     },
     "execution_count": 24,
     "metadata": {},
     "output_type": "execute_result"
    }
   ],
   "source": [
    "timestamp_list = ['received_timestamp',\n",
    "                  'entry_timestamp',\n",
    "                  'dispatch_timestamp',\n",
    "                  'response_timestamp',\n",
    "                  'on_scene_timestamp',\n",
    "                  'transport_timestamp',\n",
    "                  'hospital_timestamp',\n",
    "                  'available_timestamp']\n",
    "timestamp_adj_list = [attr + \"_adj\" for attr in timestamp_list]\n",
    "\n",
    "# Test\n",
    "timestamp_adj_list[0]"
   ]
  },
  {
   "cell_type": "code",
   "execution_count": 25,
   "metadata": {},
   "outputs": [
    {
     "name": "stdout",
     "output_type": "stream",
     "text": [
      "+-----------------------+\n",
      "|available_timestamp_adj|\n",
      "+-----------------------+\n",
      "|    2000-06-03 15:39:18|\n",
      "+-----------------------+\n",
      "only showing top 1 row\n",
      "\n"
     ]
    }
   ],
   "source": [
    "# Give a try to see if we can change column type\n",
    "sffd_df.withColumn(\"available_timestamp_adj\", sffd_df[\"available_timestamp\"].cast(\"timestamp\"))\\\n",
    "       .select(\"available_timestamp_adj\").show(1)\n",
    "\n",
    "# The answer is \"hell yeah\""
   ]
  },
  {
   "cell_type": "code",
   "execution_count": 26,
   "metadata": {},
   "outputs": [
    {
     "name": "stdout",
     "output_type": "stream",
     "text": [
      "root\n",
      " |-- _id: struct (nullable = true)\n",
      " |    |-- oid: string (nullable = true)\n",
      " |-- address: string (nullable = true)\n",
      " |-- battalion: string (nullable = true)\n",
      " |-- call_final_disposition: string (nullable = true)\n",
      " |-- call_type: string (nullable = true)\n",
      " |-- station_area: string (nullable = true)\n",
      " |-- zipcode_of_incident: string (nullable = true)\n",
      " |-- received_timestamp: timestamp (nullable = true)\n",
      " |-- entry_timestamp: timestamp (nullable = true)\n",
      " |-- dispatch_timestamp: timestamp (nullable = true)\n",
      " |-- response_timestamp: timestamp (nullable = true)\n",
      " |-- on_scene_timestamp: timestamp (nullable = true)\n",
      " |-- transport_timestamp: timestamp (nullable = true)\n",
      " |-- hospital_timestamp: timestamp (nullable = true)\n",
      " |-- available_timestamp: timestamp (nullable = true)\n",
      "\n"
     ]
    }
   ],
   "source": [
    "# Convert timestamp from StringType to TimestampType\n",
    "for i in range(len(timestamp_list)):\n",
    "    sffd_df = sffd_df.withColumn(timestamp_adj_list[i], \n",
    "                                 sffd_df[timestamp_list[i]].cast(\"timestamp\"))\\\n",
    "                     .drop(timestamp_list[i])\\\n",
    "                     .withColumnRenamed(timestamp_adj_list[i], timestamp_list[i])\n",
    "sffd_df.printSchema()"
   ]
  },
  {
   "cell_type": "code",
   "execution_count": 28,
   "metadata": {},
   "outputs": [],
   "source": [
    "# I guess we don't need rows with empty zipcode\n",
    "sffd_df = sffd_df.filter(\"zipcode_of_incident != ''\")"
   ]
  },
  {
   "cell_type": "code",
   "execution_count": 29,
   "metadata": {},
   "outputs": [
    {
     "data": {
      "text/plain": [
       "[Row(zipcode_of_incident=u'94102', count=570087),\n",
       " Row(zipcode_of_incident=u'94107', count=180127),\n",
       " Row(zipcode_of_incident=u'94104', count=34641),\n",
       " Row(zipcode_of_incident=u'94131', count=83845),\n",
       " Row(zipcode_of_incident=u'94112', count=215612),\n",
       " Row(zipcode_of_incident=u'94103', count=543100),\n",
       " Row(zipcode_of_incident=u'94130', count=29617),\n",
       " Row(zipcode_of_incident=u'94118', count=136152),\n",
       " Row(zipcode_of_incident=u'94117', count=154335),\n",
       " Row(zipcode_of_incident=u'94129', count=13879),\n",
       " Row(zipcode_of_incident=u'94109', count=378663),\n",
       " Row(zipcode_of_incident=u'94132', count=109934),\n",
       " Row(zipcode_of_incident=u'94123', count=94463),\n",
       " Row(zipcode_of_incident=u'94158', count=20320),\n",
       " Row(zipcode_of_incident=u'94105', count=108715),\n",
       " Row(zipcode_of_incident=u'94111', count=76258),\n",
       " Row(zipcode_of_incident=u'94134', count=126582),\n",
       " Row(zipcode_of_incident=u'94116', count=98739),\n",
       " Row(zipcode_of_incident=u'94127', count=47437),\n",
       " Row(zipcode_of_incident=u'94122', count=163262),\n",
       " Row(zipcode_of_incident=u'94124', count=237304),\n",
       " Row(zipcode_of_incident=u'94114', count=134788),\n",
       " Row(zipcode_of_incident=u'94133', count=162752),\n",
       " Row(zipcode_of_incident=u'94115', count=204275),\n",
       " Row(zipcode_of_incident=u'94108', count=106397),\n",
       " Row(zipcode_of_incident=u'94121', count=122126),\n",
       " Row(zipcode_of_incident=u'94110', count=389806)]"
      ]
     },
     "execution_count": 29,
     "metadata": {},
     "output_type": "execute_result"
    }
   ],
   "source": [
    "# Test if we filter out the empty zipcode\n",
    "sffd_df.groupBy(\"zipcode_of_incident\").count().rdd.collect()"
   ]
  },
  {
   "cell_type": "code",
   "execution_count": null,
   "metadata": {},
   "outputs": [],
   "source": []
  }
 ],
 "metadata": {
  "kernelspec": {
   "display_name": "Python 2",
   "language": "python",
   "name": "python2"
  },
  "language_info": {
   "codemirror_mode": {
    "name": "ipython",
    "version": 2
   },
   "file_extension": ".py",
   "mimetype": "text/x-python",
   "name": "python",
   "nbconvert_exporter": "python",
   "pygments_lexer": "ipython2",
   "version": "2.7.15"
  }
 },
 "nbformat": 4,
 "nbformat_minor": 2
}
