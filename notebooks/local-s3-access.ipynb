{
 "cells": [
  {
   "cell_type": "code",
   "execution_count": 1,
   "metadata": {},
   "outputs": [],
   "source": [
    "# Documentation: https://boto3.amazonaws.com/v1/documentation/api/latest/guide/configuration.html\n",
    "# Go to: \n",
    "# https://console.aws.amazon.com/iam/home?region=us-west-2#/security_credential\n",
    "    # -> acces keys -> create new acccess key -> show access key\n",
    "# $ nano ~/.aws/credentials\n",
    "    # update with values"
   ]
  },
  {
   "cell_type": "code",
   "execution_count": 2,
   "metadata": {},
   "outputs": [],
   "source": [
    "import pyspark\n",
    "import os\n",
    "import boto3 "
   ]
  },
  {
   "cell_type": "code",
   "execution_count": 3,
   "metadata": {},
   "outputs": [],
   "source": [
    "sc = pyspark.SparkContext.getOrCreate()"
   ]
  },
  {
   "cell_type": "code",
   "execution_count": 4,
   "metadata": {},
   "outputs": [],
   "source": [
    "bucket_name = 'msds697jonross.and.friends' # Add your bucket name\n",
    "file_name = 'trees.csv' # select file\n",
    "\n",
    "s3 = boto3.resource('s3')\n",
    "bucket = s3.Bucket(bucket_name) \n",
    "obj = bucket.Object(key=file_name) # S3 uses key-value structure where key is your file name\n",
    "file_content = obj.get()[\"Body\"].read() # Read the Body which is the contents of the file."
   ]
  },
  {
   "cell_type": "code",
   "execution_count": 5,
   "metadata": {},
   "outputs": [
    {
     "data": {
      "text/plain": [
       "b\"legal_status,species,address,plant_type,plant_date,dbh,latitude,longitude,location\\nPermitted Site,Tree(s) ::,,Tree,2001-04-25 00:00:00+00:00,,,,\\nPermitted Site,Tree(s) ::,,Tree,2002-07-17 00:00:00+00:00,,,,\\nPermitted Site,Tree(s) ::,,Tree,2002-07-17 00:00:00+00:00,,,,\\nPermitted Site,Pittosporum undulatum :: Victorian Box,,Tree,1998-05-26 00:00:00+00:00,,,,\\nPermitted Site,Tree(s) ::,,Tree,2002-07-17 00:00:00+00:00,,,,\\nPermitted Site,Tree(s) ::,,Tree,2001-04-29 00:00:00+00:00,,,,\\nPermitted Site,Tree(s) ::,,Tree,2002-07-17 00:00:00+00:00,,,,\\nPermitted Site,Tree(s) ::,,Tree,1979-08-20 00:00:00+00:00,,,,\\nPermitted Site,Tree(s) ::,,Tree,2001-12-06 00:00:00+00:00,,,,\\nPermitted Site,Tree(s) ::,,Tree,2002-07-17 00:00:00+00:00,,,,\\nPermitted Site,Tree(s) ::,,Tree,2002-07-17 00:00:00+00:00,,,,\\nPermitted Site,Tree(s) ::,,Tree,2002-07-17 00:00:00+00:00,,,,\\nPermitted Site,Tree(s) ::,,Tree,2001-04-29 00:00:00+00:00,,,,\\nPermitted Site,Olea europaea :: Olive Tree,,Tree,1998-02-17 00:00:00+00:00,,,,\\nPermitted Site,Tree(s) ::,,Tree,2001-04-25 00:00:00+00:00,,,,\\nPermitted Site,Tree(s) ::,,Tree,2001-04-29 00:00:00+00:00,,,,\\nPermitted Site,Tree(s) ::,,Tree,2001-04-29 00:00:00+00:00,,,,\\nPermitted Site,Tree(s) ::,,Tree,2001-04-25 00:00:00+00:00,,,,\\nPermitted Site,Tree(s) ::,,Tree,2001-12-06 00:00:00+00:00,,,,\\nPermitted Site,Melaleuca linariifolia :: Flaxleaf Paperbark,,Tree,2000-07-19 00:00:00+00:00,,,,\\nPermitted Site,Tree(s) ::,,Tree,2002-07-17 00:00:00+00:00,,,,\\nPermitted Site,Tree(s) ::,,Tree,2001-04-29 00:00:00+00:00,,,,\\nPermitted Site,Tree(s) ::,,Tree,2001-04-29 00:00:00+00:00,,,,\\nPermitted Site,Tree(s) ::,,Tree,,,,,\\nPermitted Site,Arbutus 'Marina' :: Hybrid Strawberry Tree,,Tree,1997-07-05 00:00:00+00:00,,,,\\nPermitted Site,Tree(s) ::,,Tree,2002-07-17 00:00:00+00:00,,,,\\nPermitted Site,Tree(s) ::,,Tree,2001-04-29 00:00:00+00:00,,,,\\nPermitted Site,Tree(s) ::,,Tree,2001-04-29 00:00:00+00:00,,,,\\nPermitted Site,Tree(s) ::,,Tree,2002-07-17 00:00:00+00:00,,,,\\nPermitted Site,Washingtonia robus\""
      ]
     },
     "execution_count": 5,
     "metadata": {},
     "output_type": "execute_result"
    }
   ],
   "source": [
    "file_content[:2000]"
   ]
  },
  {
   "cell_type": "code",
   "execution_count": null,
   "metadata": {},
   "outputs": [],
   "source": []
  }
 ],
 "metadata": {
  "kernelspec": {
   "display_name": "Python 3",
   "language": "python",
   "name": "python3"
  },
  "language_info": {
   "codemirror_mode": {
    "name": "ipython",
    "version": 3
   },
   "file_extension": ".py",
   "mimetype": "text/x-python",
   "name": "python",
   "nbconvert_exporter": "python",
   "pygments_lexer": "ipython3",
   "version": "3.6.6"
  },
  "varInspector": {
   "cols": {
    "lenName": 16,
    "lenType": 16,
    "lenVar": 40
   },
   "kernels_config": {
    "python": {
     "delete_cmd_postfix": "",
     "delete_cmd_prefix": "del ",
     "library": "var_list.py",
     "varRefreshCmd": "print(var_dic_list())"
    },
    "r": {
     "delete_cmd_postfix": ") ",
     "delete_cmd_prefix": "rm(",
     "library": "var_list.r",
     "varRefreshCmd": "cat(var_dic_list()) "
    }
   },
   "types_to_exclude": [
    "module",
    "function",
    "builtin_function_or_method",
    "instance",
    "_Feature"
   ],
   "window_display": false
  }
 },
 "nbformat": 4,
 "nbformat_minor": 2
}
