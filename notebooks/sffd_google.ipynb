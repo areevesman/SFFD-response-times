{
 "cells": [
  {
   "cell_type": "code",
   "execution_count": 364,
   "metadata": {},
   "outputs": [],
   "source": [
    "import pyspark\n",
    "from pyspark.sql.types import *\n",
    "import os\n",
    "import json\n",
    "import requests\n",
    "import boto3\n",
    "import numpy as np\n",
    "from pyspark.sql.functions import *"
   ]
  },
  {
   "cell_type": "code",
   "execution_count": 7,
   "metadata": {},
   "outputs": [],
   "source": [
    "sc = pyspark.SparkContext.getOrCreate()\n",
    "ss = pyspark.sql.SparkSession.builder.getOrCreate()"
   ]
  },
  {
   "cell_type": "code",
   "execution_count": 8,
   "metadata": {},
   "outputs": [],
   "source": [
    "bucket_name = 'msds697jonross.and.friends' # Add your bucket name\n",
    "file_name = 'sffd.csv' # select file\n",
    "s3 = boto3.resource('s3')\n",
    "bucket = s3.Bucket(bucket_name) \n",
    "obj = bucket.Object(key=file_name) # S3 uses key-value structure where key is your file name\n",
    "file_content = obj.get()[\"Body\"].read().decode(\"utf-8\") # Read the Body which is the contents of the file."
   ]
  },
  {
   "cell_type": "code",
   "execution_count": 9,
   "metadata": {},
   "outputs": [
    {
     "data": {
      "text/plain": [
       "4557045"
      ]
     },
     "execution_count": 9,
     "metadata": {},
     "output_type": "execute_result"
    }
   ],
   "source": [
    "# number of rows (subract header and empty line at end)\n",
    "rows = file_content.split('\\n')\n",
    "len(rows)-2"
   ]
  },
  {
   "cell_type": "code",
   "execution_count": 63,
   "metadata": {},
   "outputs": [
    {
     "data": {
      "text/plain": [
       "14"
      ]
     },
     "execution_count": 63,
     "metadata": {},
     "output_type": "execute_result"
    }
   ],
   "source": [
    "# number of  columns\n",
    "column_names = rows[0].split(',')\n",
    "n_cols = sc.broadcast(len(column_names))\n",
    "n_cols.value"
   ]
  },
  {
   "cell_type": "code",
   "execution_count": 64,
   "metadata": {},
   "outputs": [
    {
     "name": "stdout",
     "output_type": "stream",
     "text": [
      "call_type   received_timestamp   entry_timestamp   dispatch_timestamp   response_timestamp   on_scene_timestamp   transport_timestamp   hospital_timestamp   call_final_disposition   available_timestamp   address   zipcode_of_incident   battalion   station_area\n"
     ]
    }
   ],
   "source": [
    "print('   '.join(x for x in column_names))"
   ]
  },
  {
   "cell_type": "code",
   "execution_count": 65,
   "metadata": {},
   "outputs": [
    {
     "data": {
      "text/plain": [
       "array(['Medical Incident,2009-12-21 14:38:56+00:00,2009-12-21 14:39:41+00:00,2009-12-21 14:41:41+00:00,2009-12-21 14:41:59+00:00,2009-12-21 14:51:09+00:00,2009-12-21 15:07:26+00:00,2009-12-21 15:21:41+00:00,Code 2 Transport,2009-12-21 15:47:56+00:00,200 Block of 6TH ST,94103,B03,01',\n",
       "       'Medical Incident,2007-10-06 22:07:39+00:00,2007-10-06 22:09:05+00:00,2007-10-06 22:09:46+00:00,2007-10-06 22:10:43+00:00,2007-10-06 22:13:46+00:00,2007-10-06 22:27:28+00:00,2007-10-06 22:35:57+00:00,Code 2 Transport,2007-10-06 23:01:56+00:00,FRANKLIN ST/GROVE ST,94102,B02,36'],\n",
       "      dtype='<U315')"
      ]
     },
     "execution_count": 65,
     "metadata": {},
     "output_type": "execute_result"
    }
   ],
   "source": [
    "# randomly sample rows\n",
    "sz=10000\n",
    "samples = np.random.choice(rows[1:], size=sz, replace=False)\n",
    "samples[:2]"
   ]
  },
  {
   "cell_type": "code",
   "execution_count": 68,
   "metadata": {},
   "outputs": [],
   "source": [
    "def filter_fire(x):\n",
    "    return len(x.split(',')) == n_cols.value\n",
    "\n",
    "rdd = sc.parallelize(list(samples))\\\n",
    "    .filter(filter_fire)\\\n",
    "    .map(lambda x: x.split(','))"
   ]
  },
  {
   "cell_type": "code",
   "execution_count": 71,
   "metadata": {},
   "outputs": [
    {
     "data": {
      "text/plain": [
       "14"
      ]
     },
     "execution_count": 71,
     "metadata": {},
     "output_type": "execute_result"
    }
   ],
   "source": [
    "# number of rows removed\n",
    "sz - rdd.count()"
   ]
  },
  {
   "cell_type": "code",
   "execution_count": 97,
   "metadata": {},
   "outputs": [],
   "source": [
    "schema = StructType([StructField(\"call_type\", StringType(), False),\n",
    "                    StructField(\"received_timestamp\", StringType(), False),\n",
    "                    StructField(\"entry_timestamp\", StringType(), False),\n",
    "                    StructField(\"dispatch_timestamp\", StringType(), False),\n",
    "                    StructField(\"response_timestamp\", StringType(), False),\n",
    "                    StructField(\"on_scene_timestamp\", StringType(), False),\n",
    "                    StructField(\"transport_timestamp\", StringType(), False),\n",
    "                    StructField(\"hospital_timestamp\", StringType(), False),\n",
    "                    StructField(\"call_final_disposition\", StringType(), False),\n",
    "                    StructField(\"available_timestamp\", StringType(), False),\n",
    "                    StructField(\"address\", StringType(), False),\n",
    "                    StructField(\"zipcode_of_incident\", StringType(), False),\n",
    "                    StructField(\"battalion\", StringType(), False),\n",
    "                    StructField(\"station_area\", StringType(), False)\n",
    "                    ])"
   ]
  },
  {
   "cell_type": "code",
   "execution_count": 98,
   "metadata": {},
   "outputs": [],
   "source": [
    "df = ss.createDataFrame(rdd, schema)"
   ]
  },
  {
   "cell_type": "code",
   "execution_count": 99,
   "metadata": {},
   "outputs": [
    {
     "name": "stdout",
     "output_type": "stream",
     "text": [
      "root\n",
      " |-- call_type: string (nullable = false)\n",
      " |-- received_timestamp: string (nullable = false)\n",
      " |-- entry_timestamp: string (nullable = false)\n",
      " |-- dispatch_timestamp: string (nullable = false)\n",
      " |-- response_timestamp: string (nullable = false)\n",
      " |-- on_scene_timestamp: string (nullable = false)\n",
      " |-- transport_timestamp: string (nullable = false)\n",
      " |-- hospital_timestamp: string (nullable = false)\n",
      " |-- call_final_disposition: string (nullable = false)\n",
      " |-- available_timestamp: string (nullable = false)\n",
      " |-- address: string (nullable = false)\n",
      " |-- zipcode_of_incident: string (nullable = false)\n",
      " |-- battalion: string (nullable = false)\n",
      " |-- station_area: string (nullable = false)\n",
      "\n"
     ]
    }
   ],
   "source": [
    "df.printSchema()"
   ]
  },
  {
   "cell_type": "code",
   "execution_count": 116,
   "metadata": {},
   "outputs": [],
   "source": [
    "my_rows = ['received_timestamp',\n",
    "          'entry_timestamp',\n",
    "          'dispatch_timestamp',\n",
    "          'response_timestamp',\n",
    "          'on_scene_timestamp',\n",
    "          'transport_timestamp',\n",
    "          'hospital_timestamp',\n",
    "          'available_timestamp']\n",
    "\n",
    "df_w_time = df\n",
    "for row in my_rows:\n",
    "    df_w_time = df_w_time.withColumn(row, to_timestamp(df[row], format = 'yyyy-MM-dd HH:mm:ss+00:00'))"
   ]
  },
  {
   "cell_type": "code",
   "execution_count": 137,
   "metadata": {
    "scrolled": false
   },
   "outputs": [],
   "source": [
    "small_df = df_w_time.select('call_type',\n",
    "                 'received_timestamp',\n",
    "                 'on_scene_timestamp',\n",
    "                 'address',\n",
    "                 'zipcode_of_incident',\n",
    "                 'battalion',\n",
    "                 'station_area')\\\n",
    "    .withColumn(\"response_time\", \n",
    "                (unix_timestamp('on_scene_timestamp') - unix_timestamp('received_timestamp')) / 60)\\\n",
    "    .orderBy('received_timestamp', ascending=[0])"
   ]
  },
  {
   "cell_type": "code",
   "execution_count": 334,
   "metadata": {},
   "outputs": [],
   "source": [
    "df_ = df.select('station_area', 'address').where('station_area not in (\"\",\"A1\",\"A2\",\"A3\")')"
   ]
  },
  {
   "cell_type": "code",
   "execution_count": 335,
   "metadata": {},
   "outputs": [
    {
     "name": "stdout",
     "output_type": "stream",
     "text": [
      "+------------+-------------------------------+\n",
      "|station_area|address                        |\n",
      "+------------+-------------------------------+\n",
      "|01          |200 Block of 6TH ST            |\n",
      "|36          |FRANKLIN ST/GROVE ST           |\n",
      "|03          |1200 Block of SUTTER ST        |\n",
      "|15          |1000 Block of CAYUGA AVE       |\n",
      "|08          |BRYANT ST/MORRIS ST            |\n",
      "|28          |JEFFERSON ST/POWELL ST         |\n",
      "|43          |0 Block of BLYTHDALE AVE       |\n",
      "|43          |600 Block of RUSSIA AVE        |\n",
      "|32          |3800 Block of MISSION ST       |\n",
      "|43          |100 Block of BLYTHDALE AVE     |\n",
      "|05          |1200 Block of GOLDEN GATE AVE  |\n",
      "|07          |500 Block of SOUTH VAN NESS AVE|\n",
      "|13          |200 Block of KEARNY ST         |\n",
      "|01          |800 Block of MARKET ST         |\n",
      "|01          |LEAVENWORTH ST/GOLDEN GATE AV  |\n",
      "|01          |0 Block of 6TH ST              |\n",
      "|05          |1400 Block of MCALLISTER ST    |\n",
      "|06          |200 Block of HARTFORD ST       |\n",
      "|33          |ALEMANY BL/NAGLEE AV           |\n",
      "|28          |500 Block of COLUMBUS AVE      |\n",
      "+------------+-------------------------------+\n",
      "only showing top 20 rows\n",
      "\n"
     ]
    }
   ],
   "source": [
    "df_.show(20, False)"
   ]
  },
  {
   "cell_type": "code",
   "execution_count": 352,
   "metadata": {},
   "outputs": [],
   "source": [
    "fire_stations = [\"San+Francisco+fire+department+station+\" + str(int(a['station_area'])) for a in  df_.select('station_area').collect()]\n",
    "addresses = [a['address'].replace(' ','+') for a in df_.select('address').collect()]"
   ]
  },
  {
   "cell_type": "code",
   "execution_count": 353,
   "metadata": {},
   "outputs": [
    {
     "name": "stdout",
     "output_type": "stream",
     "text": [
      "San+Francisco+fire+department+station+1 200+Block+of+6TH+ST\n",
      "San+Francisco+fire+department+station+36 FRANKLIN+ST/GROVE+ST\n",
      "San+Francisco+fire+department+station+3 1200+Block+of+SUTTER+ST\n",
      "San+Francisco+fire+department+station+15 1000+Block+of+CAYUGA+AVE\n",
      "San+Francisco+fire+department+station+8 BRYANT+ST/MORRIS+ST\n",
      "San+Francisco+fire+department+station+28 JEFFERSON+ST/POWELL+ST\n",
      "San+Francisco+fire+department+station+43 0+Block+of+BLYTHDALE+AVE\n",
      "San+Francisco+fire+department+station+43 600+Block+of+RUSSIA+AVE\n",
      "San+Francisco+fire+department+station+32 3800+Block+of+MISSION+ST\n",
      "San+Francisco+fire+department+station+43 100+Block+of+BLYTHDALE+AVE\n"
     ]
    }
   ],
   "source": [
    "for x,y in zip(fire_stations[:10], addresses[:10]):\n",
    "    print(x,y)"
   ]
  },
  {
   "cell_type": "code",
   "execution_count": 354,
   "metadata": {},
   "outputs": [
    {
     "data": {
      "text/plain": [
       "9860"
      ]
     },
     "execution_count": 354,
     "metadata": {},
     "output_type": "execute_result"
    }
   ],
   "source": [
    "len(fire_stations)"
   ]
  },
  {
   "cell_type": "code",
   "execution_count": 356,
   "metadata": {},
   "outputs": [],
   "source": [
    "apikey='<insert>'"
   ]
  },
  {
   "cell_type": "code",
   "execution_count": 357,
   "metadata": {},
   "outputs": [
    {
     "data": {
      "text/plain": [
       "'https://maps.googleapis.com/maps/api/distancematrix/json?origins=&destinations=&key={apikey}'"
      ]
     },
     "execution_count": 357,
     "metadata": {},
     "output_type": "execute_result"
    }
   ],
   "source": [
    "'https://maps.googleapis.com/maps/api/distancematrix/json?origins=&destinations=&key={apikey}'"
   ]
  },
  {
   "cell_type": "code",
   "execution_count": 386,
   "metadata": {},
   "outputs": [
    {
     "ename": "KeyError",
     "evalue": "'distance'",
     "output_type": "error",
     "traceback": [
      "\u001b[0;31m---------------------------------------------------------------------------\u001b[0m",
      "\u001b[0;31mKeyError\u001b[0m                                  Traceback (most recent call last)",
      "\u001b[0;32m<timed exec>\u001b[0m in \u001b[0;36m<module>\u001b[0;34m\u001b[0m\n",
      "\u001b[0;31mKeyError\u001b[0m: 'distance'"
     ]
    }
   ],
   "source": [
    "%%time\n",
    "\n",
    "n = 50\n",
    "distances = ['']*n\n",
    "durations = ['']*n\n",
    "for i, origin, destination in zip(range(n), fire_stations[:n],addresses[:n]):\n",
    "    r = requests.get(f'https://maps.googleapis.com/maps/api/distancematrix/json?origins={origin}&destinations={destination}&key={apikey}')\n",
    "    j = r.json()\n",
    "    e = j['rows'][0]['elements']\n",
    "    distances[i] = e[0]['distance']['value']\n",
    "    durations[i] = e[0]['duration']['value']  / 60"
   ]
  },
  {
   "cell_type": "code",
   "execution_count": 378,
   "metadata": {},
   "outputs": [
    {
     "data": {
      "text/plain": [
       "[(2827560, 1543.4333333333334), (4960850, 2705.55), (345, 1.6666666666666667)]"
      ]
     },
     "execution_count": 378,
     "metadata": {},
     "output_type": "execute_result"
    }
   ],
   "source": [
    "list(zip(distances, durations))"
   ]
  },
  {
   "cell_type": "code",
   "execution_count": 379,
   "metadata": {},
   "outputs": [],
   "source": [
    "import pandas as pd"
   ]
  },
  {
   "cell_type": "code",
   "execution_count": 383,
   "metadata": {},
   "outputs": [],
   "source": [
    "station_area = [a['station_area'] for a in df_.select('station_area').collect()]\n",
    "address = [a['address'] for a in df_.select('address').collect()]"
   ]
  },
  {
   "cell_type": "code",
   "execution_count": 384,
   "metadata": {},
   "outputs": [
    {
     "data": {
      "text/html": [
       "<div>\n",
       "<style scoped>\n",
       "    .dataframe tbody tr th:only-of-type {\n",
       "        vertical-align: middle;\n",
       "    }\n",
       "\n",
       "    .dataframe tbody tr th {\n",
       "        vertical-align: top;\n",
       "    }\n",
       "\n",
       "    .dataframe thead th {\n",
       "        text-align: right;\n",
       "    }\n",
       "</style>\n",
       "<table border=\"1\" class=\"dataframe\">\n",
       "  <thead>\n",
       "    <tr style=\"text-align: right;\">\n",
       "      <th></th>\n",
       "      <th>station_area</th>\n",
       "      <th>address</th>\n",
       "      <th>distance</th>\n",
       "      <th>duration</th>\n",
       "    </tr>\n",
       "  </thead>\n",
       "  <tbody>\n",
       "    <tr>\n",
       "      <th>0</th>\n",
       "      <td>01</td>\n",
       "      <td>200 Block of 6TH ST</td>\n",
       "      <td>2827560</td>\n",
       "      <td>1543.433333</td>\n",
       "    </tr>\n",
       "    <tr>\n",
       "      <th>1</th>\n",
       "      <td>36</td>\n",
       "      <td>FRANKLIN ST/GROVE ST</td>\n",
       "      <td>4960850</td>\n",
       "      <td>2705.550000</td>\n",
       "    </tr>\n",
       "    <tr>\n",
       "      <th>2</th>\n",
       "      <td>03</td>\n",
       "      <td>1200 Block of SUTTER ST</td>\n",
       "      <td>345</td>\n",
       "      <td>1.666667</td>\n",
       "    </tr>\n",
       "  </tbody>\n",
       "</table>\n",
       "</div>"
      ],
      "text/plain": [
       "  station_area                  address  distance     duration\n",
       "0           01      200 Block of 6TH ST   2827560  1543.433333\n",
       "1           36     FRANKLIN ST/GROVE ST   4960850  2705.550000\n",
       "2           03  1200 Block of SUTTER ST       345     1.666667"
      ]
     },
     "execution_count": 384,
     "metadata": {},
     "output_type": "execute_result"
    }
   ],
   "source": [
    "pd.DataFrame.from_dict({'station_area': station_area[:n],\n",
    "                        'address': address[:n],\n",
    "                        'distance': distances[:n],\n",
    "                        'duration': durations[:n]})"
   ]
  },
  {
   "cell_type": "code",
   "execution_count": 271,
   "metadata": {
    "scrolled": false
   },
   "outputs": [],
   "source": [
    "stations = df.select('station_area').distinct().orderBy('station_area').collect()"
   ]
  },
  {
   "cell_type": "code",
   "execution_count": 277,
   "metadata": {
    "scrolled": true
   },
   "outputs": [],
   "source": [
    "d = {'station_area' : [row['station_area'] for row in stations][1:]}"
   ]
  },
  {
   "cell_type": "code",
   "execution_count": 294,
   "metadata": {},
   "outputs": [],
   "source": [
    "stations = [\"0\"+str(i) for i in range(1,10)] + [str(i) for i in range(10,52)]"
   ]
  },
  {
   "cell_type": "code",
   "execution_count": 298,
   "metadata": {},
   "outputs": [
    {
     "name": "stdout",
     "output_type": "stream",
     "text": [
      "1067 Post Street at Polk Street\n"
     ]
    }
   ],
   "source": [
    "d={}\n",
    "for i, k in enumerate(stations):\n",
    "    d[k] =  addresses[i]\n",
    "print(d['03'])"
   ]
  },
  {
   "cell_type": "code",
   "execution_count": null,
   "metadata": {},
   "outputs": [],
   "source": []
  },
  {
   "cell_type": "code",
   "execution_count": null,
   "metadata": {},
   "outputs": [],
   "source": []
  },
  {
   "cell_type": "code",
   "execution_count": null,
   "metadata": {},
   "outputs": [],
   "source": []
  },
  {
   "cell_type": "code",
   "execution_count": 293,
   "metadata": {},
   "outputs": [],
   "source": [
    "# thought we needed this but we probably dont\n",
    "# addresses = ['935 Folsom at 5th Street',\n",
    "#             '1340 Powell Street at Broadway',\n",
    "#             '1067 Post Street at Polk Street',\n",
    "#             '449 Mission Rock at 3rd Street ',\n",
    "#             '1301 Turk Street at Webster Street',\n",
    "#             '135 Sanchez Street at Henry Street',\n",
    "#             '2300 Folsom Street at 19th Street',\n",
    "#             '36 Bluxome Street at 4th Street',\n",
    "#             '2245 Jerrold Avenue at Upton Street',\n",
    "#             '655 Presidio Avenue at Bush Street',\n",
    "#             '3880 26th Street at Church Street',\n",
    "#             '1145 Stanyan Street at Grattan Street',\n",
    "#             '530 Sansome Street at Washington Street',\n",
    "#             '551 26th Avenue at Geary Boulevard',\n",
    "#             '1000 Ocean Avenue at Phelan Avenue',\n",
    "#             '2251 Greenwich Street at Fillmore Street',\n",
    "#             '1295 Shafter Avenue at Ingalls Street',\n",
    "#             '1935 32nd Avenue at Ortega Street',\n",
    "#             '390 Buckingham Way at Winston Street',\n",
    "#             '285 Olympia Way at Clarendon Avenue',\n",
    "#             '1443 Grove Street at Broderick Street',\n",
    "#             '1290 16th Avenue at Irving Street',\n",
    "#             '1348 45th Avenue at Judah Street',\n",
    "#             '100 Hoffman Avenue at Alvarado Street',\n",
    "#             '3305 3rd Street at Cargo Way',\n",
    "#             '80 Digby Street at Addison Street',\n",
    "#             '',\n",
    "#             '1814 Stockton Street at Greenwich Street',\n",
    "#             '299 Vermont Street at 16th Street',\n",
    "#             '',\n",
    "#             '441 12th Avenue at Geary Boulevard',\n",
    "#             '194 Park Street at Holly Park Circle',\n",
    "#             '8 Capitol Avenue at Sagamore Street',\n",
    "#             '499 41st Avenue at Geary Boulevard',\n",
    "#             'Pier 22½, The Embarcadero at Harrison Street',\n",
    "#             '109 Oak Street at Franklin Street',\n",
    "#             '798 Wisconsin Street at 22nd Street',\n",
    "#             '2150 California Street at Laguna Street',\n",
    "#             '1091 Portola Drive at Miraloma Drive',\n",
    "#             '2155 18th Avenue at Rivera Street',\n",
    "#             '1325 Leavenworth Street at Jackson Street',\n",
    "#             '2430 San Bruno Avenue at Silver Avenue',\n",
    "#             '720 Moscow Street at France Avenue',\n",
    "#             '1298 Girard Street at Wilde Avenue',\n",
    "#             '',\n",
    "#             '',\n",
    "#             '',\n",
    "#             '800 Avenue I at 10th Street, Treasure Island',\n",
    "#             '1415 Evans Avenue at Mendell Street',\n",
    "#             '',\n",
    "#             '218 Lincoln Blvd at Keyes Avenue']"
   ]
  }
 ],
 "metadata": {
  "anaconda-cloud": {},
  "kernelspec": {
   "display_name": "Python 3",
   "language": "python",
   "name": "python3"
  },
  "language_info": {
   "codemirror_mode": {
    "name": "ipython",
    "version": 3
   },
   "file_extension": ".py",
   "mimetype": "text/x-python",
   "name": "python",
   "nbconvert_exporter": "python",
   "pygments_lexer": "ipython3",
   "version": "3.6.6"
  },
  "varInspector": {
   "cols": {
    "lenName": 16,
    "lenType": 16,
    "lenVar": 40
   },
   "kernels_config": {
    "python": {
     "delete_cmd_postfix": "",
     "delete_cmd_prefix": "del ",
     "library": "var_list.py",
     "varRefreshCmd": "print(var_dic_list())"
    },
    "r": {
     "delete_cmd_postfix": ") ",
     "delete_cmd_prefix": "rm(",
     "library": "var_list.r",
     "varRefreshCmd": "cat(var_dic_list()) "
    }
   },
   "types_to_exclude": [
    "module",
    "function",
    "builtin_function_or_method",
    "instance",
    "_Feature"
   ],
   "window_display": false
  }
 },
 "nbformat": 4,
 "nbformat_minor": 1
}
