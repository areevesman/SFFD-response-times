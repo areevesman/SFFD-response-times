{
 "cells": [
  {
   "cell_type": "code",
   "execution_count": 1,
   "metadata": {},
   "outputs": [],
   "source": [
    "import os"
   ]
  },
  {
   "cell_type": "code",
   "execution_count": 2,
   "metadata": {},
   "outputs": [],
   "source": [
    "from pyspark.sql import SparkSession"
   ]
  },
  {
   "cell_type": "code",
   "execution_count": 3,
   "metadata": {},
   "outputs": [],
   "source": [
    "from pyspark import SparkContext"
   ]
  },
  {
   "cell_type": "code",
   "execution_count": 6,
   "metadata": {},
   "outputs": [],
   "source": [
    "sc = SparkContext()"
   ]
  },
  {
   "cell_type": "code",
   "execution_count": 9,
   "metadata": {},
   "outputs": [],
   "source": [
    "pyspark_submit_args = '--packages org.mongodo.spark:mongo-spark-connector_2.11:2.4.0 pyspark-shell'"
   ]
  },
  {
   "cell_type": "code",
   "execution_count": 10,
   "metadata": {},
   "outputs": [],
   "source": [
    "os.environ['PYSPARK_SUBMIT_ARGS'] = pyspark_submit_args"
   ]
  },
  {
   "cell_type": "code",
   "execution_count": 22,
   "metadata": {},
   "outputs": [],
   "source": [
    "spark = SparkSession\\\n",
    "        .builder\\\n",
    "        .appName('jonrossandfriends')\\\n",
    "        .config('spark.mongodb.input.uri', 'mongodb://34.214.80.18/msds697.sffd')\\\n",
    "        .getOrCreate()"
   ]
  },
  {
   "cell_type": "code",
   "execution_count": 23,
   "metadata": {},
   "outputs": [],
   "source": [
    "df = spark.read.format('com.mongodb.spark.sql.DefaultSource').load()"
   ]
  },
  {
   "cell_type": "code",
   "execution_count": 24,
   "metadata": {},
   "outputs": [
    {
     "name": "stdout",
     "output_type": "stream",
     "text": [
      "root\n",
      " |-- _id: struct (nullable = true)\n",
      " |    |-- oid: string (nullable = true)\n",
      " |-- address: string (nullable = true)\n",
      " |-- available_timestamp: string (nullable = true)\n",
      " |-- battalion: string (nullable = true)\n",
      " |-- call_final_disposition: string (nullable = true)\n",
      " |-- call_type: string (nullable = true)\n",
      " |-- dispatch_timestamp: string (nullable = true)\n",
      " |-- entry_timestamp: string (nullable = true)\n",
      " |-- hospital_timestamp: string (nullable = true)\n",
      " |-- on_scene_timestamp: string (nullable = true)\n",
      " |-- received_timestamp: string (nullable = true)\n",
      " |-- response_timestamp: string (nullable = true)\n",
      " |-- station_area: string (nullable = true)\n",
      " |-- transport_timestamp: string (nullable = true)\n",
      " |-- zipcode_of_incident: string (nullable = true)\n",
      "\n"
     ]
    }
   ],
   "source": [
    "df.printSchema()"
   ]
  },
  {
   "cell_type": "code",
   "execution_count": 25,
   "metadata": {},
   "outputs": [
    {
     "name": "stdout",
     "output_type": "stream",
     "text": [
      "+--------------------+--------------------+--------------------+---------+----------------------+----------------+--------------------+--------------------+--------------------+--------------------+--------------------+--------------------+------------+--------------------+-------------------+\n",
      "|                 _id|             address| available_timestamp|battalion|call_final_disposition|       call_type|  dispatch_timestamp|     entry_timestamp|  hospital_timestamp|  on_scene_timestamp|  received_timestamp|  response_timestamp|station_area| transport_timestamp|zipcode_of_incident|\n",
      "+--------------------+--------------------+--------------------+---------+----------------------+----------------+--------------------+--------------------+--------------------+--------------------+--------------------+--------------------+------------+--------------------+-------------------+\n",
      "|[5c413fb4b760937d...|200 Block of WILL...|2004-09-13 22:45:...|      B10|                 Other|Medical Incident|2004-09-13 22:38:...|2004-09-13 22:38:...|                    |2004-09-13 22:42:...|2004-09-13 22:37:...|2004-09-13 22:40:...|          A3|                    |              94124|\n",
      "|[5c413fb4b760937d...|0 Block of MISSIO...|2016-07-29 22:53:...|      B03|             Cancelled|Medical Incident|2016-07-29 22:51:...|2016-07-29 22:50:...|                    |                    |2016-07-29 22:50:...|2016-07-29 22:51:...|           4|                    |              94158|\n",
      "|[5c413fb4b760937d...|1900 Block of 4TH ST|2017-10-05 14:13:...|      B03|      Code 2 Transport|Medical Incident|2017-10-05 14:05:...|2017-10-05 14:05:...|                    |2017-10-05 14:10:...|2017-10-05 14:04:...|2017-10-05 14:06:...|           4|                    |              94158|\n",
      "|[5c413fb4b760937d...|800 Block of ELLS...|2004-09-05 07:45:...|      B06|                 Other|Medical Incident|2004-09-05 06:24:...|2004-09-05 06:24:...|2004-09-05 07:02:...|2004-09-05 06:33:...|2004-09-05 06:21:...|2004-09-05 06:28:...|          A3|2004-09-05 06:53:...|              94110|\n",
      "|[5c413fb4b760937d...|  3RD ST/HARRISON ST|2004-10-23 02:14:...|      B03|                 Other|Medical Incident|2004-10-23 01:21:...|2004-10-23 01:21:...|2004-10-23 01:44:...|2004-10-23 01:27:...|2004-10-23 01:18:...|2004-10-23 01:23:...|          A1|2004-10-23 01:34:...|              94107|\n",
      "|[5c413fb4b760937d...|700 Block of CHIN...|2016-06-29 15:32:...|      B03|                  Fire|          Alarms|2016-06-29 15:06:...|2016-06-29 15:05:...|                    |2016-06-29 15:10:...|2016-06-29 15:04:...|2016-06-29 15:09:...|           4|                    |              94158|\n",
      "|[5c413fb4b760937d...|900 Block of TENN...|2015-11-08 01:38:...|      B10|                  Fire|          Alarms|2015-11-08 01:27:...|2015-11-08 01:27:...|                    |2015-11-08 01:32:...|2015-11-08 01:24:...|2015-11-08 01:29:...|           4|                    |              94107|\n",
      "|[5c413fb4b760937d...|400 Block of BAY ...|2004-09-08 04:31:...|      B10|                 Other|  Structure Fire|2004-09-08 04:18:...|2004-09-08 04:18:...|                    |2004-09-08 04:30:...|2004-09-08 04:16:...|2004-09-08 04:19:...|          A3|                    |              94110|\n",
      "|[5c413fb4b760937d...| 0 Block of WILLS ST|2004-08-22 10:56:...|      B10|                 Other|Medical Incident|2004-08-22 10:06:...|2004-08-22 10:06:...|                    |2004-08-22 10:13:...|2004-08-22 10:03:...|2004-08-22 10:07:...|          A3|2004-08-22 10:28:...|              94124|\n",
      "|[5c413fb4b760937d...|500 Block of MISS...|2015-10-19 10:59:...|      B03|      Code 2 Transport|Medical Incident|2015-10-19 09:19:...|2015-10-19 09:18:...|2015-10-19 10:24:...|2015-10-19 09:27:...|2015-10-19 09:17:...|2015-10-19 09:19:...|           4|2015-10-19 09:55:...|              94158|\n",
      "|[5c413fb4b760937d...|1200 Block of 3RD ST|2016-03-27 21:09:...|      B03|      Code 2 Transport|Medical Incident|2016-03-27 19:36:...|2016-03-27 19:35:...|2016-03-27 20:20:...|2016-03-27 19:39:...|2016-03-27 19:35:...|2016-03-27 19:36:...|           4|2016-03-27 20:03:...|              94158|\n",
      "|[5c413fb4b760937d...| INNES AV/DONAHUE ST|2015-03-20 16:24:...|      B10|      Code 2 Transport|Medical Incident|2015-03-20 15:06:...|2015-03-20 14:59:...|2015-03-20 15:36:...|2015-03-20 15:07:...|2015-03-20 14:56:...|2015-03-20 15:07:...|          47|2015-03-20 15:21:...|              94124|\n",
      "|[5c413fb4b760937d...|2700 Block of 24T...|2004-09-08 05:19:...|      B06|                 Other|           Other|2004-09-08 05:02:...|2004-09-08 05:02:...|                    |2004-09-08 05:05:...|2004-09-08 05:01:...|2004-09-08 05:05:...|          A3|                    |              94110|\n",
      "|[5c413fb4b760937d...| 500 Block of 5TH ST|2017-02-07 22:28:...|      B03|      Code 2 Transport|Medical Incident|2017-02-07 21:11:...|2017-02-07 21:10:...|2017-02-07 21:46:...|2017-02-07 21:14:...|2017-02-07 21:09:...|2017-02-07 21:11:...|            |2017-02-07 21:36:...|              94107|\n",
      "|[5c413fb4b760937d...|100 Block of BAY ...|2004-09-28 03:00:...|      B10|                 Other|Medical Incident|2004-09-28 02:20:...|2004-09-28 02:19:...|2004-09-28 02:33:...|2004-09-28 02:28:...|2004-09-28 02:17:...|2004-09-28 02:21:...|          A3|2004-09-28 02:31:...|              94124|\n",
      "|[5c413fb4b760937d...|300 Block of FRIE...|2016-11-21 09:41:...|      B10|                  Fire|  Structure Fire|2016-11-21 09:32:...|2016-11-21 09:31:...|                    |2016-11-21 09:40:...|2016-11-21 09:28:...|2016-11-21 09:34:...|          47|                    |              94124|\n",
      "|[5c413fb4b760937d...|500 Block of PORT...|2001-02-05 12:30:...|      B06|                 Other|Medical Incident|2001-02-05 12:06:...|2001-02-05 12:05:...|                    |                    |2001-02-05 12:05:...|2001-02-05 12:12:...|          20|                    |              94131|\n",
      "|[5c413fb4b760937d...|1000 Block of CON...|2004-09-25 19:11:...|      B10|                 Other|  Structure Fire|2004-09-25 19:06:...|2004-09-25 19:06:...|                    |2004-09-25 19:09:...|2004-09-25 19:05:...|2004-09-25 19:07:...|          A3|                    |              94107|\n",
      "|[5c413fb4b760937d...|MARIPOSA ST/INDIA...|2016-03-11 21:03:...|      B03|              No Merit|Medical Incident|2016-03-11 20:54:...|2016-03-11 20:54:...|                    |                    |2016-03-11 20:52:...|2016-03-11 20:55:...|           4|                    |              94107|\n",
      "|[5c413fb4b760937d...|           CALL BOX:|2014-09-10 22:28:...|      B10|      Code 2 Transport|Medical Incident|2014-09-10 20:38:...|2014-09-10 20:37:...|2014-09-10 21:39:...|2014-09-10 20:54:...|2014-09-10 20:35:...|2014-09-10 20:38:...|          47|2014-09-10 21:07:...|              94124|\n",
      "+--------------------+--------------------+--------------------+---------+----------------------+----------------+--------------------+--------------------+--------------------+--------------------+--------------------+--------------------+------------+--------------------+-------------------+\n",
      "only showing top 20 rows\n",
      "\n"
     ]
    }
   ],
   "source": [
    "df.show()"
   ]
  },
  {
   "cell_type": "code",
   "execution_count": 36,
   "metadata": {},
   "outputs": [
    {
     "data": {
      "text/plain": [
       "[Row(zipcode_of_incident=u'94102', count=570087),\n",
       " Row(zipcode_of_incident=u'94107', count=180127),\n",
       " Row(zipcode_of_incident=u'94104', count=34641),\n",
       " Row(zipcode_of_incident=u'94131', count=83845),\n",
       " Row(zipcode_of_incident=u'94112', count=215612),\n",
       " Row(zipcode_of_incident=u'94103', count=543100),\n",
       " Row(zipcode_of_incident=u'94130', count=29617),\n",
       " Row(zipcode_of_incident=u'94118', count=136152),\n",
       " Row(zipcode_of_incident=u'94117', count=154335),\n",
       " Row(zipcode_of_incident=u'94129', count=13879),\n",
       " Row(zipcode_of_incident=u'94109', count=378663),\n",
       " Row(zipcode_of_incident=u'94132', count=109934),\n",
       " Row(zipcode_of_incident=u'94123', count=94463),\n",
       " Row(zipcode_of_incident=u'94158', count=20320),\n",
       " Row(zipcode_of_incident=u'94105', count=108715),\n",
       " Row(zipcode_of_incident=u'94111', count=76258),\n",
       " Row(zipcode_of_incident=u'94134', count=126582),\n",
       " Row(zipcode_of_incident=u'94116', count=98739),\n",
       " Row(zipcode_of_incident=u'94127', count=47437),\n",
       " Row(zipcode_of_incident=u'94122', count=163262),\n",
       " Row(zipcode_of_incident=u'94124', count=237304),\n",
       " Row(zipcode_of_incident=u'94114', count=134788),\n",
       " Row(zipcode_of_incident=u'94133', count=162752),\n",
       " Row(zipcode_of_incident=u'94115', count=204275),\n",
       " Row(zipcode_of_incident=u'94121', count=122126),\n",
       " Row(zipcode_of_incident=u'94108', count=106397),\n",
       " Row(zipcode_of_incident=u'', count=13829),\n",
       " Row(zipcode_of_incident=u'94110', count=389806)]"
      ]
     },
     "execution_count": 36,
     "metadata": {},
     "output_type": "execute_result"
    }
   ],
   "source": [
    "df.groupBy(\"zipcode_of_incident\").count().rdd.collect()"
   ]
  },
  {
   "cell_type": "code",
   "execution_count": null,
   "metadata": {},
   "outputs": [],
   "source": []
  }
 ],
 "metadata": {
  "kernelspec": {
   "display_name": "Python 3",
   "language": "python",
   "name": "python3"
  },
  "language_info": {
   "codemirror_mode": {
    "name": "ipython",
    "version": 3
   },
   "file_extension": ".py",
   "mimetype": "text/x-python",
   "name": "python",
   "nbconvert_exporter": "python",
   "pygments_lexer": "ipython3",
   "version": "3.6.8"
  }
 },
 "nbformat": 4,
 "nbformat_minor": 2
}
