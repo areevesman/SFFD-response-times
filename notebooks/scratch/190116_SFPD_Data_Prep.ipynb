{
 "cells": [
  {
   "cell_type": "code",
   "execution_count": 1,
   "metadata": {
    "ExecuteTime": {
     "end_time": "2019-01-17T19:54:16.059194Z",
     "start_time": "2019-01-17T19:54:13.191312Z"
    }
   },
   "outputs": [],
   "source": [
    "from pyspark import SparkContext\n",
    "sc = SparkContext.getOrCreate()"
   ]
  },
  {
   "cell_type": "code",
   "execution_count": 2,
   "metadata": {
    "ExecuteTime": {
     "end_time": "2019-01-17T19:54:16.135597Z",
     "start_time": "2019-01-17T19:54:16.062128Z"
    }
   },
   "outputs": [],
   "source": [
    "from pyspark.sql import SparkSession\n",
    "ss = SparkSession.builder.getOrCreate()"
   ]
  },
  {
   "cell_type": "code",
   "execution_count": 3,
   "metadata": {
    "ExecuteTime": {
     "end_time": "2019-01-17T19:54:16.276589Z",
     "start_time": "2019-01-17T19:54:16.137867Z"
    }
   },
   "outputs": [],
   "source": [
    "import os\n",
    "import boto3"
   ]
  },
  {
   "cell_type": "code",
   "execution_count": 4,
   "metadata": {
    "ExecuteTime": {
     "end_time": "2019-01-17T19:54:16.945994Z",
     "start_time": "2019-01-17T19:54:16.281455Z"
    }
   },
   "outputs": [],
   "source": [
    "sfpd_filename = \"data/sfpd.csv\"\n",
    "sfpd_rdd = sc.textFile(sfpd_filename)"
   ]
  },
  {
   "cell_type": "code",
   "execution_count": 5,
   "metadata": {
    "ExecuteTime": {
     "end_time": "2019-01-17T19:54:16.951772Z",
     "start_time": "2019-01-17T19:54:16.949005Z"
    }
   },
   "outputs": [],
   "source": [
    "# # aws\n",
    "# aws_filename = \"my_aws.txt\"\n",
    "# aws_id_key = sc.textFile(aws_filename).map(lambda x: x.split(',')).collect()[0]\n",
    "# access_id = aws_id_key[0]\n",
    "# access_key = aws_id_key[1]"
   ]
  },
  {
   "cell_type": "code",
   "execution_count": 6,
   "metadata": {
    "ExecuteTime": {
     "end_time": "2019-01-17T19:54:16.958988Z",
     "start_time": "2019-01-17T19:54:16.953798Z"
    }
   },
   "outputs": [],
   "source": [
    "# bucket_name = 'msds697jonross.and.friends' # Add your bucket name\n",
    "# file_name = 'sfpd.csv' # select file\n",
    "# s3 = boto3.resource('s3',\n",
    "#                      aws_access_key_id=access_id,\n",
    "#                      aws_secret_access_key=access_key)\n",
    "# bucket = s3.Bucket(bucket_name) \n",
    "# obj = bucket.Object(key=file_name) # S3 uses key-value structure where key is your file name\n",
    "# file_content = obj.get()[\"Body\"].read().decode(\"utf-8\") # Read the Body which is the contents of the file."
   ]
  },
  {
   "cell_type": "code",
   "execution_count": 7,
   "metadata": {
    "ExecuteTime": {
     "end_time": "2019-01-17T19:54:16.964370Z",
     "start_time": "2019-01-17T19:54:16.960790Z"
    }
   },
   "outputs": [],
   "source": [
    "# file_content[1:100] # test if I get the file"
   ]
  },
  {
   "cell_type": "code",
   "execution_count": 8,
   "metadata": {
    "ExecuteTime": {
     "end_time": "2019-01-17T19:54:16.969216Z",
     "start_time": "2019-01-17T19:54:16.966507Z"
    }
   },
   "outputs": [],
   "source": [
    "# content_list = file_content.split(\"\\n\")\n",
    "# content_list[0]"
   ]
  },
  {
   "cell_type": "code",
   "execution_count": 9,
   "metadata": {
    "ExecuteTime": {
     "end_time": "2019-01-17T19:54:16.974094Z",
     "start_time": "2019-01-17T19:54:16.971531Z"
    }
   },
   "outputs": [],
   "source": [
    "# sfpd_rdd = sc.parallelize(content_list) # get the rdd"
   ]
  },
  {
   "cell_type": "code",
   "execution_count": 10,
   "metadata": {
    "ExecuteTime": {
     "end_time": "2019-01-17T19:54:16.979617Z",
     "start_time": "2019-01-17T19:54:16.976899Z"
    }
   },
   "outputs": [],
   "source": [
    "# # This cell of code converts Unicode to ASCII\n",
    "# rdd = rdd.map(lambda line : line.encode('ascii', 'ignore'))"
   ]
  },
  {
   "cell_type": "code",
   "execution_count": 11,
   "metadata": {
    "ExecuteTime": {
     "end_time": "2019-01-17T19:54:17.648103Z",
     "start_time": "2019-01-17T19:54:16.981969Z"
    }
   },
   "outputs": [
    {
     "data": {
      "text/plain": [
       "['unique_key',\n",
       " 'category',\n",
       " 'descript',\n",
       " 'dayofweek',\n",
       " 'pddistrict',\n",
       " 'resolution',\n",
       " 'address',\n",
       " 'longitude',\n",
       " 'latitude',\n",
       " 'location',\n",
       " 'pdid',\n",
       " 'timestamp']"
      ]
     },
     "execution_count": 11,
     "metadata": {},
     "output_type": "execute_result"
    }
   ],
   "source": [
    "# Get column list\n",
    "columns = sfpd_rdd.take(1)\n",
    "column_names_list = columns[0].split(\",\")\n",
    "column_names_list"
   ]
  },
  {
   "cell_type": "code",
   "execution_count": 12,
   "metadata": {
    "ExecuteTime": {
     "end_time": "2019-01-17T19:54:18.269990Z",
     "start_time": "2019-01-17T19:54:18.220298Z"
    }
   },
   "outputs": [
    {
     "data": {
      "text/plain": [
       "['166018573,LARCENY/THEFT,GRAND THEFT FROM LOCKED AUTO,Sunday,,NONE,100 Block of VELASCO AV,-122.4133519852842,37.70820245849022,\"(37.70820245849022, -122.4133519852842)\",16601857306244,2016-01-17 23:54:00+00:00',\n",
       " '160874408,DRIVING UNDER THE INFLUENCE,DRIVING WHILE UNDER THE INFLUENCE OF DRUGS,Thursday,PARK,NONE,DUBOCE AV / NOE ST,-122.43357509728241,37.769176747627725,\"(37.769176747627725, -122.43357509728241)\",16087440865060,2016-10-27 04:15:00+00:00',\n",
       " '120574836,ROBBERY,ATTEMPTED ROBBERY ON THE STREET WITH A KNIFE,Saturday,PARK,NONE,HAIGHT ST / DIVISADERO ST,-122.437048523435,37.7712678186367,\"(37.7712678186367, -122.437048523435)\",12057483603412,2012-07-21 05:55:00+00:00',\n",
       " '160573898,SECONDARY CODES,JUVENILE INVOLVED,Saturday,PARK,NONE,1200 Block of PAGE ST,-122.44139370111428,37.77172731417711,\"(37.77172731417711, -122.44139370111428)\",16057389815500,2016-07-16 11:15:00+00:00',\n",
       " '40502947,DRUG/NARCOTIC,POSSESSION OF COCAINE,Sunday,PARK,\"ARREST, BOOKED\",1300 Block of FULTON ST,-122.439037573428,37.7768021540039,\"(37.7768021540039, -122.439037573428)\",4050294716620,2004-05-02 11:59:00+00:00',\n",
       " '71089100,BURGLARY,\"BURGLARY OF RESIDENCE, UNLAWFUL ENTRY\",Tuesday,PARK,NONE,300 Block of PARNASSUS AV,-122.454996890694,37.7641615127899,\"(37.7641615127899, -122.454996890694)\",7108910005043,2007-10-23 07:50:00+00:00',\n",
       " '90467880,OTHER OFFENSES,POSSESSION OF BURGLARY TOOLS,Tuesday,PARK,\"ARREST, BOOKED\",OAK ST / BAKER ST,-122.440737118652,37.7727124660172,\"(37.7727124660172, -122.440737118652)\",9046788027130,2009-05-05 10:28:00+00:00',\n",
       " '120837076,VANDALISM,\"MALICIOUS MISCHIEF, GRAFFITI\",Tuesday,PARK,NONE,1800 Block of WALLER ST,-122.454330105396,37.7681530111159,\"(37.7681530111159, -122.454330105396)\",12083707628165,2012-01-17 15:00:00+00:00',\n",
       " '50198310,BURGLARY,\"BURGLARY OF STORE, FORCIBLE ENTRY\",Sunday,PARK,NONE,1200 Block of FELL ST,-122.438448613716,37.773898109311,\"(37.773898109311, -122.438448613716)\",5019831005051,2005-02-20 05:35:00+00:00',\n",
       " '140391870,DRUG/NARCOTIC,POSSESSION OF METH-AMPHETAMINE,Saturday,PARK,\"ARREST, BOOKED\",15TH ST / NOE ST,-122.433256948064,37.7658609302161,\"(37.7658609302161, -122.433256948064)\",14039187016650,2014-05-10 05:43:00+00:00']"
      ]
     },
     "execution_count": 12,
     "metadata": {},
     "output_type": "execute_result"
    }
   ],
   "source": [
    "# Load the data\n",
    "sfpd_data_rdd = sfpd_rdd.filter(lambda x: x.split(',')[0] != 'unique_key')\n",
    "sfpd_data_rdd.take(10)"
   ]
  },
  {
   "cell_type": "code",
   "execution_count": 13,
   "metadata": {
    "ExecuteTime": {
     "end_time": "2019-01-17T19:54:20.569600Z",
     "start_time": "2019-01-17T19:54:18.454621Z"
    }
   },
   "outputs": [
    {
     "data": {
      "text/plain": [
       "2170785"
      ]
     },
     "execution_count": 13,
     "metadata": {},
     "output_type": "execute_result"
    }
   ],
   "source": [
    "# total count\n",
    "sfpd_data_rdd.count()"
   ]
  },
  {
   "cell_type": "markdown",
   "metadata": {},
   "source": [
    "## Data Cleaning"
   ]
  },
  {
   "cell_type": "code",
   "execution_count": 14,
   "metadata": {
    "ExecuteTime": {
     "end_time": "2019-01-17T19:54:20.575378Z",
     "start_time": "2019-01-17T19:54:20.572849Z"
    }
   },
   "outputs": [],
   "source": [
    "# Clean the data\n",
    "sfpd_data_rdd = sfpd_data_rdd.map(lambda x: x.split(\",\", 2))"
   ]
  },
  {
   "cell_type": "code",
   "execution_count": 15,
   "metadata": {
    "ExecuteTime": {
     "end_time": "2019-01-17T19:54:31.436101Z",
     "start_time": "2019-01-17T19:54:20.577782Z"
    }
   },
   "outputs": [
    {
     "name": "stdout",
     "output_type": "stream",
     "text": [
      "166018573\n",
      "2170785\n",
      "1713368\n"
     ]
    }
   ],
   "source": [
    "print([int(x) for x in sfpd_data_rdd.map(lambda x: x[0]).collect()][0]) # test for unique_key\n",
    "print(sfpd_data_rdd.count())\n",
    "print(sfpd_data_rdd.map(lambda x: x[0]).distinct().count()) # The # of distinct key != # of rows"
   ]
  },
  {
   "cell_type": "code",
   "execution_count": 16,
   "metadata": {
    "ExecuteTime": {
     "end_time": "2019-01-17T19:54:34.216132Z",
     "start_time": "2019-01-17T19:54:31.438646Z"
    }
   },
   "outputs": [
    {
     "data": {
      "text/plain": [
       "['OTHER OFFENSES',\n",
       " 'DISORDERLY CONDUCT',\n",
       " 'PROSTITUTION',\n",
       " 'DRUG/NARCOTIC',\n",
       " 'VANDALISM',\n",
       " 'FRAUD',\n",
       " 'LIQUOR LAWS',\n",
       " 'GAMBLING',\n",
       " 'TREA',\n",
       " 'SECONDARY CODES',\n",
       " 'NON-CRIMINAL',\n",
       " 'KIDNAPPING',\n",
       " 'PORNOGRAPHY/OBSCENE MAT',\n",
       " 'STOLEN PROPERTY',\n",
       " 'DRUNKENNESS',\n",
       " 'BRIBERY',\n",
       " 'EMBEZZLEMENT',\n",
       " 'ARSON',\n",
       " 'TRESPASS',\n",
       " 'FORGERY/COUNTERFEITING',\n",
       " '\"SEX OFFENSES',\n",
       " 'LARCENY/THEFT',\n",
       " 'DRIVING UNDER THE INFLUENCE',\n",
       " 'FAMILY OFFENSES',\n",
       " 'LOITERING',\n",
       " 'BURGLARY',\n",
       " 'EXTORTION',\n",
       " 'MISSING PERSON',\n",
       " 'RUNAWAY',\n",
       " 'SUSPICIOUS OCC',\n",
       " 'WEAPON LAWS',\n",
       " 'BAD CHECKS',\n",
       " 'VEHICLE THEFT',\n",
       " 'SUICIDE',\n",
       " 'ROBBERY',\n",
       " 'RECOVERED VEHICLE',\n",
       " 'WARRANTS',\n",
       " 'ASSAULT']"
      ]
     },
     "execution_count": 16,
     "metadata": {},
     "output_type": "execute_result"
    }
   ],
   "source": [
    "sfpd_data_rdd.map(lambda x: x[1]).distinct().collect() # test for category"
   ]
  },
  {
   "cell_type": "code",
   "execution_count": 17,
   "metadata": {
    "ExecuteTime": {
     "end_time": "2019-01-17T19:54:34.231242Z",
     "start_time": "2019-01-17T19:54:34.219757Z"
    }
   },
   "outputs": [
    {
     "data": {
      "text/plain": [
       "['POSSESSION OF METH-AMPHETAMINE',\n",
       " 'Saturday',\n",
       " 'PARK,\"ARREST, BOOKED\",15TH ST / NOE ST,-122.433256948064,37.7658609302161,\"(37.7658609302161, -122.433256948064)\",14039187016650,2014-05-10 05:43:00+00:00']"
      ]
     },
     "execution_count": 17,
     "metadata": {},
     "output_type": "execute_result"
    }
   ],
   "source": [
    "weekdays = ['Monday', 'Tuesday', 'Wednesday', 'Thursday', 'Friday', 'Saturday', 'Sunday']\n",
    "\n",
    "def weekdaySplit(string):\n",
    "    for day in weekdays:\n",
    "        if day in string:\n",
    "            return([string[:string.find(day)-1], day, string[string.find(day)+len(day)+1:]])\n",
    "\n",
    "# Test\n",
    "testString = 'POSSESSION OF METH-AMPHETAMINE,Saturday,PARK,\"ARREST, BOOKED\",15TH ST / NOE ST,-122.433256948064,37.7658609302161,\"(37.7658609302161, -122.433256948064)\",14039187016650,2014-05-10 05:43:00+00:00'\n",
    "weekdaySplit(testString)           "
   ]
  },
  {
   "cell_type": "code",
   "execution_count": 18,
   "metadata": {
    "ExecuteTime": {
     "end_time": "2019-01-17T19:54:34.262124Z",
     "start_time": "2019-01-17T19:54:34.233334Z"
    }
   },
   "outputs": [
    {
     "data": {
      "text/plain": [
       "[['166018573',\n",
       "  'LARCENY/THEFT',\n",
       "  'GRAND THEFT FROM LOCKED AUTO',\n",
       "  'Sunday',\n",
       "  ',NONE,100 Block of VELASCO AV,-122.4133519852842,37.70820245849022,\"(37.70820245849022, -122.4133519852842)\",16601857306244,2016-01-17 23:54:00+00:00']]"
      ]
     },
     "execution_count": 18,
     "metadata": {},
     "output_type": "execute_result"
    }
   ],
   "source": [
    "# Clean to unique_id, category, descript, weekofday, others\n",
    "sfpd_data_rdd = sfpd_data_rdd.map(lambda x: [x[0], x[1], weekdaySplit(x[2])])\\\n",
    "                             .map(lambda x: [x[0], x[1], x[2][0], x[2][1], x[2][2]])\n",
    "sfpd_data_rdd.take(1)"
   ]
  },
  {
   "cell_type": "code",
   "execution_count": 19,
   "metadata": {
    "ExecuteTime": {
     "end_time": "2019-01-17T19:54:38.064839Z",
     "start_time": "2019-01-17T19:54:34.263900Z"
    }
   },
   "outputs": [
    {
     "data": {
      "text/plain": [
       "['Wednesday', 'Friday', 'Sunday', 'Saturday', 'Monday', 'Thursday', 'Tuesday']"
      ]
     },
     "execution_count": 19,
     "metadata": {},
     "output_type": "execute_result"
    }
   ],
   "source": [
    "sfpd_data_rdd.map(lambda x: x[3]).distinct().collect() # test for weekday"
   ]
  },
  {
   "cell_type": "code",
   "execution_count": 20,
   "metadata": {
    "ExecuteTime": {
     "end_time": "2019-01-17T19:54:41.840506Z",
     "start_time": "2019-01-17T19:54:38.066687Z"
    }
   },
   "outputs": [
    {
     "data": {
      "text/plain": [
       "[8, 9]"
      ]
     },
     "execution_count": 20,
     "metadata": {},
     "output_type": "execute_result"
    }
   ],
   "source": [
    "sfpd_data_rdd.map(lambda x: x[4].count(',')).distinct().collect() \n",
    "# [8, 9] indicate further cleaning"
   ]
  },
  {
   "cell_type": "code",
   "execution_count": 53,
   "metadata": {
    "ExecuteTime": {
     "end_time": "2019-01-17T20:19:01.117828Z",
     "start_time": "2019-01-17T20:19:01.112412Z"
    }
   },
   "outputs": [
    {
     "data": {
      "text/plain": [
       "['',\n",
       " 'BAYVIEW',\n",
       " 'CENTRAL',\n",
       " 'INGLESIDE',\n",
       " 'MISSION',\n",
       " 'NORTHERN',\n",
       " 'PARK',\n",
       " 'RICHMOND',\n",
       " 'SOUTHERN',\n",
       " 'TARAVAL',\n",
       " 'TENDERLOIN']"
      ]
     },
     "execution_count": 53,
     "metadata": {},
     "output_type": "execute_result"
    }
   ],
   "source": [
    "# Actual SF Police Department District\n",
    "sf_pd_district_list = ['', 'Central', 'Southern', 'Bayview', 'Mission', 'Northern',\n",
    "                       'Park', 'Richmond', 'Ingleside', 'Taraval', 'Tenderloin']\n",
    "sf_pd_district_list = sorted([pd.upper() for pd in sf_pd_district_list])\n",
    "sf_pd_district_list"
   ]
  },
  {
   "cell_type": "code",
   "execution_count": 22,
   "metadata": {
    "ExecuteTime": {
     "end_time": "2019-01-17T19:54:45.832268Z",
     "start_time": "2019-01-17T19:54:41.850402Z"
    }
   },
   "outputs": [
    {
     "data": {
      "text/plain": [
       "['',\n",
       " 'BAYVIEW',\n",
       " 'CENTRAL',\n",
       " 'INGLESIDE',\n",
       " 'MISSION',\n",
       " 'NORTHERN',\n",
       " 'PARK',\n",
       " 'RICHMOND',\n",
       " 'SOUTHERN',\n",
       " 'TARAVAL',\n",
       " 'TENDERLOIN']"
      ]
     },
     "execution_count": 22,
     "metadata": {},
     "output_type": "execute_result"
    }
   ],
   "source": [
    "sorted(sfpd_data_rdd.map(lambda x: x[4].split(',')[0]).distinct().collect()) # Test if pd is correct"
   ]
  },
  {
   "cell_type": "code",
   "execution_count": 23,
   "metadata": {
    "ExecuteTime": {
     "end_time": "2019-01-17T19:54:45.864099Z",
     "start_time": "2019-01-17T19:54:45.834396Z"
    }
   },
   "outputs": [
    {
     "data": {
      "text/plain": [
       "[['166018573',\n",
       "  'LARCENY/THEFT',\n",
       "  'GRAND THEFT FROM LOCKED AUTO',\n",
       "  'Sunday',\n",
       "  '',\n",
       "  'NONE,100 Block of VELASCO AV,-122.4133519852842,37.70820245849022,\"(37.70820245849022, -122.4133519852842)\",16601857306244,2016-01-17 23:54:00+00:00']]"
      ]
     },
     "execution_count": 23,
     "metadata": {},
     "output_type": "execute_result"
    }
   ],
   "source": [
    "# Clean to unique_id, category, descript, weekofday, pddistrict, others\n",
    "sfpd_data_rdd = sfpd_data_rdd.map(lambda x: [x[0], x[1], x[2], x[3],\n",
    "                                             x[4].split(',', 1)])\\\n",
    "                             .map(lambda x: [x[0], x[1], x[2], x[3],\n",
    "                                             x[4][0], x[4][1]])\n",
    "sfpd_data_rdd.take(1)"
   ]
  },
  {
   "cell_type": "code",
   "execution_count": 24,
   "metadata": {
    "ExecuteTime": {
     "end_time": "2019-01-17T19:54:50.303538Z",
     "start_time": "2019-01-17T19:54:45.865813Z"
    }
   },
   "outputs": [
    {
     "data": {
      "text/plain": [
       "[7, 8]"
      ]
     },
     "execution_count": 24,
     "metadata": {},
     "output_type": "execute_result"
    }
   ],
   "source": [
    "sfpd_data_rdd.map(lambda x: x[5].count(',')).distinct().collect() \n",
    "# [7, 8] indicate further cleaning"
   ]
  },
  {
   "cell_type": "code",
   "execution_count": 25,
   "metadata": {
    "ExecuteTime": {
     "end_time": "2019-01-17T19:54:50.338975Z",
     "start_time": "2019-01-17T19:54:50.305430Z"
    }
   },
   "outputs": [
    {
     "data": {
      "text/plain": [
       "[['166018573',\n",
       "  'LARCENY/THEFT',\n",
       "  'GRAND THEFT FROM LOCKED AUTO',\n",
       "  'Sunday',\n",
       "  '',\n",
       "  '37.70820245849022',\n",
       "  '-122.4133519852842',\n",
       "  '2016-01-17 23:54:00+00:00',\n",
       "  '100 Block of VELASCO AV',\n",
       "  ['NONE']],\n",
       " ['160874408',\n",
       "  'DRIVING UNDER THE INFLUENCE',\n",
       "  'DRIVING WHILE UNDER THE INFLUENCE OF DRUGS',\n",
       "  'Thursday',\n",
       "  'PARK',\n",
       "  '37.769176747627725',\n",
       "  '-122.43357509728241',\n",
       "  '2016-10-27 04:15:00+00:00',\n",
       "  'DUBOCE AV / NOE ST',\n",
       "  ['NONE']],\n",
       " ['120574836',\n",
       "  'ROBBERY',\n",
       "  'ATTEMPTED ROBBERY ON THE STREET WITH A KNIFE',\n",
       "  'Saturday',\n",
       "  'PARK',\n",
       "  '37.7712678186367',\n",
       "  '-122.437048523435',\n",
       "  '2012-07-21 05:55:00+00:00',\n",
       "  'HAIGHT ST / DIVISADERO ST',\n",
       "  ['NONE']],\n",
       " ['160573898',\n",
       "  'SECONDARY CODES',\n",
       "  'JUVENILE INVOLVED',\n",
       "  'Saturday',\n",
       "  'PARK',\n",
       "  '37.77172731417711',\n",
       "  '-122.44139370111428',\n",
       "  '2016-07-16 11:15:00+00:00',\n",
       "  '1200 Block of PAGE ST',\n",
       "  ['NONE']],\n",
       " ['40502947',\n",
       "  'DRUG/NARCOTIC',\n",
       "  'POSSESSION OF COCAINE',\n",
       "  'Sunday',\n",
       "  'PARK',\n",
       "  '37.7768021540039',\n",
       "  '-122.439037573428',\n",
       "  '2004-05-02 11:59:00+00:00',\n",
       "  '1300 Block of FULTON ST',\n",
       "  ['\"ARREST', ' BOOKED\"']],\n",
       " ['71089100',\n",
       "  'BURGLARY',\n",
       "  '\"BURGLARY OF RESIDENCE, UNLAWFUL ENTRY\"',\n",
       "  'Tuesday',\n",
       "  'PARK',\n",
       "  '37.7641615127899',\n",
       "  '-122.454996890694',\n",
       "  '2007-10-23 07:50:00+00:00',\n",
       "  '300 Block of PARNASSUS AV',\n",
       "  ['NONE']],\n",
       " ['90467880',\n",
       "  'OTHER OFFENSES',\n",
       "  'POSSESSION OF BURGLARY TOOLS',\n",
       "  'Tuesday',\n",
       "  'PARK',\n",
       "  '37.7727124660172',\n",
       "  '-122.440737118652',\n",
       "  '2009-05-05 10:28:00+00:00',\n",
       "  'OAK ST / BAKER ST',\n",
       "  ['\"ARREST', ' BOOKED\"']],\n",
       " ['120837076',\n",
       "  'VANDALISM',\n",
       "  '\"MALICIOUS MISCHIEF, GRAFFITI\"',\n",
       "  'Tuesday',\n",
       "  'PARK',\n",
       "  '37.7681530111159',\n",
       "  '-122.454330105396',\n",
       "  '2012-01-17 15:00:00+00:00',\n",
       "  '1800 Block of WALLER ST',\n",
       "  ['NONE']],\n",
       " ['50198310',\n",
       "  'BURGLARY',\n",
       "  '\"BURGLARY OF STORE, FORCIBLE ENTRY\"',\n",
       "  'Sunday',\n",
       "  'PARK',\n",
       "  '37.773898109311',\n",
       "  '-122.438448613716',\n",
       "  '2005-02-20 05:35:00+00:00',\n",
       "  '1200 Block of FELL ST',\n",
       "  ['NONE']],\n",
       " ['140391870',\n",
       "  'DRUG/NARCOTIC',\n",
       "  'POSSESSION OF METH-AMPHETAMINE',\n",
       "  'Saturday',\n",
       "  'PARK',\n",
       "  '37.7658609302161',\n",
       "  '-122.433256948064',\n",
       "  '2014-05-10 05:43:00+00:00',\n",
       "  '15TH ST / NOE ST',\n",
       "  ['\"ARREST', ' BOOKED\"']]]"
      ]
     },
     "execution_count": 25,
     "metadata": {},
     "output_type": "execute_result"
    }
   ],
   "source": [
    "# Clean to unique_id, category, descript, weekofday, pddistrict,\n",
    "# latitude, longitude, timestamp, address and resolution\n",
    "sfpd_data_rdd = sfpd_data_rdd.map(lambda x: [x[0], x[1], x[2], x[3], x[4],\n",
    "                                             x[5].split(\",\")])\\\n",
    "                             .map(lambda x: [x[0], x[1], x[2], x[3], x[4], \n",
    "                                             list(reversed(x[5]))])\\\n",
    "                             .map(lambda x: [x[0], x[1], x[2], x[3], x[4], \n",
    "                                             x[5][4], x[5][5], x[5][0], x[5][6], list(reversed(x[5][7:]))])\n",
    "sfpd_data_rdd.take(10)"
   ]
  },
  {
   "cell_type": "code",
   "execution_count": 26,
   "metadata": {
    "ExecuteTime": {
     "end_time": "2019-01-17T19:54:50.345658Z",
     "start_time": "2019-01-17T19:54:50.340704Z"
    }
   },
   "outputs": [
    {
     "name": "stdout",
     "output_type": "stream",
     "text": [
      "None\n",
      "<class 'str'>\n",
      "\"ARREST, BOOKED\"\n",
      "<class 'str'>\n"
     ]
    }
   ],
   "source": [
    "def resolutionTransform(alist):\n",
    "    if len(alist) == 2:\n",
    "        return \",\".join(alist)\n",
    "    else:\n",
    "        return alist[0]\n",
    "\n",
    "# test\n",
    "print(resolutionTransform(['None']))\n",
    "print(type(resolutionTransform(['None'])))\n",
    "print(resolutionTransform(['\"ARREST', ' BOOKED\"']))\n",
    "print(type(resolutionTransform(['\"ARREST', ' BOOKED\"'])))"
   ]
  },
  {
   "cell_type": "code",
   "execution_count": 27,
   "metadata": {
    "ExecuteTime": {
     "end_time": "2019-01-17T19:54:50.353582Z",
     "start_time": "2019-01-17T19:54:50.347966Z"
    }
   },
   "outputs": [
    {
     "name": "stdout",
     "output_type": "stream",
     "text": [
      "2016-01-17 23:54:00\n"
     ]
    }
   ],
   "source": [
    "def toFloatSafe(inval):\n",
    "  try:\n",
    "    return float(inval)\n",
    "  except ValueError:\n",
    "    return None\n",
    "\n",
    "from datetime import datetime\n",
    "def toTimeSafe(inval):\n",
    "  inval = inval.strip(\"\\\"\") # Timestamp starting and ending with a double quotation mark.\n",
    "  try:\n",
    "    return datetime.strptime(inval, \"%Y-%m-%d %H:%M:%S\")\n",
    "  except ValueError:\n",
    "    return None\n",
    "print(toTimeSafe('2016-01-17 23:54:00+00:00'[:-6]))"
   ]
  },
  {
   "cell_type": "code",
   "execution_count": 28,
   "metadata": {
    "ExecuteTime": {
     "end_time": "2019-01-17T19:54:50.390527Z",
     "start_time": "2019-01-17T19:54:50.355474Z"
    }
   },
   "outputs": [
    {
     "data": {
      "text/plain": [
       "[['166018573',\n",
       "  'LARCENY/THEFT',\n",
       "  'GRAND THEFT FROM LOCKED AUTO',\n",
       "  'Sunday',\n",
       "  '',\n",
       "  37.70820245849022,\n",
       "  -122.4133519852842,\n",
       "  datetime.datetime(2016, 1, 17, 23, 54),\n",
       "  '100 Block of VELASCO AV',\n",
       "  'NONE']]"
      ]
     },
     "execution_count": 28,
     "metadata": {},
     "output_type": "execute_result"
    }
   ],
   "source": [
    "# Finally, clean to unique_id, category, descript, weekofday, pddistrict,\n",
    "# latitude, longitude, timestamp, address and resolution\n",
    "sfpd_data_rdd = sfpd_data_rdd.map(lambda x: [x[0], x[1], x[2], x[3], x[4],\n",
    "                                             float(x[5]), float(x[6]), \n",
    "                                             toTimeSafe(x[7][:-6]), x[8], resolutionTransform(x[9])])\n",
    "sfpd_data_rdd.take(1)"
   ]
  },
  {
   "cell_type": "markdown",
   "metadata": {
    "ExecuteTime": {
     "end_time": "2019-01-17T09:43:39.797978Z",
     "start_time": "2019-01-17T09:43:39.756882Z"
    }
   },
   "source": [
    "# Create DataFrame"
   ]
  },
  {
   "cell_type": "code",
   "execution_count": 29,
   "metadata": {
    "ExecuteTime": {
     "end_time": "2019-01-17T19:54:50.396883Z",
     "start_time": "2019-01-17T19:54:50.392252Z"
    }
   },
   "outputs": [],
   "source": [
    "from pyspark.sql.types import *\n",
    "schema = StructType([ StructField(\"unique_key\", StringType(), False),\n",
    "                      StructField(\"category\", StringType(), True),\n",
    "                      StructField(\"descript\", StringType(), True),\n",
    "                      StructField(\"dayofweek\", StringType(), True),\n",
    "                      StructField(\"pddistrict\", StringType(), True),\n",
    "                      StructField(\"latitude\", FloatType(), True),\n",
    "                      StructField(\"longitude\", FloatType(), True),\n",
    "                      StructField(\"timestamp\", TimestampType(), True),\n",
    "                      StructField(\"address\", StringType(), True),\n",
    "                      StructField(\"resolution\", StringType(), True)\n",
    "                    ])"
   ]
  },
  {
   "cell_type": "code",
   "execution_count": 32,
   "metadata": {
    "ExecuteTime": {
     "end_time": "2019-01-17T20:12:22.370753Z",
     "start_time": "2019-01-17T20:12:22.167251Z"
    }
   },
   "outputs": [
    {
     "name": "stdout",
     "output_type": "stream",
     "text": [
      "+----------+--------------------+--------------------+---------+----------+---------+----------+-------------------+--------------------+----------------+\n",
      "|unique_key|            category|            descript|dayofweek|pddistrict| latitude| longitude|          timestamp|             address|      resolution|\n",
      "+----------+--------------------+--------------------+---------+----------+---------+----------+-------------------+--------------------+----------------+\n",
      "| 166018573|       LARCENY/THEFT|GRAND THEFT FROM ...|   Sunday|          |37.708202|-122.41335|2016-01-17 23:54:00|100 Block of VELA...|            NONE|\n",
      "| 160874408|DRIVING UNDER THE...|DRIVING WHILE UND...| Thursday|      PARK|37.769176|-122.43358|2016-10-27 04:15:00|  DUBOCE AV / NOE ST|            NONE|\n",
      "| 120574836|             ROBBERY|ATTEMPTED ROBBERY...| Saturday|      PARK|37.771267|-122.43705|2012-07-21 05:55:00|HAIGHT ST / DIVIS...|            NONE|\n",
      "| 160573898|     SECONDARY CODES|   JUVENILE INVOLVED| Saturday|      PARK| 37.77173|-122.44139|2016-07-16 11:15:00|1200 Block of PAG...|            NONE|\n",
      "|  40502947|       DRUG/NARCOTIC|POSSESSION OF COC...|   Sunday|      PARK|37.776802|-122.43904|2004-05-02 11:59:00|1300 Block of FUL...|\"ARREST, BOOKED\"|\n",
      "+----------+--------------------+--------------------+---------+----------+---------+----------+-------------------+--------------------+----------------+\n",
      "only showing top 5 rows\n",
      "\n"
     ]
    }
   ],
   "source": [
    "sfpd_data_df = ss.createDataFrame(sfpd_data_rdd, schema)\n",
    "sfpd_data_df.show(5)"
   ]
  },
  {
   "cell_type": "markdown",
   "metadata": {},
   "source": [
    "# Heat map"
   ]
  },
  {
   "cell_type": "code",
   "execution_count": 31,
   "metadata": {
    "ExecuteTime": {
     "end_time": "2019-01-17T20:10:20.827539Z",
     "start_time": "2019-01-17T20:10:20.781768Z"
    }
   },
   "outputs": [
    {
     "data": {
      "text/plain": [
       "[['166018573',\n",
       "  'LARCENY/THEFT',\n",
       "  'GRAND THEFT FROM LOCKED AUTO',\n",
       "  'Sunday',\n",
       "  '',\n",
       "  37.70820245849022,\n",
       "  -122.4133519852842,\n",
       "  datetime.datetime(2016, 1, 17, 23, 54),\n",
       "  '100 Block of VELASCO AV',\n",
       "  'NONE']]"
      ]
     },
     "execution_count": 31,
     "metadata": {},
     "output_type": "execute_result"
    }
   ],
   "source": [
    "sfpd_data_rdd.take(1)"
   ]
  },
  {
   "cell_type": "code",
   "execution_count": 33,
   "metadata": {
    "ExecuteTime": {
     "end_time": "2019-01-17T20:13:49.966579Z",
     "start_time": "2019-01-17T20:13:35.586440Z"
    }
   },
   "outputs": [
    {
     "data": {
      "text/plain": [
       "['',\n",
       " 'PARK',\n",
       " 'MISSION',\n",
       " 'RICHMOND',\n",
       " 'TENDERLOIN',\n",
       " 'BAYVIEW',\n",
       " 'CENTRAL',\n",
       " 'TARAVAL',\n",
       " 'SOUTHERN',\n",
       " 'INGLESIDE',\n",
       " 'NORTHERN']"
      ]
     },
     "execution_count": 33,
     "metadata": {},
     "output_type": "execute_result"
    }
   ],
   "source": [
    "sfpd_data_rdd.map(lambda x: x[4]).distinct().collect()"
   ]
  },
  {
   "cell_type": "code",
   "execution_count": 55,
   "metadata": {
    "ExecuteTime": {
     "end_time": "2019-01-17T20:19:30.282032Z",
     "start_time": "2019-01-17T20:19:30.278145Z"
    }
   },
   "outputs": [
    {
     "data": {
      "text/plain": [
       "['BAYVIEW',\n",
       " 'CENTRAL',\n",
       " 'INGLESIDE',\n",
       " 'MISSION',\n",
       " 'NORTHERN',\n",
       " 'PARK',\n",
       " 'RICHMOND',\n",
       " 'SOUTHERN',\n",
       " 'TARAVAL',\n",
       " 'TENDERLOIN']"
      ]
     },
     "execution_count": 55,
     "metadata": {},
     "output_type": "execute_result"
    }
   ],
   "source": [
    "sf_pd_district_list.remove(\"\")\n",
    "sf_pd_district_list"
   ]
  },
  {
   "cell_type": "code",
   "execution_count": 58,
   "metadata": {
    "ExecuteTime": {
     "end_time": "2019-01-17T20:22:50.149149Z",
     "start_time": "2019-01-17T20:22:50.093196Z"
    }
   },
   "outputs": [
    {
     "data": {
      "text/plain": [
       "[['160874408',\n",
       "  'DRIVING UNDER THE INFLUENCE',\n",
       "  'DRIVING WHILE UNDER THE INFLUENCE OF DRUGS',\n",
       "  'Thursday',\n",
       "  'PARK',\n",
       "  37.769176747627725,\n",
       "  -122.43357509728241,\n",
       "  datetime.datetime(2016, 10, 27, 4, 15),\n",
       "  'DUBOCE AV / NOE ST',\n",
       "  'NONE']]"
      ]
     },
     "execution_count": 58,
     "metadata": {},
     "output_type": "execute_result"
    }
   ],
   "source": [
    "sfpd_data_rdd.filter(lambda x: x[4] == \"PARK\").take(1)"
   ]
  },
  {
   "cell_type": "code",
   "execution_count": 80,
   "metadata": {
    "ExecuteTime": {
     "end_time": "2019-01-17T20:39:17.185562Z",
     "start_time": "2019-01-17T20:39:17.129872Z"
    }
   },
   "outputs": [
    {
     "name": "stdout",
     "output_type": "stream",
     "text": [
      "Unique Key: 160874408\n",
      "Category: DRIVING UNDER THE INFLUENCE\n",
      "Descript: DRIVING WHILE UNDER THE INFLUENCE OF DRUGS\n",
      "Day of Week: Thursday\n",
      "Police Department: PARK\n",
      "Time: 2016-10-27 04:15:00\n",
      "Address: DUBOCE AV / NOE ST\n",
      "Resolution: NONE\n"
     ]
    }
   ],
   "source": [
    "print(sfpd_data_rdd.filter(lambda x: x[4] == \"PARK\")\\\n",
    ".map(lambda x: [f\"Unique Key: {x[0]}\",\n",
    "                f\"Category: {x[1]}\",\n",
    "                f\"Descript: {x[2]}\",\n",
    "                f\"Day of Week: {x[3]}\",\n",
    "                f\"Police Department: {x[4]}\",\n",
    "                f\"Time: {str(x[7])}\",\n",
    "                f\"Address: {x[8]}\",\n",
    "                f\"Resolution: {x[9]}\"])\\\n",
    "                .map(lambda x: \"\\n\".join(x)).take(1)[0])\n"
   ]
  },
  {
   "cell_type": "code",
   "execution_count": 87,
   "metadata": {
    "ExecuteTime": {
     "end_time": "2019-01-17T21:01:33.656613Z",
     "start_time": "2019-01-17T21:01:33.651205Z"
    }
   },
   "outputs": [
    {
     "data": {
      "text/plain": [
       "{'BAYVIEW': 'rgb(88,169,137)',\n",
       " 'CENTRAL': 'rgb(230,58,154)',\n",
       " 'INGLESIDE': 'rgb(230,51,10)',\n",
       " 'MISSION': 'rgb(192,228,163)',\n",
       " 'NORTHERN': 'rgb(88,50,240)',\n",
       " 'PARK': 'rgb(145,87,36)',\n",
       " 'RICHMOND': 'rgb(4,14,57)',\n",
       " 'SOUTHERN': 'rgb(205,183,12)',\n",
       " 'TARAVAL': 'rgb(225,103,137)',\n",
       " 'TENDERLOIN': 'rgb(81,106,147)'}"
      ]
     },
     "execution_count": 87,
     "metadata": {},
     "output_type": "execute_result"
    }
   ],
   "source": [
    "color_by_district_dict = {}\n",
    "color_list = ['rgb(88,169,137)', \n",
    "              'rgb(230,58,154)', \n",
    "              'rgb(230,51,10)', \n",
    "              'rgb(192,228,163)', \n",
    "              'rgb(88,50,240)', \n",
    "              'rgb(145,87,36)', \n",
    "              'rgb(4,14,57)', \n",
    "              'rgb(205,183,12)', \n",
    "              'rgb(225,103,137)', \n",
    "              'rgb(81,106,147)']\n",
    "for i in range(len(sf_pd_district_list)):\n",
    "    color_by_district_dict[sf_pd_district_list[i]] = color_list[i]\n",
    "    \n",
    "color_by_district_dict"
   ]
  },
  {
   "cell_type": "code",
   "execution_count": 88,
   "metadata": {
    "ExecuteTime": {
     "end_time": "2019-01-17T21:03:08.831433Z",
     "start_time": "2019-01-17T21:02:28.031493Z"
    }
   },
   "outputs": [
    {
     "name": "stdout",
     "output_type": "stream",
     "text": [
      "37.769176747627725\n",
      "-122.43357509728241\n",
      "Unique Key: 160874408\n",
      "Category: DRIVING UNDER THE INFLUENCE\n",
      "Descript: DRIVING WHILE UNDER THE INFLUENCE OF DRUGS\n",
      "Day of Week: Thursday\n",
      "Police Department: PARK\n",
      "Time: 2016-10-27 04:15:00\n",
      "Address: DUBOCE AV / NOE ST\n",
      "Resolution: NONE\n",
      "rgb(145,87,36)\n"
     ]
    }
   ],
   "source": [
    "def info_getter(district):\n",
    "    district_rdd = sfpd_data_rdd.filter(lambda x: x[4] == district)\n",
    "    lat_list = district_rdd.map(lambda x: str(x[5])).collect()\n",
    "    lon_list = district_rdd.map(lambda x: str(x[6])).collect()\n",
    "    text_list = district_rdd.map(lambda x: [f\"Unique Key: {x[0]}\",\n",
    "                                            f\"Category: {x[1]}\",\n",
    "                                            f\"Descript: {x[2]}\",\n",
    "                                            f\"Day of Week: {x[3]}\",\n",
    "                                            f\"Police Department: {x[4]}\",\n",
    "                                            f\"Time: {str(x[7])}\",\n",
    "                                            f\"Address: {x[8]}\",\n",
    "                                            f\"Resolution: {x[9]}\"])\\\n",
    "                                            .map(lambda x: \"\\n\".join(x))\\\n",
    "                                            .collect()\n",
    "    return(lat_list, lon_list, text_list, color_by_district_dict[district])\n",
    "\n",
    "# Test\n",
    "temp = info_getter(\"PARK\")\n",
    "print(temp[0][0])\n",
    "print(temp[1][0])\n",
    "print(temp[2][0])\n",
    "print(temp[3])"
   ]
  },
  {
   "cell_type": "code",
   "execution_count": 89,
   "metadata": {
    "ExecuteTime": {
     "end_time": "2019-01-17T21:03:09.671462Z",
     "start_time": "2019-01-17T21:03:08.834849Z"
    }
   },
   "outputs": [],
   "source": [
    "import plotly.plotly as py\n",
    "import plotly.graph_objs as go"
   ]
  },
  {
   "cell_type": "code",
   "execution_count": 94,
   "metadata": {
    "ExecuteTime": {
     "end_time": "2019-01-17T21:04:14.581129Z",
     "start_time": "2019-01-17T21:04:14.533609Z"
    }
   },
   "outputs": [],
   "source": [
    "my_mapbox_api = sc.textFile(\"mapbox_api.txt\").collect()[0]\n",
    "mapbox_access_token = my_mapbox_api"
   ]
  },
  {
   "cell_type": "code",
   "execution_count": 98,
   "metadata": {
    "ExecuteTime": {
     "end_time": "2019-01-17T21:23:24.786350Z",
     "start_time": "2019-01-17T21:16:39.938483Z"
    }
   },
   "outputs": [],
   "source": [
    "district_data = []\n",
    "for district in sf_pd_district_list:\n",
    "    dump = info_getter(district)\n",
    "    trace = go.Scattermapbox(\n",
    "                lat=dump[0],\n",
    "                lon=dump[1],\n",
    "                mode='markers',\n",
    "                marker=dict(\n",
    "                            size=2.5,\n",
    "                            color=dump[3]\n",
    "                           ),\n",
    "                text=dump[2],\n",
    "            )\n",
    "    district_data.append(trace)"
   ]
  },
  {
   "cell_type": "code",
   "execution_count": 113,
   "metadata": {
    "ExecuteTime": {
     "end_time": "2019-01-17T21:51:39.160204Z",
     "start_time": "2019-01-17T21:51:29.383854Z"
    }
   },
   "outputs": [],
   "source": [
    "import pickle\n",
    "# Dump the district_data\n",
    "filename = 'district_data_sfpd'\n",
    "outfile = open(filename, 'wb')\n",
    "pickle.dump(district_data, outfile)\n",
    "outfile.close()"
   ]
  },
  {
   "cell_type": "code",
   "execution_count": null,
   "metadata": {},
   "outputs": [],
   "source": [
    "# # Load the district_data\n",
    "# infile = open(filename, 'rb')\n",
    "# district_data = pickle.load(infile)\n",
    "# infile.close()"
   ]
  },
  {
   "cell_type": "code",
   "execution_count": 104,
   "metadata": {
    "ExecuteTime": {
     "end_time": "2019-01-17T21:33:35.362032Z",
     "start_time": "2019-01-17T21:33:35.329214Z"
    }
   },
   "outputs": [],
   "source": [
    "layout = go.Layout(\n",
    "    autosize=True,\n",
    "    hovermode='closest',\n",
    "    mapbox=dict(\n",
    "        accesstoken=mapbox_access_token,\n",
    "        bearing=0,\n",
    "        center=dict(\n",
    "            lat=37.77,\n",
    "            lon=-122.42\n",
    "        ),\n",
    "        pitch=0,\n",
    "        zoom=10\n",
    "    ),\n",
    ")\n",
    "\n",
    "# fig = dict(data=district_data, layout=layout) # This fails since too many to plot\n",
    "# py.iplot(fig, filename='SFPD by district')"
   ]
  },
  {
   "cell_type": "code",
   "execution_count": 103,
   "metadata": {
    "ExecuteTime": {
     "end_time": "2019-01-17T21:32:52.259227Z",
     "start_time": "2019-01-17T21:30:36.030808Z"
    }
   },
   "outputs": [
    {
     "name": "stdout",
     "output_type": "stream",
     "text": [
      "BAYVIEW : 217097\n",
      "CENTRAL : 220420\n",
      "INGLESIDE : 190593\n",
      "MISSION : 293940\n",
      "NORTHERN : 266869\n",
      "PARK : 123110\n",
      "RICHMOND : 114449\n",
      "SOUTHERN : 391669\n",
      "TARAVAL : 163620\n",
      "TENDERLOIN : 189017\n"
     ]
    }
   ],
   "source": [
    "for district in sf_pd_district_list:\n",
    "    print(f\"{district} : {sfpd_data_rdd.filter(lambda x: x[4] == district).count()}\")"
   ]
  },
  {
   "cell_type": "code",
   "execution_count": 109,
   "metadata": {
    "ExecuteTime": {
     "end_time": "2019-01-17T21:39:23.851658Z",
     "start_time": "2019-01-17T21:39:23.848126Z"
    }
   },
   "outputs": [],
   "source": [
    "# BAYVIEW\n",
    "fig = dict(data=[district_data[0]], layout=layout)\n",
    "py.iplot(fig, filename='SFPD BAYVIEW')"
   ]
  },
  {
   "cell_type": "code",
   "execution_count": 110,
   "metadata": {
    "ExecuteTime": {
     "end_time": "2019-01-17T21:39:38.210724Z",
     "start_time": "2019-01-17T21:39:38.207866Z"
    }
   },
   "outputs": [],
   "source": [
    "# MISSION\n",
    "fig = dict(data=[district_data[3]], layout=layout)\n",
    "py.iplot(fig, filename='SFPD MISSION')"
   ]
  },
  {
   "cell_type": "code",
   "execution_count": 112,
   "metadata": {
    "ExecuteTime": {
     "end_time": "2019-01-17T21:42:55.971515Z",
     "start_time": "2019-01-17T21:42:29.316943Z"
    }
   },
   "outputs": [
    {
     "data": {
      "text/html": [
       "<iframe id=\"igraph\" scrolling=\"no\" style=\"border:none;\" seamless=\"seamless\" src=\"https://plot.ly/~xulianrenzoku/20.embed\" height=\"525px\" width=\"100%\"></iframe>"
      ],
      "text/plain": [
       "<plotly.tools.PlotlyDisplay object>"
      ]
     },
     "execution_count": 112,
     "metadata": {},
     "output_type": "execute_result"
    }
   ],
   "source": [
    "# PARK\n",
    "fig = dict(data=[district_data[5]], layout=layout)\n",
    "py.iplot(fig, filename='SFPD PARK')"
   ]
  },
  {
   "cell_type": "code",
   "execution_count": null,
   "metadata": {},
   "outputs": [],
   "source": []
  }
 ],
 "metadata": {
  "kernelspec": {
   "display_name": "Python 3",
   "language": "python",
   "name": "python3"
  },
  "language_info": {
   "codemirror_mode": {
    "name": "ipython",
    "version": 3
   },
   "file_extension": ".py",
   "mimetype": "text/x-python",
   "name": "python",
   "nbconvert_exporter": "python",
   "pygments_lexer": "ipython3",
   "version": "3.6.8"
  }
 },
 "nbformat": 4,
 "nbformat_minor": 2
}
