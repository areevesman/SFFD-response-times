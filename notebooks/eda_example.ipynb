{
 "cells": [
  {
   "cell_type": "code",
   "execution_count": 1,
   "metadata": {},
   "outputs": [],
   "source": [
    "import pyspark\n",
    "from pyspark.sql.types import *\n",
    "import os\n",
    "import boto3\n",
    "import numpy as np"
   ]
  },
  {
   "cell_type": "code",
   "execution_count": 2,
   "metadata": {},
   "outputs": [],
   "source": [
    "sc = pyspark.SparkContext.getOrCreate()\n",
    "ss = pyspark.sql.SparkSession.builder.getOrCreate()"
   ]
  },
  {
   "cell_type": "code",
   "execution_count": 3,
   "metadata": {},
   "outputs": [],
   "source": [
    "bucket_name = 'msds697jonross.and.friends' # Add your bucket name\n",
    "file_name = 'sffd.csv' # select file\n",
    "s3 = boto3.resource('s3')\n",
    "bucket = s3.Bucket(bucket_name) \n",
    "obj = bucket.Object(key=file_name) # S3 uses key-value structure where key is your file name\n",
    "file_content = obj.get()[\"Body\"].read().decode(\"utf-8\") # Read the Body which is the contents of the file."
   ]
  },
  {
   "cell_type": "code",
   "execution_count": 4,
   "metadata": {},
   "outputs": [
    {
     "data": {
      "text/plain": [
       "4557045"
      ]
     },
     "execution_count": 4,
     "metadata": {},
     "output_type": "execute_result"
    }
   ],
   "source": [
    "# number of rows (subract header and empty line at end)\n",
    "rows = file_content.split('\\n')\n",
    "len(rows)-2"
   ]
  },
  {
   "cell_type": "code",
   "execution_count": 5,
   "metadata": {},
   "outputs": [
    {
     "data": {
      "text/plain": [
       "14"
      ]
     },
     "execution_count": 5,
     "metadata": {},
     "output_type": "execute_result"
    }
   ],
   "source": [
    "# number of  columns\n",
    "column_names = rows[0]\n",
    "len(column_names.split(','))"
   ]
  },
  {
   "cell_type": "code",
   "execution_count": 6,
   "metadata": {},
   "outputs": [
    {
     "data": {
      "text/plain": [
       "array(['Structure Fire,2004-04-15 23:49:38+00:00,2004-04-15 23:50:00+00:00,2004-04-15 23:50:19+00:00,2004-04-15 23:54:28+00:00,2004-04-15 23:57:46+00:00,,,Other,2004-04-16 00:18:31+00:00,500 Block of GEARY ST,94102,B01,03',\n",
       "       'Medical Incident,2013-04-02 21:47:07+00:00,2013-04-02 21:47:30+00:00,2013-04-02 21:47:56+00:00,2013-04-02 21:49:23+00:00,2013-04-02 21:52:03+00:00,,,Other,2013-04-02 22:04:42+00:00,200 Block of SENECA AVE,94112,B09,15'],\n",
       "      dtype='<U315')"
      ]
     },
     "execution_count": 6,
     "metadata": {},
     "output_type": "execute_result"
    }
   ],
   "source": [
    "# randomly sample rows\n",
    "sz=10000\n",
    "samples = np.random.choice(rows[1:], size=sz, replace=False)\n",
    "samples[:2]"
   ]
  },
  {
   "cell_type": "code",
   "execution_count": 7,
   "metadata": {},
   "outputs": [],
   "source": [
    "sffd_rdd = sc.parallelize(list(samples))\\\n",
    "    .filter(lambda x: len(x.split(','))==len(samples[0].split(',')))\\\n",
    "    .map(lambda x: x.split(','))"
   ]
  },
  {
   "cell_type": "code",
   "execution_count": 8,
   "metadata": {},
   "outputs": [
    {
     "data": {
      "text/plain": [
       "12"
      ]
     },
     "execution_count": 8,
     "metadata": {},
     "output_type": "execute_result"
    }
   ],
   "source": [
    "# number of rows removed\n",
    "sz - sffd_rdd.count()"
   ]
  },
  {
   "cell_type": "code",
   "execution_count": 9,
   "metadata": {},
   "outputs": [],
   "source": [
    "sffd_schema = StructType([StructField(\"call_type\", StringType(), False),\n",
    "                          StructField(\"received_timestamp\", StringType(), False),\n",
    "                          StructField(\"entry_timestamp\", StringType(), False),\n",
    "                          StructField(\"dispatch_timestamp\", StringType(), False),\n",
    "                          StructField(\"response_timestamp\", StringType(), False),\n",
    "                          StructField(\"on_scene_timestamp\", StringType(), False),\n",
    "                          StructField(\"transport_timestamp\", StringType(), False),\n",
    "                          StructField(\"hospital_timestamp\", StringType(), False),\n",
    "                          StructField(\"call_final_disposition\", StringType(), False),\n",
    "                          StructField(\"available_timestamp\", StringType(), False),\n",
    "                          StructField(\"address\", StringType(), False),\n",
    "                          StructField(\"zipcode_of_incident\", StringType(), False),\n",
    "                          StructField(\"battalion\", StringType(), False),\n",
    "                          StructField(\"station_area\", StringType(), False)\n",
    "                    ])"
   ]
  },
  {
   "cell_type": "code",
   "execution_count": 10,
   "metadata": {},
   "outputs": [],
   "source": [
    "sffd_df = ss.createDataFrame(sffd_rdd, sffd_schema)"
   ]
  },
  {
   "cell_type": "code",
   "execution_count": 11,
   "metadata": {},
   "outputs": [
    {
     "name": "stdout",
     "output_type": "stream",
     "text": [
      "call_type\n",
      "----------------------\n",
      "received_timestamp\n",
      "----------------------\n",
      "entry_timestamp\n",
      "----------------------\n",
      "dispatch_timestamp\n",
      "----------------------\n",
      "response_timestamp\n",
      "----------------------\n",
      "on_scene_timestamp\n",
      "----------------------\n",
      "transport_timestamp\n",
      "----------------------\n",
      "hospital_timestamp\n",
      "----------------------\n",
      "call_final_disposition\n",
      "----------------------\n",
      "available_timestamp\n",
      "----------------------\n",
      "address\n",
      "----------------------\n",
      "zipcode_of_incident\n",
      "----------------------\n",
      "battalion\n",
      "----------------------\n",
      "station_area\n"
     ]
    }
   ],
   "source": [
    "print('\\n----------------------\\n'.join(x for x in column_names.split(',')))"
   ]
  },
  {
   "cell_type": "code",
   "execution_count": 12,
   "metadata": {},
   "outputs": [
    {
     "name": "stdout",
     "output_type": "stream",
     "text": [
      "+--------------------+-----+\n",
      "|           call_type|count|\n",
      "+--------------------+-----+\n",
      "|    Medical Incident| 6527|\n",
      "|      Structure Fire| 1279|\n",
      "|              Alarms| 1062|\n",
      "|   Traffic Collision|  409|\n",
      "|Citizen Assist / ...|  187|\n",
      "|               Other|  157|\n",
      "|        Outside Fire|  109|\n",
      "|Gas Leak (Natural...|   45|\n",
      "|        Water Rescue|   44|\n",
      "|        Vehicle Fire|   30|\n",
      "|Elevator / Escala...|   30|\n",
      "|Odor (Strange / U...|   28|\n",
      "|   Electrical Hazard|   22|\n",
      "|Smoke Investigati...|   22|\n",
      "|          Fuel Spill|    9|\n",
      "|              HazMat|    7|\n",
      "|           Explosion|    5|\n",
      "|Industrial Accidents|    4|\n",
      "|  Aircraft Emergency|    3|\n",
      "|   High Angle Rescue|    2|\n",
      "+--------------------+-----+\n",
      "only showing top 20 rows\n",
      "\n"
     ]
    }
   ],
   "source": [
    "sffd_df.groupBy(\"call_type\")\\\n",
    "    .count()\\\n",
    "    .orderBy(\"count\", ascending=[0])\\\n",
    "    .show()"
   ]
  },
  {
   "cell_type": "code",
   "execution_count": null,
   "metadata": {},
   "outputs": [],
   "source": []
  }
 ],
 "metadata": {
  "anaconda-cloud": {},
  "kernelspec": {
   "display_name": "Python 3",
   "language": "python",
   "name": "python3"
  },
  "language_info": {
   "codemirror_mode": {
    "name": "ipython",
    "version": 3
   },
   "file_extension": ".py",
   "mimetype": "text/x-python",
   "name": "python",
   "nbconvert_exporter": "python",
   "pygments_lexer": "ipython3",
   "version": "3.6.6"
  },
  "varInspector": {
   "cols": {
    "lenName": 16,
    "lenType": 16,
    "lenVar": 40
   },
   "kernels_config": {
    "python": {
     "delete_cmd_postfix": "",
     "delete_cmd_prefix": "del ",
     "library": "var_list.py",
     "varRefreshCmd": "print(var_dic_list())"
    },
    "r": {
     "delete_cmd_postfix": ") ",
     "delete_cmd_prefix": "rm(",
     "library": "var_list.r",
     "varRefreshCmd": "cat(var_dic_list()) "
    }
   },
   "types_to_exclude": [
    "module",
    "function",
    "builtin_function_or_method",
    "instance",
    "_Feature"
   ],
   "window_display": false
  }
 },
 "nbformat": 4,
 "nbformat_minor": 1
}
