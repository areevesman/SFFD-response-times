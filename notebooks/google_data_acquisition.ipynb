{
 "cells": [
  {
   "cell_type": "code",
   "execution_count": 1,
   "metadata": {},
   "outputs": [],
   "source": [
    "import os\n",
    "import json\n",
    "import requests\n",
    "import pandas as pd"
   ]
  },
  {
   "cell_type": "code",
   "execution_count": 2,
   "metadata": {},
   "outputs": [],
   "source": [
    "with open('/Users/areevesman/Desktop/google_routes_api.txt', \"r\") as f:\n",
    "    apikey = f.read()\n",
    "    f.close()"
   ]
  },
  {
   "cell_type": "code",
   "execution_count": 3,
   "metadata": {},
   "outputs": [],
   "source": [
    "def map_station(x):\n",
    "    return(\"San+Francisco+fire+department+station+\"+str(int(x)))\n",
    "\n",
    "# replaces spaces with '+' and removes '#'\n",
    "def map_address(x):\n",
    "    return(x.replace(' ','+').replace('#','')+\"+San+Francisco+CA\")"
   ]
  },
  {
   "cell_type": "code",
   "execution_count": 4,
   "metadata": {},
   "outputs": [],
   "source": [
    "def add_cols(path='../Data/small_pair_files', file='xaa', output_dir=\"/Users/areevesman//Desktop/processed\", apikey=apikey):\n",
    "    if not os.path.exists(output_dir):\n",
    "        print(f\"Creating {output_dir} to save results.\")\n",
    "        os.mkdir(output_dir)\n",
    "    pairs = pd.read_csv(os.path.join(path, file),header=None, names=['station_area','address'])\n",
    "    stations = list(pairs.station_area.map(map_station))\n",
    "    addresses = list(pairs.address.map(map_address))\n",
    "    n = pairs.shape[0]\n",
    "    distances = ['']*n\n",
    "    durations = ['']*n\n",
    "    station_areas_OG = pairs.station_area.values\n",
    "    addresses_OG = pairs.address.values\n",
    "    unknowns = []\n",
    "    for j, origin, destination in zip(range(n), stations, addresses):\n",
    "        if j % 50 == 0:\n",
    "            print(f\"{j+1} of {n}\")\n",
    "        try:\n",
    "            url = f'https://maps.googleapis.com/maps/api/distancematrix/json?origins={origin}&destinations={destination}&key={apikey}'\n",
    "            r = requests.get(url)\n",
    "            js = r.json()\n",
    "            e = js['rows'][0]['elements']\n",
    "            distances[j] = e[0]['distance']['value']\n",
    "            durations[j] = e[0]['duration']['value']  / 60\n",
    "        except:\n",
    "            unknowns.append((station_areas_OG[j],addresses_OG[j]))\n",
    "            distances[j] = 'unknown'\n",
    "            durations[j] = 'unknown'\n",
    "    d = {'station_area' : station_areas_OG,\n",
    "         'address' : addresses_OG,\n",
    "         'distance' : distances,\n",
    "         'duration' : durations}\n",
    "    output_data = pd.DataFrame.from_dict(d)\n",
    "    output_data.to_csv(f\"{output_dir}/{file}_processed.csv\", index=False)\n",
    "    print(f\"{len(unknowns)} of {n} not found\")\n",
    "    return unknowns"
   ]
  },
  {
   "cell_type": "code",
   "execution_count": 5,
   "metadata": {},
   "outputs": [
    {
     "name": "stdout",
     "output_type": "stream",
     "text": [
      "1 of 999\n",
      "51 of 999\n",
      "101 of 999\n",
      "151 of 999\n",
      "201 of 999\n",
      "251 of 999\n",
      "301 of 999\n",
      "351 of 999\n",
      "401 of 999\n",
      "451 of 999\n",
      "501 of 999\n",
      "551 of 999\n",
      "601 of 999\n",
      "651 of 999\n",
      "701 of 999\n",
      "751 of 999\n",
      "801 of 999\n",
      "851 of 999\n",
      "901 of 999\n",
      "951 of 999\n",
      "3 of 999 not found\n",
      "CPU times: user 16.3 s, sys: 1.17 s, total: 17.5 s\n",
      "Wall time: 8min 17s\n"
     ]
    },
    {
     "data": {
      "text/plain": [
       "[(1, '0 Block of ASHBURTON PL'),\n",
       " (1, 'EDDY ST/LARKIN ST'),\n",
       " (2, '0 Block of STONE ST')]"
      ]
     },
     "execution_count": 5,
     "metadata": {},
     "output_type": "execute_result"
    }
   ],
   "source": [
    "%%time\n",
    "\n",
    "add_cols(path='../Data/small_pair_files', file='xaa', apikey=apikey)"
   ]
  },
  {
   "cell_type": "code",
   "execution_count": 6,
   "metadata": {},
   "outputs": [
    {
     "name": "stdout",
     "output_type": "stream",
     "text": [
      "1 of 1000\n",
      "51 of 1000\n",
      "101 of 1000\n",
      "151 of 1000\n",
      "201 of 1000\n",
      "251 of 1000\n",
      "301 of 1000\n",
      "351 of 1000\n",
      "401 of 1000\n",
      "451 of 1000\n",
      "501 of 1000\n",
      "551 of 1000\n",
      "601 of 1000\n",
      "651 of 1000\n",
      "701 of 1000\n",
      "751 of 1000\n",
      "801 of 1000\n",
      "851 of 1000\n",
      "901 of 1000\n",
      "951 of 1000\n",
      "1 of 1000 not found\n",
      "[(8, 'CALL BOX: 5TH ST/HARRISON ST')]\n",
      "CPU times: user 16.2 s, sys: 1.22 s, total: 17.4 s\n",
      "Wall time: 10min 39s\n"
     ]
    }
   ],
   "source": [
    "%%time\n",
    "\n",
    "x = add_cols(path='../Data/small_pair_files', file='xae', apikey=apikey) # process data, make new file\n",
    "print(x) # print what was unknown"
   ]
  },
  {
   "cell_type": "code",
   "execution_count": null,
   "metadata": {},
   "outputs": [],
   "source": []
  }
 ],
 "metadata": {
  "anaconda-cloud": {},
  "kernelspec": {
   "display_name": "Python 3",
   "language": "python",
   "name": "python3"
  },
  "language_info": {
   "codemirror_mode": {
    "name": "ipython",
    "version": 3
   },
   "file_extension": ".py",
   "mimetype": "text/x-python",
   "name": "python",
   "nbconvert_exporter": "python",
   "pygments_lexer": "ipython3",
   "version": "3.6.6"
  },
  "varInspector": {
   "cols": {
    "lenName": 16,
    "lenType": 16,
    "lenVar": 40
   },
   "kernels_config": {
    "python": {
     "delete_cmd_postfix": "",
     "delete_cmd_prefix": "del ",
     "library": "var_list.py",
     "varRefreshCmd": "print(var_dic_list())"
    },
    "r": {
     "delete_cmd_postfix": ") ",
     "delete_cmd_prefix": "rm(",
     "library": "var_list.r",
     "varRefreshCmd": "cat(var_dic_list()) "
    }
   },
   "types_to_exclude": [
    "module",
    "function",
    "builtin_function_or_method",
    "instance",
    "_Feature"
   ],
   "window_display": false
  }
 },
 "nbformat": 4,
 "nbformat_minor": 1
}
